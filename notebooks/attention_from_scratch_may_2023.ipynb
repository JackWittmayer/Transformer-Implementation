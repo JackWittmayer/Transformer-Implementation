{
  "cells": [
    {
      "cell_type": "markdown",
      "metadata": {
        "id": "view-in-github",
        "colab_type": "text"
      },
      "source": [
        "<a href=\"https://colab.research.google.com/github/Jackwitt77/Transformer-Implementation/blob/main/attention_from_scratch_may_2023.ipynb\" target=\"_parent\"><img src=\"https://colab.research.google.com/assets/colab-badge.svg\" alt=\"Open In Colab\"/></a>"
      ]
    },
    {
      "cell_type": "code",
      "execution_count": 1,
      "metadata": {
        "colab": {
          "base_uri": "https://localhost:8080/"
        },
        "id": "6D_W7a6D1Wh6",
        "outputId": "6663af48-87da-4ef6-aecb-3da0189a6c18"
      },
      "outputs": [
        {
          "output_type": "stream",
          "name": "stdout",
          "text": [
            "Looking in indexes: https://pypi.org/simple, https://us-python.pkg.dev/colab-wheels/public/simple/\n",
            "Collecting tokenizers\n",
            "  Downloading tokenizers-0.13.3-cp310-cp310-manylinux_2_17_x86_64.manylinux2014_x86_64.whl (7.8 MB)\n",
            "\u001b[2K     \u001b[90m━━━━━━━━━━━━━━━━━━━━━━━━━━━━━━━━━━━━━━━━\u001b[0m \u001b[32m7.8/7.8 MB\u001b[0m \u001b[31m25.8 MB/s\u001b[0m eta \u001b[36m0:00:00\u001b[0m\n",
            "\u001b[?25hInstalling collected packages: tokenizers\n",
            "Successfully installed tokenizers-0.13.3\n"
          ]
        }
      ],
      "source": [
        "!pip install tokenizers"
      ]
    },
    {
      "cell_type": "code",
      "execution_count": 2,
      "metadata": {
        "id": "p1A-GVox07sY"
      },
      "outputs": [],
      "source": [
        "import re\n",
        "import string\n",
        "import os\n",
        "import pickle\n",
        "from unicodedata import normalize\n",
        "from collections import Counter\n",
        "\n",
        "import torch\n",
        "import torch.nn as nn\n",
        "import torch.nn.functional as F\n",
        "import torch.optim as optim\n",
        "from torch.utils.data import Dataset\n",
        "from torchvision import datasets\n",
        "from torch.utils.data import DataLoader\n",
        "from torch.nn.functional import log_softmax, pad\n",
        "\n",
        "from tokenizers import Tokenizer\n",
        "from tokenizers.models import BPE\n",
        "from tokenizers.pre_tokenizers import Whitespace\n",
        "from tokenizers.trainers import BpeTrainer\n",
        "\n",
        "import random\n",
        "\n",
        "import numpy as np\n",
        "import math\n",
        "import matplotlib.pyplot as plt"
      ]
    },
    {
      "cell_type": "code",
      "execution_count": 3,
      "metadata": {
        "id": "XpHKI8WMK0lM"
      },
      "outputs": [],
      "source": [
        "device = torch.device('cuda')"
      ]
    },
    {
      "cell_type": "code",
      "execution_count": 4,
      "metadata": {
        "id": "YjTsSsYf_baI"
      },
      "outputs": [],
      "source": [
        "random.seed(\"25\")"
      ]
    },
    {
      "cell_type": "code",
      "execution_count": 5,
      "metadata": {
        "id": "7TO5GWfqKNNm"
      },
      "outputs": [],
      "source": [
        "enRawName = \"drive/MyDrive/colab data/multi30kEnTrain.txt\"\n",
        "deRawName = \"drive/MyDrive/colab data/multi30kDeTrain.txt\"\n",
        "en30kVal = \"drive/MyDrive/colab data/multi30kEnVal.txt\"\n",
        "de30kVal = \"drive/MyDrive/colab data/multi30kDeVal.txt\"\n",
        "englishCleanName = \"data/english_tokens.pkl\"\n",
        "germanCleanName = \"data/german_tokens.pkl\"\n",
        "englishSortedName = \"data/englishSorted.pkl\"\n",
        "germanSortedName = \"data/germanSorted.pkl\"\n",
        "\n",
        "truncEn = \"drive/MyDrive/colab data/truncEn.pkl\"\n",
        "truncDe = \"drive/MyDrive/colab data/truncDe.pkl\"\n",
        "\n",
        "enTokenizerName = \"drive/MyDrive/colab data/enTokenizer.pkl\"\n",
        "deTokenizerName = \"drive/MyDrive/colab data/deTokenizer.pkl\"\n",
        "pairsName = \"drive/MyDrive/colab data/pairs.pkl\"\n",
        "folder = \"drive/MyDrive/colab data/\"\n",
        "\n",
        "enTrainingFileName = folder + \"enTraining\"\n",
        "deTrainingFileName = folder + \"deTraining\"\n",
        "enTestFileName = folder + \"enTest\"\n",
        "deTestFileName = folder + \"deTest\"\n",
        "enValFileName = folder + \"enValidation\"\n",
        "deValFileName = folder + \"deValidation\"\n",
        "\n",
        "enCombinedFileName = folder + \"enCombined\"\n",
        "deCombinedFileName = folder + \"deCombined\""
      ]
    },
    {
      "cell_type": "code",
      "execution_count": 6,
      "metadata": {
        "id": "lwin0ALnKS4q"
      },
      "outputs": [],
      "source": [
        "# load doc into memory\n",
        "def load_doc(filename):\n",
        "    # open the file as read only\n",
        "    file = open(filename, mode='rt')\n",
        "    # read all text\n",
        "    text = file.read()\n",
        "    # close the file\n",
        "    file.close()\n",
        "    return text"
      ]
    },
    {
      "cell_type": "code",
      "execution_count": 7,
      "metadata": {
        "id": "d8iH3pUDKUAz"
      },
      "outputs": [],
      "source": [
        "# split a loaded document into sentences\n",
        "def to_sentences(doc):\n",
        "    return doc.strip().split('\\n')"
      ]
    },
    {
      "cell_type": "code",
      "execution_count": 8,
      "metadata": {
        "id": "VbUz8uUgKU-b"
      },
      "outputs": [],
      "source": [
        "# clean a list of lines\n",
        "def clean_lines(lines):\n",
        "    cleaned = list()\n",
        "    # prepare regex for char filtering\n",
        "    re_print = re.compile('[^%s]' % re.escape(string.printable))\n",
        "    # prepare translation table for removing punctuation\n",
        "    #table = str.maketrans('', '', string.punctuation)\n",
        "    for line in lines:\n",
        "        # normalize unicode characters\n",
        "        line = normalize('NFD', line).encode('ascii', 'ignore')\n",
        "        line = line.decode('UTF-8')\n",
        "        # tokenize on white space\n",
        "        line = line.split()\n",
        "        # convert to lower case\n",
        "        #line = [word.lower() for word in line]\n",
        "        # remove punctuation from each token\n",
        "        #line = [word.translate(table) for word in line]\n",
        "        # remove non-printable chars form each token\n",
        "        line = [re_print.sub('', w) for w in line]\n",
        "        # remove tokens with numbers in them\n",
        "        line = [word for word in line if word.isalpha()]\n",
        "        # store as string\n",
        "        cleaned.append(' '.join(line))\n",
        "    return cleaned"
      ]
    },
    {
      "cell_type": "code",
      "execution_count": 9,
      "metadata": {
        "id": "ak3BlJDpKV_K"
      },
      "outputs": [],
      "source": [
        "def cleanLine(line, addSOS=False):\n",
        "    # prepare regex for char filtering\n",
        "    #re_print = re.compile('[^%s]' % re.escape(string.printable))\n",
        "    # normalize unicode characters\n",
        "    #line = normalize('NFD', line).encode('ascii', 'ignore')\n",
        "    #line = line.decode('UTF-8')\n",
        "    # tokenize on white space\n",
        "    line = line.split()\n",
        "    # convert to lower case\n",
        "    #line = [word.lower() for word in line]\n",
        "    # remove punctuation from each token\n",
        "    #line = [word.translate(table) for word in line]\n",
        "    # remove non-printable chars form each token\n",
        "    #line = [re_print.sub('', w) for w in line]\n",
        "    if addSOS:\n",
        "        line.insert(0, \"[SOS]\")\n",
        "    line.append(\"[EOS]\")\n",
        "    line = (' '.join(line))\n",
        "    return line"
      ]
    },
    {
      "cell_type": "code",
      "execution_count": 10,
      "metadata": {
        "id": "0RZiMDKqKXA7"
      },
      "outputs": [],
      "source": [
        "def pairSentences(englishSentences, germanSentences):\n",
        "    skips = [\"\", \".\"]\n",
        "    pairs = []\n",
        "    for i in range(len(englishSentences)):\n",
        "        englishSentences[i] = cleanLine(englishSentences[i])\n",
        "        germanSentences[i] = cleanLine(germanSentences[i], False)\n",
        "        if englishSentences[i] in skips or germanSentences[i] in skips:\n",
        "            continue\n",
        "        enLen = len(englishSentences[i])\n",
        "        deLen = len(germanSentences[i])\n",
        "        \n",
        "        if (enLen / deLen) > 10 or (deLen / enLen) > 10:\n",
        "            print(len(englishSentences[i]))\n",
        "            print(len(germanSentences[i]))\n",
        "            print(\"English:\", englishSentences[i])\n",
        "            print(\"German:\", germanSentences[i])\n",
        "            continue\n",
        "        if enLen <= 3 or deLen <= 3:\n",
        "            continue\n",
        "        pairs.append((englishSentences[i], germanSentences[i]))\n",
        "    pairs = sorted(pairs, key=lambda x: len(x[0].split(\" \")))\n",
        "    return pairs"
      ]
    },
    {
      "cell_type": "code",
      "execution_count": 11,
      "metadata": {
        "colab": {
          "base_uri": "https://localhost:8080/"
        },
        "id": "kg0DiefSLHaq",
        "outputId": "3ac7f0e7-afa9-4b83-8509-c6c0dbffd717"
      },
      "outputs": [
        {
          "output_type": "stream",
          "name": "stdout",
          "text": [
            "Mounted at /content/drive\n"
          ]
        }
      ],
      "source": [
        "from google.colab import drive\n",
        "drive.mount('/content/drive')"
      ]
    },
    {
      "cell_type": "code",
      "execution_count": 12,
      "metadata": {
        "id": "v9Fm8YcktIiG"
      },
      "outputs": [],
      "source": [
        "def writeLinesWithNewLines(lines, fileName):\n",
        "  file = open(fileName, \"w\")\n",
        "  for line in lines:\n",
        "    file.write(line + \"\\n\")"
      ]
    },
    {
      "cell_type": "code",
      "execution_count": 13,
      "metadata": {
        "id": "lJJX6sAswBEu"
      },
      "outputs": [],
      "source": [
        "def createDatasets(suffix = \".txt\", size=10000):\n",
        "  enLines = to_sentences(load_doc(englishRawName))\n",
        "  deLines = to_sentences(load_doc(germanRawName))\n",
        "\n",
        "  temp = list(zip(enLines, deLines))\n",
        "  random.shuffle(temp)\n",
        "  res1, res2 = zip(*temp)\n",
        "  # res1 and res2 come out as tuples, and so must be converted to lists.\n",
        "  enLines, deLines = list(res1)[:size], list(res2)[:size]\n",
        "\n",
        "  trainEnLines = enLines[:(int)(0.8*len(enLines))]\n",
        "  testEnLines = enLines[(int)(0.8*len(enLines)):(int)(0.9*len(enLines))]\n",
        "  valEnLines = enLines[(int)(0.9*len(enLines)):]\n",
        "\n",
        "  trainDeLines = deLines[:(int)(0.8*len(deLines))]\n",
        "  testDeLines = deLines[(int)(0.8*len(deLines)):(int)(0.9*len(deLines))]\n",
        "  valDeLines = deLines[(int)(0.9*len(deLines)):]\n",
        "\n",
        "  enFileNames = [enTrainingFileName, enTestFileName, enValFileName, enCombinedFileName]\n",
        "  deFileNames = [deTrainingFileName, deTestFileName, deValFileName, deCombinedFileName]\n",
        "\n",
        "  enFileNames = [name + suffix for name in enFileNames]\n",
        "  deFileNames = [name + suffix for name in deFileNames]\n",
        "  enDatasets = [trainEnLines, testEnLines, valEnLines, enLines]\n",
        "  deDatasets = [trainDeLines, testDeLines, valDeLines, deLines]\n",
        "\n",
        "  enPair = (enDatasets, enFileNames)\n",
        "  dePair = (deDatasets, deFileNames)\n",
        "\n",
        "  for pair in [enPair, dePair]:\n",
        "    for i in range(len(pair[0])):\n",
        "      writeLinesWithNewLines(pair[0][i], pair[1][i])\n",
        "  "
      ]
    },
    {
      "cell_type": "code",
      "execution_count": 14,
      "metadata": {
        "id": "3jRc_KSXPJny"
      },
      "outputs": [],
      "source": [
        "def createTrainTestVal(numLines):\n",
        "  trainEnLines = to_sentences(load_doc(enTrainingFileName))\n",
        "  testEnLines = to_sentences(load_doc(enTestFileName))\n",
        "  valEnLines = to_sentences(load_doc(enValFileName))\n",
        "\n",
        "  trainDeLines = to_sentences(load_doc(deTrainingFileName))\n",
        "  testDeLines = to_sentences(load_doc(deTestFileName))\n",
        "  valDeLines = to_sentences(load_doc(deValFileName))\n",
        "\n",
        "  trainEnLines, trainDeLines = \\\n",
        "              zip(*random.sample(list(zip(trainEnLines, trainDeLines)), (int) (0.8 * numLines)))\n",
        "  testEnLines, testDeLines = \\\n",
        "              zip(*random.sample(list(zip(testEnLines, testDeLines)), (int)(0.1* numLines)))\n",
        "  valEnLines, valDeLines = \\\n",
        "              zip(*random.sample(list(zip(valEnLines, valDeLines)), (int)(0.1*numLines)))\n",
        "\n",
        "  enAll = trainEnLines + testEnLines + valEnLines\n",
        "  deAll = trainDeLines + testDeLines + valDeLines\n",
        "\n",
        "  return trainEnLines, trainDeLines, testEnLines, testDeLines, valEnLines, valDeLines, enAll, deAll\n"
      ]
    },
    {
      "cell_type": "code",
      "execution_count": null,
      "metadata": {
        "id": "npMpD1Mxhrwk"
      },
      "outputs": [],
      "source": [
        "# englishSentences = to_sentences(load_doc(englishRawName))\n",
        "# germanSentences = to_sentences(load_doc(germanRawName))\n",
        "\n",
        "# temp = list(zip(englishSentences, germanSentences))\n",
        "# random.shuffle(temp)\n",
        "# res1, res2 = zip(*temp)\n",
        "# # res1 and res2 come out as tuples, and so must be converted to lists.\n",
        "# englishSentences, germanSentences = list(res1), list(res2)\n",
        "\n",
        "# writeLinesWithNewLines(englishSentences[:(int)(0.8*len(englishSentences))], folder + \"training.en\")\n",
        "# writeLinesWithNewLines(germanSentences[:(int)(0.8*len(germanSentences))], folder + \"training.de\")"
      ]
    },
    {
      "cell_type": "code",
      "execution_count": null,
      "metadata": {
        "id": "DvPdS3gBmrk7"
      },
      "outputs": [],
      "source": [
        "# writeLinesWithNewLines(englishSentences[(int)(0.8*len(englishSentences)):(int)(0.9*len(englishSentences))], folder + \"test.en\")\n",
        "# writeLinesWithNewLines(germanSentences[(int)(0.8*len(germanSentences)):(int)(0.9*len(germanSentences))], folder + \"test.de\")"
      ]
    },
    {
      "cell_type": "code",
      "execution_count": null,
      "metadata": {
        "id": "rnmOOUGmnbC_"
      },
      "outputs": [],
      "source": [
        "# writeLinesWithNewLines(englishSentences[(int)(0.9*len(englishSentences)):], enVal)\n",
        "# writeLinesWithNewLines(germanSentences[(int)(0.9*len(germanSentences)):], deVal)"
      ]
    },
    {
      "cell_type": "code",
      "execution_count": 15,
      "metadata": {
        "id": "pxOZ_X56KYCz"
      },
      "outputs": [],
      "source": [
        "import random\n",
        "class SentenceDataset(Dataset):\n",
        "    def __init__(self, enFileName, deFileName, newPairs = True):\n",
        "        englishSentences = to_sentences(load_doc(enFileName))\n",
        "        germanSentences = to_sentences(load_doc(deFileName))\n",
        "        if not os.path.exists(pairsName) or newPairs:\n",
        "            print(\"Creating pairs...\")\n",
        "            #self.englishSentences, self.germanSentences = \\\n",
        "             # zip(*random.sample(list(zip(self.englishSentences, self.germanSentences)), numLines))\n",
        "            englishSentences = list(englishSentences)\n",
        "            germanSentences = list(germanSentences)\n",
        "            self.pairs = pairSentences(englishSentences, germanSentences)\n",
        "            print(len(self.pairs))\n",
        "            pickle.dump(self.pairs, open(pairsName, \"wb\"))\n",
        "            # pickle.dump(englishSentences, open(truncEn, \"wb\"))\n",
        "            # pickle.dump(germanSentences, open(truncDe, \"wb\"))\n",
        "        else:\n",
        "            # self.englishSentences = pickle.load(open(truncEn, \"rb\"))\n",
        "            # self.germanSentences = pickle.load(open(truncDe, \"rb\"))\n",
        "            print(\"Loading pairs...\")\n",
        "            self.pairs = pickle.load(open(pairsName, \"rb\"))\n",
        "        \n",
        "    def __len__(self):\n",
        "        return len(self.pairs)\n",
        "    \n",
        "    def __getitem__(self, index):\n",
        "        return self.pairs[index]"
      ]
    },
    {
      "cell_type": "code",
      "execution_count": 16,
      "metadata": {
        "id": "-AIq72ayysCO"
      },
      "outputs": [],
      "source": [
        "def setupTokenizers(enDataName, deDataName, newTokenizer = False, vocab_size_src=60000, vocab_size_tgt = 37000, enTokenizerName = folder+\"en10ktokenizer.pkl\", deTokenizerName = folder + \"de10ktokenizer.pkl\"):\n",
        "  if not os.path.exists(enTokenizerName) or newTokenizer:\n",
        "      print(\"creating en tokenizer...\")\n",
        "      enTokenizer = Tokenizer(BPE(unk_token=\"[UNK]\"))\n",
        "      enTokenizer.pre_tokenizer = Whitespace()\n",
        "      trainer = BpeTrainer(vocab_size = vocab_size_src, special_tokens=[\"[SOS]\", \"[EOS]\", \"[PAD]\", \"[UNK]\"])\n",
        "      enTokenizer.train([enDataName], trainer=trainer)\n",
        "      pickle.dump(enTokenizer, open(enTokenizerName, \"wb\"))\n",
        "  if not os.path.exists(deTokenizerName) or newTokenizer:\n",
        "      print(\"creating de tokenizer...\")\n",
        "      deTokenizer = Tokenizer(BPE())\n",
        "      deTokenizer.pre_tokenizer = Whitespace()\n",
        "      trainer = BpeTrainer(vocab_size = vocab_size_tgt, special_tokens=[\"[SOS]\", \"[EOS]\", \"[PAD]\", \"[UNK]\"])\n",
        "      deTokenizer.train([deDataName], trainer=trainer)\n",
        "      pickle.dump(deTokenizer, open(deTokenizerName, \"wb\"))\n",
        "  else:\n",
        "      print(\"Loading tokenizer...\")\n",
        "      enTokenizer = pickle.load(open(enTokenizerName, \"rb\"))\n",
        "      deTokenizer = pickle.load(open(deTokenizerName, \"rb\"))\n",
        "  return enTokenizer, deTokenizer"
      ]
    },
    {
      "cell_type": "code",
      "execution_count": 17,
      "metadata": {
        "id": "3chyfSXDKZSv"
      },
      "outputs": [],
      "source": [
        "import time\n",
        "PADDING_IDX = 2\n",
        "class PadCollate:\n",
        "    \"\"\"\n",
        "    a variant of callate_fn that pads according to the longest sequence in\n",
        "    a batch of sequences\n",
        "    \"\"\"\n",
        "\n",
        "    def __init__(self, enTokenizer, deTokenizer):\n",
        "          self.enTokenizer = enTokenizer\n",
        "          self.deTokenizer = deTokenizer\n",
        "\n",
        "    def pad_collate(self, batch):\n",
        "        \"\"\"\n",
        "        args:\n",
        "            batch - list of (String, String)\n",
        "\n",
        "        reutrn:\n",
        "            xs - a tensor of all examples in 'batch' after padding\n",
        "            ys - a LongTensor of all labels in batch\n",
        "        \"\"\"\n",
        "        startTime = time.time()\n",
        "        # find longest sequence\n",
        "        Enlengths = [len(x[0].split(\" \")) for x in batch]\n",
        "        #print(\"english lengths:\", Enlengths)\n",
        "        Delengths = [len(x[1].split(\" \")) for x in batch]\n",
        "        #print(\"german lengths:\", Delengths)\n",
        "        max_len1 = max(Enlengths)\n",
        "        max_len2 = max(Delengths)\n",
        "        max_len = max([max_len1, max_len2])\n",
        "        self.enTokenizer.enable_padding(pad_id = PADDING_IDX, pad_token=\"[PAD]\", length=max_len)\n",
        "        self.enTokenizer.enable_truncation(max_length=max_len)\n",
        "        self.deTokenizer.enable_padding(pad_id = PADDING_IDX, pad_token=\"[PAD]\", length=max_len)\n",
        "        self.deTokenizer.enable_truncation(max_length=max_len)\n",
        "        english = [pair[0] for pair in batch]\n",
        "        german = [pair[1] for pair in batch]\n",
        "        enTokens = [line.ids for line in self.enTokenizer.encode_batch(english)]\n",
        "        deTokens = [line.ids for line in self.deTokenizer.encode_batch(german)]\n",
        "        for i in range(len(deTokens)):\n",
        "            deTokens[i].insert(0,0)\n",
        "#         print(english[0])\n",
        "#         print(german[0])\n",
        "#         print(enTokens[0])\n",
        "#         print(deTokens[0])\n",
        "        englishEncoded = torch.IntTensor(enTokens)\n",
        "        germanEncoded = torch.IntTensor(deTokens)\n",
        "        #print(\"tokenization took\", time.time()-startTime)\n",
        "        #print(\"englishEncoded\", englishEncoded)\n",
        "        return englishEncoded, germanEncoded\n",
        "\n",
        "    def __call__(self, batch):\n",
        "        return self.pad_collate(batch)\n"
      ]
    },
    {
      "cell_type": "code",
      "execution_count": 18,
      "metadata": {
        "id": "p-raRF4xKall"
      },
      "outputs": [],
      "source": [
        "class EmbeddingLayer(nn.Module):\n",
        "    def __init__(self, vocabSize, embeddingSize, padding_idx):\n",
        "        super().__init__()\n",
        "        self.embedding = nn.Embedding(vocabSize, embeddingSize, padding_idx = padding_idx)\n",
        "        self.embeddingSize = embeddingSize\n",
        "        \n",
        "    def forward(self, sentenceBatch):\n",
        "        return self.embedding(sentenceBatch) * math.sqrt(self.embeddingSize)"
      ]
    },
    {
      "cell_type": "code",
      "execution_count": 19,
      "metadata": {
        "id": "Chq2BdfDKboq"
      },
      "outputs": [],
      "source": [
        "class PositionalEncoding(nn.Module):\n",
        "\n",
        "    def __init__(self, d_model, dropout = 0.1, max_len=5000):\n",
        "        super().__init__()\n",
        "        self.dropout = nn.Dropout(p=dropout)\n",
        "\n",
        "        # Compute the positional encodings once in log space.\n",
        "        pe = torch.zeros(max_len, d_model)\n",
        "        position = torch.arange(0, max_len).unsqueeze(1)\n",
        "        div_term = torch.exp(\n",
        "            torch.arange(0, d_model, 2) * -(math.log(10000.0) / d_model)\n",
        "        )\n",
        "        pe[:, 0::2] = torch.sin(position * div_term)\n",
        "        pe[:, 1::2] = torch.cos(position * div_term)\n",
        "        pe = pe.unsqueeze(0)\n",
        "        self.register_buffer(\"pe\", pe)\n",
        "\n",
        "    def forward(self, x):\n",
        "        x = x + self.pe[:, : x.size(1)].requires_grad_(False)\n",
        "        return self.dropout(x)\n"
      ]
    },
    {
      "cell_type": "code",
      "execution_count": 20,
      "metadata": {
        "id": "DKLUvpHyKcqi"
      },
      "outputs": [],
      "source": [
        "def attention(queries, keys, values, dropout, mask=None):\n",
        "    keysTransposed = torch.transpose(keys, -2, -1)\n",
        "    dotProduct = torch.matmul(queries, keysTransposed)\n",
        "    scaledDotProduct = dotProduct / math.sqrt(keys.shape[-1])\n",
        "    if mask is not None:\n",
        "        weights = scaledDotProduct.masked_fill(mask == 0, -1e9)\n",
        "    else:\n",
        "        weights = scaledDotProduct\n",
        "    \n",
        "    weights = torch.softmax(weights, -1)\n",
        "    weights = dropout(weights)\n",
        "    finalProduct = torch.matmul(weights, values)\n",
        "    return finalProduct"
      ]
    },
    {
      "cell_type": "code",
      "execution_count": 21,
      "metadata": {
        "id": "1CAx7GQEKdmM"
      },
      "outputs": [],
      "source": [
        "class MultiHeadedAttention(nn.Module):\n",
        "    def __init__(self, d_model, numHeads, dropout=0.1): # h is the number of heads\n",
        "        super().__init__()\n",
        "        self.d_model = d_model\n",
        "        self.qWeight = nn.Linear(d_model, d_model)\n",
        "        self.kWeight = nn.Linear(d_model, d_model)\n",
        "        self.vWeight = nn.Linear(d_model, d_model)\n",
        "        self.finalWeight = nn.Linear(d_model, d_model)\n",
        "        self.numHeads = numHeads\n",
        "        self.d_head = d_model // numHeads # we treat the input matrix as numHead d_head length heads\n",
        "        self.dropout = nn.Dropout(p = dropout)\n",
        "        # ex: 8 heads of length 64 for 512 embedding\n",
        "        \n",
        "    def forward(self, queries, keys, values, mask):\n",
        "        #print(\"mask shape before squeeze:\", mask.shape)\n",
        "        if mask is not None:\n",
        "            # Same mask applied to all h heads.\n",
        "            mask = mask.unsqueeze(1)\n",
        "        #print(\"mask shape after squeeze:\", mask.shape)\n",
        "        batchSize = queries.shape[0]\n",
        "        # Send the queries, keys, and values through their corresponding linear layer\n",
        "        # The dimensions should be unchanged\n",
        "        queries = self.qWeight(queries).to(device)\n",
        "        keys = self.kWeight(keys).to(device)\n",
        "        values = self.vWeight(values).to(device)\n",
        "        \n",
        "        # Then treat the outputs of each linear layer as if they are numHead parts\n",
        "        # ex: treat a batch of 50 sequence length x 512 embedding size matrices as \n",
        "        # a batch of 50 sequence length x (8 heads x 64 head length) size matrices\n",
        "        \n",
        "        # the -1 is the sequence length, which is inferred\n",
        "        queries = queries.reshape(batchSize, -1, self.numHeads, self.d_head)\n",
        "        keys = keys.reshape(batchSize, -1, self.numHeads, self.d_head)\n",
        "        values = values.reshape(batchSize, -1, self.numHeads, self.d_head)\n",
        "        \n",
        "        #print(\"query lin\", queries.shape)\n",
        "        \n",
        "        # Then swap the sequence length and number of heads dimensions\n",
        "        queries = queries.transpose(1, 2)\n",
        "        keys = keys.transpose(1, 2)\n",
        "        values = values.transpose(1, 2)\n",
        "        \n",
        "        # Apply attention to this set of queries, keys, and values\n",
        "        x = attention(queries, keys, values, self.dropout, mask)\n",
        "        \n",
        "        # Because we divided the queries, keys, and values into some number of heads, each head has a different value now\n",
        "        # We need to combine all of these heads back into one matrix again before moving on\n",
        "        x = x.transpose(1, 2) # put sequence length back into dimension 1 and num heads into dimension 2\n",
        "        x = x.reshape(batchSize, -1, (self.numHeads * self.d_head)) # we're now back to our d_model embedding shape\n",
        "        #print(\"shape after attention:\", x.shape)\n",
        "        del queries\n",
        "        del keys\n",
        "        del values\n",
        "        \n",
        "        # Finally, put x through one last linear layer, just because\n",
        "        x = self.finalWeight(x)\n",
        "        return x\n",
        "        "
      ]
    },
    {
      "cell_type": "code",
      "execution_count": 22,
      "metadata": {
        "id": "oNB1YHSaKejb"
      },
      "outputs": [],
      "source": [
        "class FeedForwardNN(nn.Module):\n",
        "    # This is just a two layer neural net.\n",
        "    # The input and outputs are d_model, with one d_feedForward hidden layer\n",
        "    # It uses relu for the hidden layer and linear for the output\n",
        "    def __init__(self, d_model, d_feedForward, dropout=0.1):\n",
        "        super().__init__()\n",
        "        self.linear1 = nn.Linear(d_model, d_feedForward)\n",
        "        self.linear2 = nn.Linear(d_feedForward, d_model)\n",
        "        self.dropout = nn.Dropout(dropout)\n",
        "        \n",
        "    def forward(self, x):\n",
        "        x = self.linear1(x)\n",
        "        x = x.relu()\n",
        "        x = self.dropout(x)\n",
        "        x = self.linear2(x)\n",
        "        return x\n",
        "        "
      ]
    },
    {
      "cell_type": "code",
      "execution_count": 23,
      "metadata": {
        "id": "P9r7Me2rKfSw"
      },
      "outputs": [],
      "source": [
        "class LayerNorm(nn.Module):\n",
        "    \"Construct a layernorm module (See citation for details).\"\n",
        "    # Taken from http://nlp.seas.harvard.edu/annotated-transformer/\n",
        "    # because I didn't feel like learning about layer normalization\n",
        "\n",
        "    def __init__(self, features, eps=1e-6):\n",
        "        super(LayerNorm, self).__init__()\n",
        "        self.a_2 = nn.Parameter(torch.ones(features))\n",
        "        self.b_2 = nn.Parameter(torch.zeros(features))\n",
        "        self.eps = eps\n",
        "\n",
        "    def forward(self, x):\n",
        "        mean = x.mean(-1, keepdim=True)\n",
        "        std = x.std(-1, keepdim=True)\n",
        "        return self.a_2 * (x - mean) / (std + self.eps) + self.b_2"
      ]
    },
    {
      "cell_type": "code",
      "execution_count": 24,
      "metadata": {
        "id": "0SIAp3-LKfQ9"
      },
      "outputs": [],
      "source": [
        "class Sublayer(nn.Module):\n",
        "    # A sublayer is a wrapper around either a feed forward layer or multiheaded attention layer\n",
        "    # It takes the output of either one of those and then adds the original input to it\n",
        "    # It then does layer normalization to this sum\n",
        "    def __init__(self, d_model, function, isAttentionLayer, dropout = 0.1):\n",
        "        super().__init__()\n",
        "        self.function = function # function is either feed foward or multiheaded attention\n",
        "        self.layerNorm = LayerNorm(d_model)\n",
        "        self.isAttentionLayer = isAttentionLayer\n",
        "        self.dropout = nn.Dropout(dropout)\n",
        "        \n",
        "    def forward(self, x, mask=None, encoding=None):\n",
        "        # The attention layer expects three inputs (queries, keys, values), not 1\n",
        "        if self.isAttentionLayer:\n",
        "            if encoding is None:\n",
        "                sum_ = x + self.dropout(self.function(x, x, x, mask))\n",
        "            else:\n",
        "                sum_ = x + self.dropout(self.function(x, encoding, encoding, mask))\n",
        "        else:\n",
        "            sum_ = x + self.dropout(self.function(x))\n",
        "            \n",
        "        return self.layerNorm(sum_)"
      ]
    },
    {
      "cell_type": "code",
      "execution_count": 25,
      "metadata": {
        "id": "VNJoM1O3Kh7c"
      },
      "outputs": [],
      "source": [
        "class EncoderLayer(nn.Module):\n",
        "    # an encoder layer is two sublayers.\n",
        "    # It goes through a sublayer containing the multiheaded attention and then a sublayer containing the feed forward layer\n",
        "    def __init__(self, d_model, selfAttention, feedForward, dropout = 0.1):\n",
        "        super().__init__()\n",
        "        self.selfAttention = selfAttention\n",
        "        self.feedForward = feedForward\n",
        "        self.sublayer1 = Sublayer(d_model, self.selfAttention, True, dropout)\n",
        "        self.sublayer2 = Sublayer(d_model, self.feedForward, False, dropout)\n",
        "        \n",
        "    def forward(self, x, mask):\n",
        "        # put x through both sublayers\n",
        "        x = self.sublayer1(x, mask)\n",
        "        x = self.sublayer2(x, mask)\n",
        "        return x"
      ]
    },
    {
      "cell_type": "code",
      "execution_count": 26,
      "metadata": {
        "id": "WFpP5s2qKi2H"
      },
      "outputs": [],
      "source": [
        "class Encoder(nn.Module):\n",
        "    # The encoder is a sequence of encoder layers\n",
        "    def __init__(self, numLayers, d_model):\n",
        "        self.d_model = d_model\n",
        "        super().__init__()\n",
        "        self.layers = []\n",
        "        for i in range(numLayers):\n",
        "            selfAttentionLayer = MultiHeadedAttention(d_model, 8)\n",
        "            feedForwardLayer = FeedForwardNN(d_model, 2048)\n",
        "            encoderLayer = EncoderLayer(d_model, selfAttentionLayer, feedForwardLayer)\n",
        "            self.layers.append(encoderLayer)\n",
        "        self.layers = nn.ModuleList(self.layers)\n",
        "    \n",
        "    def forward(self, x, mask):\n",
        "        for layer in self.layers:\n",
        "            x = layer(x, mask)\n",
        "        return x"
      ]
    },
    {
      "cell_type": "code",
      "execution_count": 27,
      "metadata": {
        "id": "7rcqAistKjrf"
      },
      "outputs": [],
      "source": [
        "class DecoderLayer(nn.Module):\n",
        "    def __init__(self, d_model, selfAttention, encoderAttention, feedForward, dropout=0.1):\n",
        "        super().__init__()\n",
        "        self.selfAttention = selfAttention\n",
        "        self.feedForward = feedForward\n",
        "        self.encoderAttention = encoderAttention\n",
        "        self.sublayer1 = Sublayer(d_model, self.selfAttention, True, dropout)\n",
        "        self.sublayer2 = Sublayer(d_model, self.encoderAttention, True, dropout)\n",
        "        self.sublayer3 = Sublayer(d_model, self.feedForward, False, dropout)\n",
        "        \n",
        "    def forward(self, x, encoding, src_mask, tgt_mask):\n",
        "        x = self.sublayer1(x, tgt_mask)\n",
        "        x = self.sublayer2(x, src_mask, encoding)\n",
        "        x = self.sublayer3(x)\n",
        "        return x"
      ]
    },
    {
      "cell_type": "code",
      "execution_count": 28,
      "metadata": {
        "id": "8W9lG-qLKkZq"
      },
      "outputs": [],
      "source": [
        "class Decoder(nn.Module):\n",
        "    # The decoder is a sequence of decoder layers\n",
        "    def __init__(self, numLayers, d_model):\n",
        "        self.d_model = d_model\n",
        "        super().__init__()\n",
        "        self.layers = []\n",
        "        for i in range(numLayers):\n",
        "            selfAttentionLayer = MultiHeadedAttention(d_model, 8)\n",
        "            encoderAttentionLayer = MultiHeadedAttention(d_model, 8)\n",
        "            feedForwardLayer = FeedForwardNN(d_model, 2048)\n",
        "            decoderLayer = DecoderLayer(d_model, selfAttentionLayer, encoderAttentionLayer, feedForwardLayer)\n",
        "            self.layers.append(decoderLayer)\n",
        "        self.layers = nn.ModuleList(self.layers)\n",
        "        \n",
        "    def forward(self, x, encoding, src_mask, tgt_mask):\n",
        "        for layer in self.layers:\n",
        "            x = layer(x, encoding, src_mask, tgt_mask)\n",
        "            return x"
      ]
    },
    {
      "cell_type": "code",
      "execution_count": 29,
      "metadata": {
        "id": "M9Q3001HKlJ-"
      },
      "outputs": [],
      "source": [
        "class Generator(nn.Module):\n",
        "    def __init__(self, d_model, vocab):\n",
        "        super().__init__()\n",
        "        self.proj = nn.Linear(d_model, vocab)\n",
        "\n",
        "    def forward(self, x):\n",
        "        return log_softmax(self.proj(x), dim=-1)"
      ]
    },
    {
      "cell_type": "code",
      "execution_count": 30,
      "metadata": {
        "id": "MZqkv2WhKl4V"
      },
      "outputs": [],
      "source": [
        "class WholeNetwork(nn.Module):\n",
        "    def __init__(self, d_model, d_vocab_src, d_vocab_tgt, padding_idx):\n",
        "        super().__init__()\n",
        "        self.embeddingSrc = EmbeddingLayer(d_vocab_src, d_model, padding_idx)\n",
        "        self.embeddingTgt = EmbeddingLayer(d_vocab_tgt, d_model, padding_idx)\n",
        "        self.posEncoding = PositionalEncoding(d_model, 0.1)\n",
        "        self.encoder = Encoder(3, d_model)\n",
        "        self.decoder = Decoder(3, d_model)\n",
        "        self.generator = Generator(d_model, d_vocab_tgt)\n",
        "\n",
        "    def encode(self, src, src_mask):\n",
        "        src = self.embeddingSrc(src)\n",
        "        src = self.posEncoding(src)\n",
        "        encodings = self.encoder(src, src_mask)\n",
        "        return encodings\n",
        "    \n",
        "    def decode(self, encodings, tgt, src_mask, tgt_mask):\n",
        "        tgt = self.embeddingTgt(tgt)\n",
        "        tgt = self.posEncoding(tgt)\n",
        "        output = self.decoder(tgt, encodings, src_mask, tgt_mask)\n",
        "        return self.generator(output)\n",
        "        \n",
        "    def forward(self, src, tgt, src_mask, tgt_mask):\n",
        "        encodings = self.encode(src, src_mask)\n",
        "        return self.decode(encodings, tgt, src_mask, tgt_mask)\n",
        "        \n",
        "        "
      ]
    },
    {
      "cell_type": "code",
      "execution_count": 31,
      "metadata": {
        "id": "nbhSsfshKmoi"
      },
      "outputs": [],
      "source": [
        "def get_tgt_mask(size) -> torch.tensor:\n",
        "    # Generates a squeare matrix where the each row allows one word more to be seen\n",
        "    mask = torch.tril(torch.ones(size, size) == 1) # Lower triangular matrix\n",
        "    mask = mask.float()\n",
        "    mask = mask.masked_fill(mask == 0, float('-inf')) # Convert zeros to -inf\n",
        "    mask = mask.masked_fill(mask == 1, float(0.0)) # Convert ones to 0\n",
        "    return mask\n",
        "    # EX for size=5:\n",
        "    # [[0., -inf, -inf, -inf, -inf],\n",
        "    #  [0.,   0., -inf, -inf, -inf],\n",
        "    #  [0.,   0.,   0., -inf, -inf],\n",
        "    #  [0.,   0.,   0.,   0., -inf],\n",
        "    #  [0.,   0.,   0.,   0.,   0.]]"
      ]
    },
    {
      "cell_type": "code",
      "execution_count": 32,
      "metadata": {
        "id": "wgOJpr2jKnai"
      },
      "outputs": [],
      "source": [
        "def decodeSentences(intTensor, tokenizer):\n",
        "    intList = intTensor.tolist()\n",
        "    #print(intList)\n",
        "    sentences = tokenizer.decode_batch(intList)\n",
        "    return sentences"
      ]
    },
    {
      "cell_type": "code",
      "execution_count": 33,
      "metadata": {
        "id": "gxXvUHlEKoFy"
      },
      "outputs": [],
      "source": [
        "def subsequent_mask(size):\n",
        "    \"Mask out subsequent positions.\"\n",
        "    attn_shape = (1, size, size)\n",
        "    subsequent_mask = torch.triu(torch.ones(attn_shape), diagonal=1).type(\n",
        "        torch.uint8\n",
        "    )\n",
        "    return subsequent_mask == 0"
      ]
    },
    {
      "cell_type": "code",
      "execution_count": 34,
      "metadata": {
        "id": "yNqIQb9TKo8M"
      },
      "outputs": [],
      "source": [
        "def makeStdMask(tgt):\n",
        "    tgt_mask = (tgt != PADDING_IDX).unsqueeze(-2)\n",
        "    tgt_mask = tgt_mask & subsequent_mask(tgt.size(-1)).type_as(tgt_mask.data)\n",
        "    return tgt_mask"
      ]
    },
    {
      "cell_type": "code",
      "execution_count": 35,
      "metadata": {
        "id": "TnFFaqG846Uy"
      },
      "outputs": [],
      "source": [
        "def getLearningRate(d_model, stepNum, warmupSteps):\n",
        "  stepNum += 19430 #67 epochs\n",
        "  d_model = d_model ** -0.5\n",
        "  min1 = stepNum ** -0.5 # was -0.5\n",
        "  min2 = stepNum * (warmupSteps ** -1.5)\n",
        "  return d_model * min(min1, min2)"
      ]
    },
    {
      "cell_type": "code",
      "execution_count": 36,
      "metadata": {
        "id": "vKDzqN7X9ysV"
      },
      "outputs": [],
      "source": [
        "class LabelSmoothing(nn.Module):\n",
        "    \"Implement label smoothing.\"\n",
        "\n",
        "    def __init__(self, size, padding_idx, smoothing=0.0):\n",
        "        super(LabelSmoothing, self).__init__()\n",
        "        self.criterion = nn.KLDivLoss(reduction=\"sum\")\n",
        "        self.padding_idx = padding_idx\n",
        "        self.confidence = 1.0 - smoothing\n",
        "        self.smoothing = smoothing\n",
        "        self.size = size\n",
        "        self.true_dist = None\n",
        "\n",
        "    def forward(self, x, target):\n",
        "        assert x.size(1) == self.size\n",
        "        true_dist = x.data.clone()\n",
        "        true_dist.fill_(self.smoothing / (self.size - 2))\n",
        "        true_dist.scatter_(1, target.data.unsqueeze(1).long(), self.confidence)\n",
        "        true_dist[:, self.padding_idx] = 0\n",
        "        mask = torch.nonzero(target.data == self.padding_idx)\n",
        "        if mask.dim() > 0:\n",
        "            true_dist.index_fill_(0, mask.squeeze(), 0.0)\n",
        "        self.true_dist = true_dist\n",
        "        return self.criterion(x, true_dist.clone().detach())"
      ]
    },
    {
      "cell_type": "code",
      "execution_count": 37,
      "metadata": {
        "id": "TIaG856xOm-r"
      },
      "outputs": [],
      "source": [
        "#enTrain, deTrain, enTest, deTest, enVal, deVal, enAll, deAll = createTrainTestVal(10000)\n",
        "#createDatasets(\"100k.txt\", 100000)"
      ]
    },
    {
      "cell_type": "code",
      "execution_count": 38,
      "metadata": {
        "id": "xlacySijTqJ7",
        "colab": {
          "base_uri": "https://localhost:8080/"
        },
        "outputId": "6fedd2a8-bfbf-4bb0-8d35-3669563fefc4"
      },
      "outputs": [
        {
          "output_type": "stream",
          "name": "stdout",
          "text": [
            "Loading tokenizer...\n"
          ]
        }
      ],
      "source": [
        "suffix = \"100k.txt\"\n",
        "#enTokenizer = pickle.load(open(\"en10ktokenizer.pkl\", \"rb\"))\n",
        "#deTokenizer = pickle.load(open(\"de10ktokenizer.pkl\", \"rb\"))\n",
        "enName = folder+\"enTokenizer.pkl\"\n",
        "deName = folder+\"deTokenizer.pkl\"\n",
        "enTokenizer, deTokenizer = setupTokenizers(enRawName, deRawName, False, 10000, 10000, enName, deName)"
      ]
    },
    {
      "cell_type": "code",
      "execution_count": 39,
      "metadata": {
        "id": "4SJEqqKjKprj"
      },
      "outputs": [],
      "source": [
        "\n",
        "def trainModel(epochs = 999, vocab_size_src = 10000, vocab_size_tgt = 10000, d_model=512, warmupSteps=4000, batchSize=128):\n",
        "    suffix = \"100k.txt\"\n",
        "    dataset = SentenceDataset(enRawName, deRawName, True)\n",
        "\n",
        "    train_dataloader = DataLoader(dataset, batch_size=batchSize, collate_fn =\n",
        "                                  PadCollate(enTokenizer, deTokenizer))\n",
        "    valDataset = SentenceDataset(en30kVal, de30kVal, True)\n",
        "    val_dataloader = DataLoader(valDataset, batch_size=batchSize, collate_fn =\n",
        "                                  PadCollate(enTokenizer, deTokenizer))\n",
        "    val_dataloader_iter = iter(val_dataloader)\n",
        "    dataloader_iter = iter(train_dataloader)\n",
        "    warmupSteps = 3*len(train_dataloader)\n",
        "    losses = []\n",
        "    valLosses = []\n",
        "    startTime = time.time()\n",
        "    i = 0\n",
        "    model = WholeNetwork(d_model, vocab_size_src, vocab_size_tgt, PADDING_IDX)\n",
        "    #model.load_state_dict(torch.load(folder + \"model_2vocab_11_12\"))\n",
        "    model = model.to(device)\n",
        "    # This was important from their code.\n",
        "    # Initialize parameters with Glorot / fan_avg.\n",
        "    for p in model.parameters():\n",
        "        if p.dim() > 1:\n",
        "            nn.init.xavier_uniform_(p)\n",
        "    opt = optim.Adam(model.parameters(), lr=0.5, betas=(0.9, 0.98), eps=1e-9)\n",
        "    scheduler = optim.lr_scheduler.LambdaLR(opt, lambda step: getLearningRate(d_model, step+1, warmupSteps))\n",
        "    labelSmoothing = LabelSmoothing(vocab_size_tgt, PADDING_IDX, 0.1)\n",
        "    lowestAvgLoss = 100\n",
        "    numFails = 0\n",
        "    stepNum = 0\n",
        "    print(\"Beginning training...\")\n",
        "    for j in range(epochs):\n",
        "        avgLossAtEpoch = 100\n",
        "        lossSumForEpoch = 0\n",
        "        dataloader_iter = iter(train_dataloader)\n",
        "        val_dataloader_iter = iter(val_dataloader)\n",
        "        i = 0\n",
        "        startTime = time.time()\n",
        "        for src, tgt in dataloader_iter:\n",
        "            \n",
        "            #print(\"Everything else time:\", time.time()-startTime)\n",
        "            src, tgt = src.to(device), tgt.to(device)\n",
        "            #tgt_x = tgt[:, :-1]\n",
        "            #tgt_y = tgt[:, 1:]\n",
        "            #print(tgt.shape)\n",
        "            #src_mask = (src != PADDING_IDX).unsqueeze(-2)\n",
        "            #tgt_mask = \n",
        "            #print(tgt_mask[0])\n",
        "            #print(tgt_mask.shape)\n",
        "            #print(src.shape)\n",
        "            #tgt_mask = get_tgt_mask(src.shape[1]).to(device)\n",
        "            output = model(src, tgt[:, :-1], (src != PADDING_IDX).unsqueeze(-2), makeStdMask(tgt[:, :-1]))\n",
        "            #output = torch.transpose(output, 1, 2)\n",
        "            #print(output.shape)\n",
        "            \n",
        "            #loss = lossFunction(output.reshape((output.shape[0], output.shape[2], output.shape[1])), tgt_y.long())\n",
        "            nonPadTokens = (tgt[:, 1:] != PADDING_IDX).data.sum()\n",
        "            #print(output.shape)\n",
        "            loss = labelSmoothing(output.contiguous().view(-1, output.size(-1)), tgt[:, 1:].contiguous().view(-1))/nonPadTokens\n",
        "\n",
        "            #lossMask = tgt_y != PADDING_IDX\n",
        "            #print(\"loss before mask\", loss)\n",
        "            #loss = loss.masked_fill(lossMask == 0, 0)\n",
        "            #print(\"loss after mask\", loss)\n",
        "            #loss = loss.sum()/lossMask.sum()\n",
        "            #print(\"loss after sum\", loss)\n",
        "            #print(lossMask)\n",
        "            #loss *= lossMask\n",
        "            #print(\"Loss calculation time:\", time.time()-startTime)\n",
        "            #print(\"Loss:\", loss.item())\n",
        "            losses.append(loss.item())\n",
        "            lossSumForEpoch += loss.item()\n",
        "            #startTime = time.time()\n",
        "            #print(\"Model weights:\")\n",
        "#             for param in model.parameters():\n",
        "#                 print(param.data)\n",
        "#                 break\n",
        "            opt.zero_grad()\n",
        "            loss.backward()\n",
        "            opt.step()\n",
        "            scheduler.step()\n",
        "            #print(\"opt step time:\", time.time()-startTime)\n",
        "            startTime = time.time()\n",
        "            argmaxOutput = torch.argmax(output, 2)\n",
        "            stepNum += 1\n",
        "            del loss\n",
        "            #print(\"ARGMAX\")\n",
        "            #print(argmaxOutput)\n",
        "            i+=1\n",
        "    #         if i > 20:\n",
        "    #             break\n",
        "        k = 0\n",
        "        valLossSumForEpoch = 0\n",
        "        for src, tgt2 in val_dataloader_iter:\n",
        "            src, tgt2 = src.to(device), tgt2.to(device)\n",
        "            output = model(src, tgt2[:, :-1], (src != PADDING_IDX).unsqueeze(-2), makeStdMask(tgt2[:, :-1]))\n",
        "            nonPadTokens = (tgt2[:, 1:] != PADDING_IDX).data.sum()\n",
        "            loss = labelSmoothing(output.contiguous().view(-1, output.size(-1)), tgt2[:, 1:].contiguous().view(-1))/nonPadTokens\n",
        "            valLosses.append(loss.item())\n",
        "            valLossSumForEpoch += loss.item()\n",
        "            del loss\n",
        "            k += 1\n",
        "\n",
        "        if i == 0:\n",
        "          continue\n",
        "\n",
        "        avgLossAtEpoch = lossSumForEpoch / i\n",
        "        avgValLossAtEpoch = valLossSumForEpoch / k\n",
        "        if avgLossAtEpoch >= lowestAvgLoss:\n",
        "            numFails += 1\n",
        "        else:\n",
        "            numFails = 0\n",
        "            lowestAvgLoss = avgLossAtEpoch\n",
        "        \n",
        "        print(\"finished epoch\", j)\n",
        "        #print(\"epoch time:\", time.time()-startTime)\n",
        "        print(\"Average loss\", avgLossAtEpoch)\n",
        "        print(\"Average val loss\", avgValLossAtEpoch)\n",
        "        print(\"num fails:\", numFails)\n",
        "        print(\"Predicted output: \")\n",
        "        print(decodeSentences(argmaxOutput, deTokenizer)[0])\n",
        "        print(\"Correct output: \")\n",
        "        print(decodeSentences(tgt, deTokenizer)[0])\n",
        "        print()\n",
        "        print()\n",
        "\n",
        "        if numFails >= 5:\n",
        "            break\n",
        "        \n",
        "        torch.save(model.state_dict(), folder + \"model_2vocab_5_7\")\n",
        "        if stepNum >= 100000: # the model needs to stop training eventually...\n",
        "          break\n",
        "    plt.plot(losses)\n",
        "    plt.show()\n",
        "    return model\n",
        "        "
      ]
    },
    {
      "cell_type": "code",
      "execution_count": null,
      "metadata": {
        "id": "Z2jyu454Kqja",
        "colab": {
          "base_uri": "https://localhost:8080/",
          "height": 1000
        },
        "outputId": "169260f9-1a8d-4939-d5b2-86298180de94"
      },
      "outputs": [
        {
          "output_type": "stream",
          "name": "stdout",
          "text": [
            "Creating pairs...\n",
            "29000\n",
            "Creating pairs...\n",
            "1014\n",
            "Beginning training...\n",
            "finished epoch 0\n",
            "Average loss 4.199629508451218\n",
            "Average val loss 3.7187726199626923\n",
            "num fails: 0\n",
            "Predicted output: \n",
            "Eine Gruppe von Menschen sitzt die in und und mit einem ein mit mit und mit weißen mit einem Haaren und , mit Kamera in weißen . mit mit . einem weißen und in und und , ,\n",
            "Correct output: \n",
            "Eine Gruppe von Menschen , die nebeneinander sitzen und von denen einige weiße Hemden und blaue Westen mit gelben Schärpen tragen und die andere große flausch ige weiße Hüte mit einem pinkfarbenen flauschigen Oberteil .\n",
            "\n",
            "\n",
            "finished epoch 1\n",
            "Average loss 3.0582602087096498\n",
            "Average val loss 3.0830485075712204\n",
            "num fails: 0\n",
            "Predicted output: \n",
            "Eine Gruppe von Menschen sitzt die in , neben mit einem zwei andere weißen mit weißen weißen , weißen weißen mit , weißen andere in weißen . weißen weißen . weißen weißen weißen weißen in , . .\n",
            "Correct output: \n",
            "Eine Gruppe von Menschen , die nebeneinander sitzen und von denen einige weiße Hemden und blaue Westen mit gelben Schärpen tragen und die andere große flausch ige weiße Hüte mit einem pinkfarbenen flauschigen Oberteil .\n",
            "\n",
            "\n",
            "finished epoch 2\n",
            "Average loss 2.5252598219506015\n",
            "Average val loss 2.732369229197502\n",
            "num fails: 0\n",
            "Predicted output: \n",
            "Eine Gruppe von Menschen sitzt die neben sitzen neben mit denen andere andere andere mit die Hose mit weißen und und , andere andere mit weiße , weiße und mit weißen weißen , weißen , mit . .\n",
            "Correct output: \n",
            "Eine Gruppe von Menschen , die nebeneinander sitzen und von denen einige weiße Hemden und blaue Westen mit gelben Schärpen tragen und die andere große flausch ige weiße Hüte mit einem pinkfarbenen flauschigen Oberteil .\n",
            "\n",
            "\n",
            "finished epoch 3\n",
            "Average loss 2.177601314063639\n",
            "Average val loss 2.5128936618566513\n",
            "num fails: 0\n",
            "Predicted output: \n",
            "Eine Gruppe von Menschen , die nebeneinander , und mit weißen weißen andere Hemden und mit Hemden , weißen Hemden und , weißen weiße weiße weißen tragen weiße Hemden mit weißen weißen weißen weißen . . . .\n",
            "Correct output: \n",
            "Eine Gruppe von Menschen , die nebeneinander sitzen und von denen einige weiße Hemden und blaue Westen mit gelben Schärpen tragen und die andere große flausch ige weiße Hüte mit einem pinkfarbenen flauschigen Oberteil .\n",
            "\n",
            "\n",
            "finished epoch 4\n",
            "Average loss 1.928241909337989\n",
            "Average val loss 2.3747139871120453\n",
            "num fails: 0\n",
            "Predicted output: \n",
            "Eine Gruppe von Menschen sitzt die nebeneinander , und beide denen einige weiße Hemden und mit Hemden mit einem Hüten mit , weißen andere große weiße mit weiße Hemden mit einem großen Hemden weißen . . . .\n",
            "Correct output: \n",
            "Eine Gruppe von Menschen , die nebeneinander sitzen und von denen einige weiße Hemden und blaue Westen mit gelben Schärpen tragen und die andere große flausch ige weiße Hüte mit einem pinkfarbenen flauschigen Oberteil .\n",
            "\n",
            "\n",
            "finished epoch 5\n",
            "Average loss 1.7335471946762522\n",
            "Average val loss 2.270592115819454\n",
            "num fails: 0\n",
            "Predicted output: \n",
            "Eine Gruppe von Menschen sitzt die sich und und mit denen einige weiße Hemden und blauen Hemden mit gelben und mit . die andere mit weiße ige weiße Hemden mit einem weißen und weißen . . . .\n",
            "Correct output: \n",
            "Eine Gruppe von Menschen , die nebeneinander sitzen und von denen einige weiße Hemden und blaue Westen mit gelben Schärpen tragen und die andere große flausch ige weiße Hüte mit einem pinkfarbenen flauschigen Oberteil .\n",
            "\n",
            "\n",
            "finished epoch 6\n",
            "Average loss 1.5716984833914802\n",
            "Average val loss 2.1742212772369385\n",
            "num fails: 0\n",
            "Predicted output: \n",
            "Eine Gruppe von Menschen sitzt die sich sitzen nebeneinander blauen denen einige weiße Hemden und blaue Westen mit gelben Hüten tragen , die andere mit weiße ige weiße Hemden mit einem weißen und weißen . . . .\n",
            "Correct output: \n",
            "Eine Gruppe von Menschen , die nebeneinander sitzen und von denen einige weiße Hemden und blaue Westen mit gelben Schärpen tragen und die andere große flausch ige weiße Hüte mit einem pinkfarbenen flauschigen Oberteil .\n",
            "\n",
            "\n",
            "finished epoch 7\n",
            "Average loss 1.4275610095078726\n",
            "Average val loss 2.1248116195201874\n",
            "num fails: 0\n",
            "Predicted output: \n",
            "Eine Gruppe von Menschen sitzt die nebeneinander sitzen und mit ihnen einige weiße Hemden und blaue Hemden mit gelben Luftballons tragen , die andere weiße weiße ige weiße Hemden mit einem weißen Oberteil . . . . .\n",
            "Correct output: \n",
            "Eine Gruppe von Menschen , die nebeneinander sitzen und von denen einige weiße Hemden und blaue Westen mit gelben Schärpen tragen und die andere große flausch ige weiße Hüte mit einem pinkfarbenen flauschigen Oberteil .\n",
            "\n",
            "\n",
            "finished epoch 8\n",
            "Average loss 1.3044580868424822\n",
            "Average val loss 2.0841402038931847\n",
            "num fails: 0\n",
            "Predicted output: \n",
            "Eine Gruppe von Menschen sitzt die nebeneinander sitzen und mit denen einige weiße Hemden und blaue Westen mit gelben Hüten tragen , die andere weiße weiße ige weiße Hüte mit einem pinkfarbenen Oberteil weißen . . . .\n",
            "Correct output: \n",
            "Eine Gruppe von Menschen , die nebeneinander sitzen und von denen einige weiße Hemden und blaue Westen mit gelben Schärpen tragen und die andere große flausch ige weiße Hüte mit einem pinkfarbenen flauschigen Oberteil .\n",
            "\n",
            "\n",
            "finished epoch 9\n",
            "Average loss 1.196792588885135\n",
            "Average val loss 2.0753371194005013\n",
            "num fails: 0\n",
            "Predicted output: \n",
            "Eine Gruppe von Menschen in die nebeneinander sitzen und von denen einige weiße Hemden mit blaue Westen mit einem Gürteln tragen und die andere große weiße ige weiße Hüte mit einem pinkfarbenen flauschigen roten . . . .\n",
            "Correct output: \n",
            "Eine Gruppe von Menschen , die nebeneinander sitzen und von denen einige weiße Hemden und blaue Westen mit gelben Schärpen tragen und die andere große flausch ige weiße Hüte mit einem pinkfarbenen flauschigen Oberteil .\n",
            "\n",
            "\n",
            "finished epoch 10\n",
            "Average loss 1.101954203345177\n",
            "Average val loss 2.034163936972618\n",
            "num fails: 0\n",
            "Predicted output: \n",
            "Eine Gruppe von Menschen mit die nebeneinander sitzen und mit denen einige weiße Hemden und blaue Westen mit gelben Hüten tragen . die andere große weiße ige weiße Hüte mit einem pinkfarbenen Oberteil weißen . . . .\n",
            "Correct output: \n",
            "Eine Gruppe von Menschen , die nebeneinander sitzen und von denen einige weiße Hemden und blaue Westen mit gelben Schärpen tragen und die andere große flausch ige weiße Hüte mit einem pinkfarbenen flauschigen Oberteil .\n",
            "\n",
            "\n",
            "finished epoch 11\n",
            "Average loss 1.016736423129027\n",
            "Average val loss 2.032211124897003\n",
            "num fails: 0\n",
            "Predicted output: \n",
            "Eine Gruppe von Menschen sitzt die nebeneinander sitzen und miteinander denen einige weiße Hemden und andere Westen mit gelben Schärpen tragen und die andere große weiße ige weiße Hüte mit einem pinkfarbenen Hemd Oberteil und . . .\n",
            "Correct output: \n",
            "Eine Gruppe von Menschen , die nebeneinander sitzen und von denen einige weiße Hemden und blaue Westen mit gelben Schärpen tragen und die andere große flausch ige weiße Hüte mit einem pinkfarbenen flauschigen Oberteil .\n",
            "\n",
            "\n"
          ]
        },
        {
          "output_type": "error",
          "ename": "KeyboardInterrupt",
          "evalue": "ignored",
          "traceback": [
            "\u001b[0;31m---------------------------------------------------------------------------\u001b[0m",
            "\u001b[0;31mKeyboardInterrupt\u001b[0m                         Traceback (most recent call last)",
            "\u001b[0;32m<ipython-input-48-347ef4c4a133>\u001b[0m in \u001b[0;36m<cell line: 1>\u001b[0;34m()\u001b[0m\n\u001b[0;32m----> 1\u001b[0;31m \u001b[0mmodel\u001b[0m \u001b[0;34m=\u001b[0m \u001b[0mtrainModel\u001b[0m\u001b[0;34m(\u001b[0m\u001b[0;34m)\u001b[0m\u001b[0;34m\u001b[0m\u001b[0;34m\u001b[0m\u001b[0m\n\u001b[0m",
            "\u001b[0;32m<ipython-input-47-8422b33181a1>\u001b[0m in \u001b[0;36mtrainModel\u001b[0;34m(epochs, vocab_size_src, vocab_size_tgt, d_model, warmupSteps, batchSize)\u001b[0m\n\u001b[1;32m     50\u001b[0m             \u001b[0;31m#print(src.shape)\u001b[0m\u001b[0;34m\u001b[0m\u001b[0;34m\u001b[0m\u001b[0m\n\u001b[1;32m     51\u001b[0m             \u001b[0;31m#tgt_mask = get_tgt_mask(src.shape[1]).to(device)\u001b[0m\u001b[0;34m\u001b[0m\u001b[0;34m\u001b[0m\u001b[0m\n\u001b[0;32m---> 52\u001b[0;31m             \u001b[0moutput\u001b[0m \u001b[0;34m=\u001b[0m \u001b[0mmodel\u001b[0m\u001b[0;34m(\u001b[0m\u001b[0msrc\u001b[0m\u001b[0;34m,\u001b[0m \u001b[0mtgt\u001b[0m\u001b[0;34m[\u001b[0m\u001b[0;34m:\u001b[0m\u001b[0;34m,\u001b[0m \u001b[0;34m:\u001b[0m\u001b[0;34m-\u001b[0m\u001b[0;36m1\u001b[0m\u001b[0;34m]\u001b[0m\u001b[0;34m,\u001b[0m \u001b[0;34m(\u001b[0m\u001b[0msrc\u001b[0m \u001b[0;34m!=\u001b[0m \u001b[0mPADDING_IDX\u001b[0m\u001b[0;34m)\u001b[0m\u001b[0;34m.\u001b[0m\u001b[0munsqueeze\u001b[0m\u001b[0;34m(\u001b[0m\u001b[0;34m-\u001b[0m\u001b[0;36m2\u001b[0m\u001b[0;34m)\u001b[0m\u001b[0;34m,\u001b[0m \u001b[0mmakeStdMask\u001b[0m\u001b[0;34m(\u001b[0m\u001b[0mtgt\u001b[0m\u001b[0;34m[\u001b[0m\u001b[0;34m:\u001b[0m\u001b[0;34m,\u001b[0m \u001b[0;34m:\u001b[0m\u001b[0;34m-\u001b[0m\u001b[0;36m1\u001b[0m\u001b[0;34m]\u001b[0m\u001b[0;34m)\u001b[0m\u001b[0;34m)\u001b[0m\u001b[0;34m\u001b[0m\u001b[0;34m\u001b[0m\u001b[0m\n\u001b[0m\u001b[1;32m     53\u001b[0m             \u001b[0;31m#output = torch.transpose(output, 1, 2)\u001b[0m\u001b[0;34m\u001b[0m\u001b[0;34m\u001b[0m\u001b[0m\n\u001b[1;32m     54\u001b[0m             \u001b[0;31m#print(output.shape)\u001b[0m\u001b[0;34m\u001b[0m\u001b[0;34m\u001b[0m\u001b[0m\n",
            "\u001b[0;32m/usr/local/lib/python3.10/dist-packages/torch/nn/modules/module.py\u001b[0m in \u001b[0;36m_call_impl\u001b[0;34m(self, *args, **kwargs)\u001b[0m\n\u001b[1;32m   1499\u001b[0m                 \u001b[0;32mor\u001b[0m \u001b[0m_global_backward_pre_hooks\u001b[0m \u001b[0;32mor\u001b[0m \u001b[0m_global_backward_hooks\u001b[0m\u001b[0;34m\u001b[0m\u001b[0;34m\u001b[0m\u001b[0m\n\u001b[1;32m   1500\u001b[0m                 or _global_forward_hooks or _global_forward_pre_hooks):\n\u001b[0;32m-> 1501\u001b[0;31m             \u001b[0;32mreturn\u001b[0m \u001b[0mforward_call\u001b[0m\u001b[0;34m(\u001b[0m\u001b[0;34m*\u001b[0m\u001b[0margs\u001b[0m\u001b[0;34m,\u001b[0m \u001b[0;34m**\u001b[0m\u001b[0mkwargs\u001b[0m\u001b[0;34m)\u001b[0m\u001b[0;34m\u001b[0m\u001b[0;34m\u001b[0m\u001b[0m\n\u001b[0m\u001b[1;32m   1502\u001b[0m         \u001b[0;31m# Do not call functions when jit is used\u001b[0m\u001b[0;34m\u001b[0m\u001b[0;34m\u001b[0m\u001b[0m\n\u001b[1;32m   1503\u001b[0m         \u001b[0mfull_backward_hooks\u001b[0m\u001b[0;34m,\u001b[0m \u001b[0mnon_full_backward_hooks\u001b[0m \u001b[0;34m=\u001b[0m \u001b[0;34m[\u001b[0m\u001b[0;34m]\u001b[0m\u001b[0;34m,\u001b[0m \u001b[0;34m[\u001b[0m\u001b[0;34m]\u001b[0m\u001b[0;34m\u001b[0m\u001b[0;34m\u001b[0m\u001b[0m\n",
            "\u001b[0;32m<ipython-input-44-8765db182bd6>\u001b[0m in \u001b[0;36mforward\u001b[0;34m(self, src, tgt, src_mask, tgt_mask)\u001b[0m\n\u001b[1;32m     22\u001b[0m \u001b[0;34m\u001b[0m\u001b[0m\n\u001b[1;32m     23\u001b[0m     \u001b[0;32mdef\u001b[0m \u001b[0mforward\u001b[0m\u001b[0;34m(\u001b[0m\u001b[0mself\u001b[0m\u001b[0;34m,\u001b[0m \u001b[0msrc\u001b[0m\u001b[0;34m,\u001b[0m \u001b[0mtgt\u001b[0m\u001b[0;34m,\u001b[0m \u001b[0msrc_mask\u001b[0m\u001b[0;34m,\u001b[0m \u001b[0mtgt_mask\u001b[0m\u001b[0;34m)\u001b[0m\u001b[0;34m:\u001b[0m\u001b[0;34m\u001b[0m\u001b[0;34m\u001b[0m\u001b[0m\n\u001b[0;32m---> 24\u001b[0;31m         \u001b[0mencodings\u001b[0m \u001b[0;34m=\u001b[0m \u001b[0mself\u001b[0m\u001b[0;34m.\u001b[0m\u001b[0mencode\u001b[0m\u001b[0;34m(\u001b[0m\u001b[0msrc\u001b[0m\u001b[0;34m,\u001b[0m \u001b[0msrc_mask\u001b[0m\u001b[0;34m)\u001b[0m\u001b[0;34m\u001b[0m\u001b[0;34m\u001b[0m\u001b[0m\n\u001b[0m\u001b[1;32m     25\u001b[0m         \u001b[0;32mreturn\u001b[0m \u001b[0mself\u001b[0m\u001b[0;34m.\u001b[0m\u001b[0mdecode\u001b[0m\u001b[0;34m(\u001b[0m\u001b[0mencodings\u001b[0m\u001b[0;34m,\u001b[0m \u001b[0mtgt\u001b[0m\u001b[0;34m,\u001b[0m \u001b[0msrc_mask\u001b[0m\u001b[0;34m,\u001b[0m \u001b[0mtgt_mask\u001b[0m\u001b[0;34m)\u001b[0m\u001b[0;34m\u001b[0m\u001b[0;34m\u001b[0m\u001b[0m\n\u001b[1;32m     26\u001b[0m \u001b[0;34m\u001b[0m\u001b[0m\n",
            "\u001b[0;32m<ipython-input-44-8765db182bd6>\u001b[0m in \u001b[0;36mencode\u001b[0;34m(self, src, src_mask)\u001b[0m\n\u001b[1;32m     12\u001b[0m         \u001b[0msrc\u001b[0m \u001b[0;34m=\u001b[0m \u001b[0mself\u001b[0m\u001b[0;34m.\u001b[0m\u001b[0membeddingSrc\u001b[0m\u001b[0;34m(\u001b[0m\u001b[0msrc\u001b[0m\u001b[0;34m)\u001b[0m\u001b[0;34m\u001b[0m\u001b[0;34m\u001b[0m\u001b[0m\n\u001b[1;32m     13\u001b[0m         \u001b[0msrc\u001b[0m \u001b[0;34m=\u001b[0m \u001b[0mself\u001b[0m\u001b[0;34m.\u001b[0m\u001b[0mposEncoding\u001b[0m\u001b[0;34m(\u001b[0m\u001b[0msrc\u001b[0m\u001b[0;34m)\u001b[0m\u001b[0;34m\u001b[0m\u001b[0;34m\u001b[0m\u001b[0m\n\u001b[0;32m---> 14\u001b[0;31m         \u001b[0mencodings\u001b[0m \u001b[0;34m=\u001b[0m \u001b[0mself\u001b[0m\u001b[0;34m.\u001b[0m\u001b[0mencoder\u001b[0m\u001b[0;34m(\u001b[0m\u001b[0msrc\u001b[0m\u001b[0;34m,\u001b[0m \u001b[0msrc_mask\u001b[0m\u001b[0;34m)\u001b[0m\u001b[0;34m\u001b[0m\u001b[0;34m\u001b[0m\u001b[0m\n\u001b[0m\u001b[1;32m     15\u001b[0m         \u001b[0;32mreturn\u001b[0m \u001b[0mencodings\u001b[0m\u001b[0;34m\u001b[0m\u001b[0;34m\u001b[0m\u001b[0m\n\u001b[1;32m     16\u001b[0m \u001b[0;34m\u001b[0m\u001b[0m\n",
            "\u001b[0;32m/usr/local/lib/python3.10/dist-packages/torch/nn/modules/module.py\u001b[0m in \u001b[0;36m_call_impl\u001b[0;34m(self, *args, **kwargs)\u001b[0m\n\u001b[1;32m   1499\u001b[0m                 \u001b[0;32mor\u001b[0m \u001b[0m_global_backward_pre_hooks\u001b[0m \u001b[0;32mor\u001b[0m \u001b[0m_global_backward_hooks\u001b[0m\u001b[0;34m\u001b[0m\u001b[0;34m\u001b[0m\u001b[0m\n\u001b[1;32m   1500\u001b[0m                 or _global_forward_hooks or _global_forward_pre_hooks):\n\u001b[0;32m-> 1501\u001b[0;31m             \u001b[0;32mreturn\u001b[0m \u001b[0mforward_call\u001b[0m\u001b[0;34m(\u001b[0m\u001b[0;34m*\u001b[0m\u001b[0margs\u001b[0m\u001b[0;34m,\u001b[0m \u001b[0;34m**\u001b[0m\u001b[0mkwargs\u001b[0m\u001b[0;34m)\u001b[0m\u001b[0;34m\u001b[0m\u001b[0;34m\u001b[0m\u001b[0m\n\u001b[0m\u001b[1;32m   1502\u001b[0m         \u001b[0;31m# Do not call functions when jit is used\u001b[0m\u001b[0;34m\u001b[0m\u001b[0;34m\u001b[0m\u001b[0m\n\u001b[1;32m   1503\u001b[0m         \u001b[0mfull_backward_hooks\u001b[0m\u001b[0;34m,\u001b[0m \u001b[0mnon_full_backward_hooks\u001b[0m \u001b[0;34m=\u001b[0m \u001b[0;34m[\u001b[0m\u001b[0;34m]\u001b[0m\u001b[0;34m,\u001b[0m \u001b[0;34m[\u001b[0m\u001b[0;34m]\u001b[0m\u001b[0;34m\u001b[0m\u001b[0;34m\u001b[0m\u001b[0m\n",
            "\u001b[0;32m<ipython-input-30-f0810b092f6d>\u001b[0m in \u001b[0;36mforward\u001b[0;34m(self, x, mask)\u001b[0m\n\u001b[1;32m     14\u001b[0m     \u001b[0;32mdef\u001b[0m \u001b[0mforward\u001b[0m\u001b[0;34m(\u001b[0m\u001b[0mself\u001b[0m\u001b[0;34m,\u001b[0m \u001b[0mx\u001b[0m\u001b[0;34m,\u001b[0m \u001b[0mmask\u001b[0m\u001b[0;34m)\u001b[0m\u001b[0;34m:\u001b[0m\u001b[0;34m\u001b[0m\u001b[0;34m\u001b[0m\u001b[0m\n\u001b[1;32m     15\u001b[0m         \u001b[0;32mfor\u001b[0m \u001b[0mlayer\u001b[0m \u001b[0;32min\u001b[0m \u001b[0mself\u001b[0m\u001b[0;34m.\u001b[0m\u001b[0mlayers\u001b[0m\u001b[0;34m:\u001b[0m\u001b[0;34m\u001b[0m\u001b[0;34m\u001b[0m\u001b[0m\n\u001b[0;32m---> 16\u001b[0;31m             \u001b[0mx\u001b[0m \u001b[0;34m=\u001b[0m \u001b[0mlayer\u001b[0m\u001b[0;34m(\u001b[0m\u001b[0mx\u001b[0m\u001b[0;34m,\u001b[0m \u001b[0mmask\u001b[0m\u001b[0;34m)\u001b[0m\u001b[0;34m\u001b[0m\u001b[0;34m\u001b[0m\u001b[0m\n\u001b[0m\u001b[1;32m     17\u001b[0m         \u001b[0;32mreturn\u001b[0m \u001b[0mx\u001b[0m\u001b[0;34m\u001b[0m\u001b[0;34m\u001b[0m\u001b[0m\n",
            "\u001b[0;32m/usr/local/lib/python3.10/dist-packages/torch/nn/modules/module.py\u001b[0m in \u001b[0;36m_call_impl\u001b[0;34m(self, *args, **kwargs)\u001b[0m\n\u001b[1;32m   1499\u001b[0m                 \u001b[0;32mor\u001b[0m \u001b[0m_global_backward_pre_hooks\u001b[0m \u001b[0;32mor\u001b[0m \u001b[0m_global_backward_hooks\u001b[0m\u001b[0;34m\u001b[0m\u001b[0;34m\u001b[0m\u001b[0m\n\u001b[1;32m   1500\u001b[0m                 or _global_forward_hooks or _global_forward_pre_hooks):\n\u001b[0;32m-> 1501\u001b[0;31m             \u001b[0;32mreturn\u001b[0m \u001b[0mforward_call\u001b[0m\u001b[0;34m(\u001b[0m\u001b[0;34m*\u001b[0m\u001b[0margs\u001b[0m\u001b[0;34m,\u001b[0m \u001b[0;34m**\u001b[0m\u001b[0mkwargs\u001b[0m\u001b[0;34m)\u001b[0m\u001b[0;34m\u001b[0m\u001b[0;34m\u001b[0m\u001b[0m\n\u001b[0m\u001b[1;32m   1502\u001b[0m         \u001b[0;31m# Do not call functions when jit is used\u001b[0m\u001b[0;34m\u001b[0m\u001b[0;34m\u001b[0m\u001b[0m\n\u001b[1;32m   1503\u001b[0m         \u001b[0mfull_backward_hooks\u001b[0m\u001b[0;34m,\u001b[0m \u001b[0mnon_full_backward_hooks\u001b[0m \u001b[0;34m=\u001b[0m \u001b[0;34m[\u001b[0m\u001b[0;34m]\u001b[0m\u001b[0;34m,\u001b[0m \u001b[0;34m[\u001b[0m\u001b[0;34m]\u001b[0m\u001b[0;34m\u001b[0m\u001b[0;34m\u001b[0m\u001b[0m\n",
            "\u001b[0;32m<ipython-input-29-338e40e70377>\u001b[0m in \u001b[0;36mforward\u001b[0;34m(self, x, mask)\u001b[0m\n\u001b[1;32m     12\u001b[0m         \u001b[0;31m# put x through both sublayers\u001b[0m\u001b[0;34m\u001b[0m\u001b[0;34m\u001b[0m\u001b[0m\n\u001b[1;32m     13\u001b[0m         \u001b[0mx\u001b[0m \u001b[0;34m=\u001b[0m \u001b[0mself\u001b[0m\u001b[0;34m.\u001b[0m\u001b[0msublayer1\u001b[0m\u001b[0;34m(\u001b[0m\u001b[0mx\u001b[0m\u001b[0;34m,\u001b[0m \u001b[0mmask\u001b[0m\u001b[0;34m)\u001b[0m\u001b[0;34m\u001b[0m\u001b[0;34m\u001b[0m\u001b[0m\n\u001b[0;32m---> 14\u001b[0;31m         \u001b[0mx\u001b[0m \u001b[0;34m=\u001b[0m \u001b[0mself\u001b[0m\u001b[0;34m.\u001b[0m\u001b[0msublayer2\u001b[0m\u001b[0;34m(\u001b[0m\u001b[0mx\u001b[0m\u001b[0;34m,\u001b[0m \u001b[0mmask\u001b[0m\u001b[0;34m)\u001b[0m\u001b[0;34m\u001b[0m\u001b[0;34m\u001b[0m\u001b[0m\n\u001b[0m\u001b[1;32m     15\u001b[0m         \u001b[0;32mreturn\u001b[0m \u001b[0mx\u001b[0m\u001b[0;34m\u001b[0m\u001b[0;34m\u001b[0m\u001b[0m\n",
            "\u001b[0;32m/usr/local/lib/python3.10/dist-packages/torch/nn/modules/module.py\u001b[0m in \u001b[0;36m_call_impl\u001b[0;34m(self, *args, **kwargs)\u001b[0m\n\u001b[1;32m   1499\u001b[0m                 \u001b[0;32mor\u001b[0m \u001b[0m_global_backward_pre_hooks\u001b[0m \u001b[0;32mor\u001b[0m \u001b[0m_global_backward_hooks\u001b[0m\u001b[0;34m\u001b[0m\u001b[0;34m\u001b[0m\u001b[0m\n\u001b[1;32m   1500\u001b[0m                 or _global_forward_hooks or _global_forward_pre_hooks):\n\u001b[0;32m-> 1501\u001b[0;31m             \u001b[0;32mreturn\u001b[0m \u001b[0mforward_call\u001b[0m\u001b[0;34m(\u001b[0m\u001b[0;34m*\u001b[0m\u001b[0margs\u001b[0m\u001b[0;34m,\u001b[0m \u001b[0;34m**\u001b[0m\u001b[0mkwargs\u001b[0m\u001b[0;34m)\u001b[0m\u001b[0;34m\u001b[0m\u001b[0;34m\u001b[0m\u001b[0m\n\u001b[0m\u001b[1;32m   1502\u001b[0m         \u001b[0;31m# Do not call functions when jit is used\u001b[0m\u001b[0;34m\u001b[0m\u001b[0;34m\u001b[0m\u001b[0m\n\u001b[1;32m   1503\u001b[0m         \u001b[0mfull_backward_hooks\u001b[0m\u001b[0;34m,\u001b[0m \u001b[0mnon_full_backward_hooks\u001b[0m \u001b[0;34m=\u001b[0m \u001b[0;34m[\u001b[0m\u001b[0;34m]\u001b[0m\u001b[0;34m,\u001b[0m \u001b[0;34m[\u001b[0m\u001b[0;34m]\u001b[0m\u001b[0;34m\u001b[0m\u001b[0;34m\u001b[0m\u001b[0m\n",
            "\u001b[0;32m<ipython-input-28-a187cb283e32>\u001b[0m in \u001b[0;36mforward\u001b[0;34m(self, x, mask, encoding)\u001b[0m\n\u001b[1;32m     18\u001b[0m                 \u001b[0msum_\u001b[0m \u001b[0;34m=\u001b[0m \u001b[0mx\u001b[0m \u001b[0;34m+\u001b[0m \u001b[0mself\u001b[0m\u001b[0;34m.\u001b[0m\u001b[0mdropout\u001b[0m\u001b[0;34m(\u001b[0m\u001b[0mself\u001b[0m\u001b[0;34m.\u001b[0m\u001b[0mfunction\u001b[0m\u001b[0;34m(\u001b[0m\u001b[0mx\u001b[0m\u001b[0;34m,\u001b[0m \u001b[0mencoding\u001b[0m\u001b[0;34m,\u001b[0m \u001b[0mencoding\u001b[0m\u001b[0;34m,\u001b[0m \u001b[0mmask\u001b[0m\u001b[0;34m)\u001b[0m\u001b[0;34m)\u001b[0m\u001b[0;34m\u001b[0m\u001b[0;34m\u001b[0m\u001b[0m\n\u001b[1;32m     19\u001b[0m         \u001b[0;32melse\u001b[0m\u001b[0;34m:\u001b[0m\u001b[0;34m\u001b[0m\u001b[0;34m\u001b[0m\u001b[0m\n\u001b[0;32m---> 20\u001b[0;31m             \u001b[0msum_\u001b[0m \u001b[0;34m=\u001b[0m \u001b[0mx\u001b[0m \u001b[0;34m+\u001b[0m \u001b[0mself\u001b[0m\u001b[0;34m.\u001b[0m\u001b[0mdropout\u001b[0m\u001b[0;34m(\u001b[0m\u001b[0mself\u001b[0m\u001b[0;34m.\u001b[0m\u001b[0mfunction\u001b[0m\u001b[0;34m(\u001b[0m\u001b[0mx\u001b[0m\u001b[0;34m)\u001b[0m\u001b[0;34m)\u001b[0m\u001b[0;34m\u001b[0m\u001b[0;34m\u001b[0m\u001b[0m\n\u001b[0m\u001b[1;32m     21\u001b[0m \u001b[0;34m\u001b[0m\u001b[0m\n\u001b[1;32m     22\u001b[0m         \u001b[0;32mreturn\u001b[0m \u001b[0mself\u001b[0m\u001b[0;34m.\u001b[0m\u001b[0mlayerNorm\u001b[0m\u001b[0;34m(\u001b[0m\u001b[0msum_\u001b[0m\u001b[0;34m)\u001b[0m\u001b[0;34m\u001b[0m\u001b[0;34m\u001b[0m\u001b[0m\n",
            "\u001b[0;32m/usr/local/lib/python3.10/dist-packages/torch/nn/modules/module.py\u001b[0m in \u001b[0;36m_call_impl\u001b[0;34m(self, *args, **kwargs)\u001b[0m\n\u001b[1;32m   1499\u001b[0m                 \u001b[0;32mor\u001b[0m \u001b[0m_global_backward_pre_hooks\u001b[0m \u001b[0;32mor\u001b[0m \u001b[0m_global_backward_hooks\u001b[0m\u001b[0;34m\u001b[0m\u001b[0;34m\u001b[0m\u001b[0m\n\u001b[1;32m   1500\u001b[0m                 or _global_forward_hooks or _global_forward_pre_hooks):\n\u001b[0;32m-> 1501\u001b[0;31m             \u001b[0;32mreturn\u001b[0m \u001b[0mforward_call\u001b[0m\u001b[0;34m(\u001b[0m\u001b[0;34m*\u001b[0m\u001b[0margs\u001b[0m\u001b[0;34m,\u001b[0m \u001b[0;34m**\u001b[0m\u001b[0mkwargs\u001b[0m\u001b[0;34m)\u001b[0m\u001b[0;34m\u001b[0m\u001b[0;34m\u001b[0m\u001b[0m\n\u001b[0m\u001b[1;32m   1502\u001b[0m         \u001b[0;31m# Do not call functions when jit is used\u001b[0m\u001b[0;34m\u001b[0m\u001b[0;34m\u001b[0m\u001b[0m\n\u001b[1;32m   1503\u001b[0m         \u001b[0mfull_backward_hooks\u001b[0m\u001b[0;34m,\u001b[0m \u001b[0mnon_full_backward_hooks\u001b[0m \u001b[0;34m=\u001b[0m \u001b[0;34m[\u001b[0m\u001b[0;34m]\u001b[0m\u001b[0;34m,\u001b[0m \u001b[0;34m[\u001b[0m\u001b[0;34m]\u001b[0m\u001b[0;34m\u001b[0m\u001b[0;34m\u001b[0m\u001b[0m\n",
            "\u001b[0;32m<ipython-input-26-8d42d35b6f01>\u001b[0m in \u001b[0;36mforward\u001b[0;34m(self, x)\u001b[0m\n\u001b[1;32m     10\u001b[0m \u001b[0;34m\u001b[0m\u001b[0m\n\u001b[1;32m     11\u001b[0m     \u001b[0;32mdef\u001b[0m \u001b[0mforward\u001b[0m\u001b[0;34m(\u001b[0m\u001b[0mself\u001b[0m\u001b[0;34m,\u001b[0m \u001b[0mx\u001b[0m\u001b[0;34m)\u001b[0m\u001b[0;34m:\u001b[0m\u001b[0;34m\u001b[0m\u001b[0;34m\u001b[0m\u001b[0m\n\u001b[0;32m---> 12\u001b[0;31m         \u001b[0mx\u001b[0m \u001b[0;34m=\u001b[0m \u001b[0mself\u001b[0m\u001b[0;34m.\u001b[0m\u001b[0mlinear1\u001b[0m\u001b[0;34m(\u001b[0m\u001b[0mx\u001b[0m\u001b[0;34m)\u001b[0m\u001b[0;34m\u001b[0m\u001b[0;34m\u001b[0m\u001b[0m\n\u001b[0m\u001b[1;32m     13\u001b[0m         \u001b[0mx\u001b[0m \u001b[0;34m=\u001b[0m \u001b[0mx\u001b[0m\u001b[0;34m.\u001b[0m\u001b[0mrelu\u001b[0m\u001b[0;34m(\u001b[0m\u001b[0;34m)\u001b[0m\u001b[0;34m\u001b[0m\u001b[0;34m\u001b[0m\u001b[0m\n\u001b[1;32m     14\u001b[0m         \u001b[0mx\u001b[0m \u001b[0;34m=\u001b[0m \u001b[0mself\u001b[0m\u001b[0;34m.\u001b[0m\u001b[0mdropout\u001b[0m\u001b[0;34m(\u001b[0m\u001b[0mx\u001b[0m\u001b[0;34m)\u001b[0m\u001b[0;34m\u001b[0m\u001b[0;34m\u001b[0m\u001b[0m\n",
            "\u001b[0;32m/usr/local/lib/python3.10/dist-packages/torch/nn/modules/module.py\u001b[0m in \u001b[0;36m_call_impl\u001b[0;34m(self, *args, **kwargs)\u001b[0m\n\u001b[1;32m   1499\u001b[0m                 \u001b[0;32mor\u001b[0m \u001b[0m_global_backward_pre_hooks\u001b[0m \u001b[0;32mor\u001b[0m \u001b[0m_global_backward_hooks\u001b[0m\u001b[0;34m\u001b[0m\u001b[0;34m\u001b[0m\u001b[0m\n\u001b[1;32m   1500\u001b[0m                 or _global_forward_hooks or _global_forward_pre_hooks):\n\u001b[0;32m-> 1501\u001b[0;31m             \u001b[0;32mreturn\u001b[0m \u001b[0mforward_call\u001b[0m\u001b[0;34m(\u001b[0m\u001b[0;34m*\u001b[0m\u001b[0margs\u001b[0m\u001b[0;34m,\u001b[0m \u001b[0;34m**\u001b[0m\u001b[0mkwargs\u001b[0m\u001b[0;34m)\u001b[0m\u001b[0;34m\u001b[0m\u001b[0;34m\u001b[0m\u001b[0m\n\u001b[0m\u001b[1;32m   1502\u001b[0m         \u001b[0;31m# Do not call functions when jit is used\u001b[0m\u001b[0;34m\u001b[0m\u001b[0;34m\u001b[0m\u001b[0m\n\u001b[1;32m   1503\u001b[0m         \u001b[0mfull_backward_hooks\u001b[0m\u001b[0;34m,\u001b[0m \u001b[0mnon_full_backward_hooks\u001b[0m \u001b[0;34m=\u001b[0m \u001b[0;34m[\u001b[0m\u001b[0;34m]\u001b[0m\u001b[0;34m,\u001b[0m \u001b[0;34m[\u001b[0m\u001b[0;34m]\u001b[0m\u001b[0;34m\u001b[0m\u001b[0;34m\u001b[0m\u001b[0m\n",
            "\u001b[0;32m/usr/local/lib/python3.10/dist-packages/torch/nn/modules/linear.py\u001b[0m in \u001b[0;36mforward\u001b[0;34m(self, input)\u001b[0m\n\u001b[1;32m    112\u001b[0m \u001b[0;34m\u001b[0m\u001b[0m\n\u001b[1;32m    113\u001b[0m     \u001b[0;32mdef\u001b[0m \u001b[0mforward\u001b[0m\u001b[0;34m(\u001b[0m\u001b[0mself\u001b[0m\u001b[0;34m,\u001b[0m \u001b[0minput\u001b[0m\u001b[0;34m:\u001b[0m \u001b[0mTensor\u001b[0m\u001b[0;34m)\u001b[0m \u001b[0;34m->\u001b[0m \u001b[0mTensor\u001b[0m\u001b[0;34m:\u001b[0m\u001b[0;34m\u001b[0m\u001b[0;34m\u001b[0m\u001b[0m\n\u001b[0;32m--> 114\u001b[0;31m         \u001b[0;32mreturn\u001b[0m \u001b[0mF\u001b[0m\u001b[0;34m.\u001b[0m\u001b[0mlinear\u001b[0m\u001b[0;34m(\u001b[0m\u001b[0minput\u001b[0m\u001b[0;34m,\u001b[0m \u001b[0mself\u001b[0m\u001b[0;34m.\u001b[0m\u001b[0mweight\u001b[0m\u001b[0;34m,\u001b[0m \u001b[0mself\u001b[0m\u001b[0;34m.\u001b[0m\u001b[0mbias\u001b[0m\u001b[0;34m)\u001b[0m\u001b[0;34m\u001b[0m\u001b[0;34m\u001b[0m\u001b[0m\n\u001b[0m\u001b[1;32m    115\u001b[0m \u001b[0;34m\u001b[0m\u001b[0m\n\u001b[1;32m    116\u001b[0m     \u001b[0;32mdef\u001b[0m \u001b[0mextra_repr\u001b[0m\u001b[0;34m(\u001b[0m\u001b[0mself\u001b[0m\u001b[0;34m)\u001b[0m \u001b[0;34m->\u001b[0m \u001b[0mstr\u001b[0m\u001b[0;34m:\u001b[0m\u001b[0;34m\u001b[0m\u001b[0;34m\u001b[0m\u001b[0m\n",
            "\u001b[0;31mKeyboardInterrupt\u001b[0m: "
          ]
        }
      ],
      "source": [
        "model = trainModel()"
      ]
    },
    {
      "cell_type": "code",
      "execution_count": null,
      "metadata": {
        "id": "yGcZk3N_Rbqc"
      },
      "outputs": [],
      "source": [
        "# save the model\n",
        "#pickle.dump(model, open(folder + \"size10kModel.pkl\", \"wb\"))\n",
        "# enTokenizer = pickle.load(open(enTokenizerName, \"rb\"))\n",
        "# deTokenizer = pickle.load(open(deTokenizerName, \"rb\"))\n",
        "# pickle.dump(enTokenizer, open(folder + \"en10ktokenizer.pkl\", \"wb\"))\n",
        "# pickle.dump(deTokenizer, open(folder + \"de10ktokenizer.pkl\", \"wb\"))\n",
        "#torch.save(model.state_dict(), folder + \"size10Modell\")"
      ]
    },
    {
      "cell_type": "code",
      "execution_count": null,
      "metadata": {
        "id": "Y9iMrbV-pU3_"
      },
      "outputs": [],
      "source": [
        "#model = WholeNetwork(512, 15000, 1).to(device)\n",
        "#model.load_state_dict(torch.load(folder + \"size10Modell\"))\n",
        "\n",
        "#model = pickle.load(open(folder + \"size10kModel.pkl\", \"rb\"))"
      ]
    },
    {
      "cell_type": "code",
      "execution_count": 50,
      "metadata": {
        "id": "lqxT8ONhqDSW"
      },
      "outputs": [],
      "source": [
        "import sys\n",
        "from nltk.translate.bleu_score import sentence_bleu\n",
        "from nltk.translate.bleu_score import corpus_bleu\n",
        "\n",
        "def evalModel(srcVocab=10000, tgtVocab=10000):\n",
        "  with torch.no_grad():\n",
        "    model = WholeNetwork(512, srcVocab, tgtVocab, PADDING_IDX)\n",
        "    model.load_state_dict(torch.load(folder + \"model_2vocab_5_7\", map_location=device))\n",
        "    model = model.to(device)\n",
        "    model.eval()\n",
        "    #suffix = \"10k.txt\"\n",
        "    bleuScores = []\n",
        "    dataset = SentenceDataset(en30kVal, de30kVal, True)\n",
        "\n",
        "    train_dataloader = DataLoader(dataset, batch_size=128, collate_fn =\n",
        "                                  PadCollate(enTokenizer, deTokenizer))\n",
        "    dataloader_iter = iter(train_dataloader)\n",
        "    i = 0\n",
        "    numFails = 0\n",
        "    print(\"Beginning training...\")\n",
        "    avgLossAtEpoch = 100\n",
        "    dataloader_iter = iter(train_dataloader)\n",
        "    i = 0\n",
        "    for src, tgt in dataloader_iter:\n",
        "        \n",
        "        #print(\"Everything else time:\", time.time()-startTime)\n",
        "        src, tgt = src.to(device), tgt.to(device)\n",
        "        tgt_x = tgt[:, :-1]\n",
        "        tgt_y = tgt[:, 1:]\n",
        "        #print(tgt.shape)\n",
        "        src_mask = (src != PADDING_IDX).unsqueeze(-2)\n",
        "        tgt_mask = makeStdMask(tgt_x)\n",
        "        #print(tgt_mask[0])\n",
        "        #print(tgt_mask.shape)\n",
        "        #print(src.shape)\n",
        "        #tgt_mask = get_tgt_mask(src.shape[1]).to(device)\n",
        "        hyps = predictFromTokens(model, src, srcVocab, tgtVocab, 100)\n",
        "        refs = decodeSentences(tgt_y, deTokenizer)\n",
        "        refs = [[ref.split(\" \")] for ref in refs]\n",
        "        hyps = [hyp.split(\" \") for hyp in hyps]\n",
        "        \n",
        "        print(refs)\n",
        "        print(hyps)\n",
        "        \n",
        "        # print(len(argmaxOutput), len(tgt_y))\n",
        "        bleu = corpus_bleu(refs, hyps)\n",
        "        print(bleu)\n",
        "        bleuScores.append(bleu)\n",
        "        i+=1\n",
        "  print(bleuScores)\n",
        "  print(np.mean(bleuScores))\n",
        "\n",
        "        #print(\"ARGMAX\")\n",
        "        #print(argmaxOutput)\n",
        "        \n",
        "#         if i > 20:\n",
        "#             break\n",
        "        # predictions = decodeSentences(argmaxOutput, deTokenizer)[:5]\n",
        "        # actual = decodeSentences(tgt, deTokenizer)[:5]\n",
        "        # print(\"Predicted output: \")\n",
        "        # print(predictions)\n",
        "        # print(\"Correct output: \")\n",
        "        # print(actual)\n",
        "        "
      ]
    },
    {
      "cell_type": "code",
      "execution_count": 51,
      "metadata": {
        "id": "COpXWM_VslEX",
        "outputId": "2b61ed79-46a0-42b3-ed9f-c18953f464ba",
        "colab": {
          "base_uri": "https://localhost:8080/"
        }
      },
      "outputs": [
        {
          "output_type": "stream",
          "name": "stdout",
          "text": [
            "Creating pairs...\n",
            "1014\n",
            "Beginning training...\n",
            "[[['Ein', 'Mann', 'box', 't']], [['Ein', 'Junge', 'sitzt', 'auf', 'einer', 'Schaukel', '.']], [['Ein', 'Künstler', 'malt', 'im', 'Freien', '.']], [['Drei', 'kleine', 'Hunde', 'schnüff', 'eln', 'an', 'etwas', '.']], [['Zwei', 'Mädchen', 'gehen', 'eine', 'Straße', 'entlang', '.']], [['Drei', 'Frauen', 'sitzen', 'da', 'und', 'lächeln', '.']], [['Zwei', 'Menschen', 'überqueren', 'eine', 'Straße', '.']], [['Ein', 'kleiner', 'Junge', 'springt', 'in', 'das', 'Wasser', '.']], [['Drei', 'Hunde', 'spielen', 'im', 'Schnee', '.']], [['Sie', 'posieren', 'für', 'ein', 'Bild', '.']], [['Eine', 'Band', 'spielt', 'auf', 'dem', 'Gehweg', '.']], [['Junge', 'macht', 'Kunststücke', 'auf', 'einem', 'Skateboard']], [['Eine', 'Person', 'trägt', 'viele', 'Taschen', '.']], [['Ein', 'Mann', 'beim', 'Wake', 'boarden', 'im', 'Wasser', '.']], [['Ein', 'Vogel', 'fliegt', 'über', 'das', 'Wasser', '.']], [['Ein', 'Snowboarder', 'vollführt', 'ein', 'Kunststück', '.']], [['Die', 'Frau', 'hält', 'eine', 'Geige', '.']], [['Die', 'Männer', 'kämpfen', 'während', 'des', 'Spiels', '.']], [['Kinder', 'einer', 'Schul', 'klasse', 'sprechen', 'miteinander', 'und', 'lernen', '.']], [['Mehrere', 'Mädchen', 'spielen', 'mit', 'Mehl', '.']], [['Frauen', 'in', 'ethn', 'ischer', 'Kleidung', 'singen', 'zusammen', '.']], [['Ein', 'Arbeiter', 'klammert', 'sich', 'an', 'einen', 'Baum', '.']], [['Roller', '-', 'Derby', '-', 'Spielerin', 'fährt', 'mit', 'anderen', 'Rollschuh', '.']], [['Bunt', 'kostümierte', 'Männer', 'bei', 'einer', 'Aufführung', '.']], [['Jungen', 'treten', 'in', 'einer', 'Kampfsport', 'art', 'gegeneinander', 'an', '.']], [['Eine', 'Gruppe', 'von', 'Menschen', 'läuft', '.']], [['Eine', 'Frau', 'sitzt', 'an', 'einer', 'dunklen', 'Bar', '.']], [['Ein', 'Mann', 'isst', 'in', 'einem', 'Restaurant', 'zu', 'Mittag', '.']], [['Kinder', 'fahren', 'in', 'einem', 'Ketten', 'kar', 'ussell']], [['Zwei', 'Kinder', 'graben', 'Lö', 'cher', 'in', 'die', 'Erde', '.']], [['Zwei', 'Pudel', 'rennen', 'durch', 'den', 'Schnee', '.']], [['Vier', 'Männer', 'stehen', 'bei', 'einem', 'gelben', 'Auto', '.']], [['Zwei', 'Frauen', 'lächeln', 'bei', 'einer', 'Veranstaltung', '.']], [['Ein', 'Kind', 'sitzt', 'auf', 'einer', 'Ge', 'stein', 's', 'formation', '.']], [['Zwei', 'Jungen', 'spielen', 'ein', 'M', 'ur', 'mel', 'spiel', '.']], [['Ein', 'Mann', 'in', 'einem', 'grauen', 'T', '-', 'Shirt', 'ruht', 'sich', 'aus', '.']], [['Ein', 'Schwimmer', 'schwimmt', 'in', 'einem', 'Swimmingpool', '.']], [['Zwei', 'kleine', 'Mädchen', 'gehen', 'durch', 'die', 'Blätter', '.']], [['Vier', 'Frauen', 'haben', 'sich', 'mit', 'lustigen', 'Kostümen', 'verkleidet', '.']], [['Mädchen', 'in', 'schwarzen', 'Bikinis', 'spielen', 'Beachvolleyball', '.']], [['Ein', 'kleiner', 'Hund', 'springt', 'auf', 'einer', 'Straße', '.']], [['Ein', 'Hund', 'rennt', 'über', 'eine', 'tie', 'fe', 'Schnee', 'decke', '.']], [['Eine', 'vierköpfige', 'Band', 'hat', 'einen', 'Auftritt', '.']], [['Ein', 'Mann', 'zieht', 'Gegenstände', 'auf', 'einem', 'Wagen', '.']], [['Junge', 'Menschen', 'sind', 'mit', 'einem', 'Spiel', 'beschäftigt', '.']], [['Ein', 'junger', 'Skifahrer', 'blickt', 'in', 'die', 'Kamera', '.']], [['Eine', 'nächt', 'liche', 'Straßen', 'ansicht', 'mit', 'einem', 'Restaurant', '.']], [['Kinder', 'baden', 'im', 'Wasser', 'aus', 'großen', 'Fä', 'ss', 'ern', '.']], [['Zwei', 'kleine', 'Mädchen', 'in', 'blauen', 'Kleidern', 'lachen', '.']], [['Eine', 'Person', 'fährt', 'auf', 'ihrem', 'Geländemotorrad', '.']], [['Der', 'Schatten', 'zweier', 'Männer', ',', 'die', 'etwas', 'ver', 'zur', 'ren', '.']], [['Reisen', 'de', 'beim', 'Wander', 'n', 'an', 'einem', 'sehr', 'kalten', 'Tag', '.']], [['Menschen', 'tanzen', 'und', 'klatschen', 'in', 'die', 'Hände', '.']], [['Eine', 'Gruppe', 'von', 'Musikern', 'macht', 'Musik', 'auf', 'nah', 'men', '.']], [['Straßenverkäufer', 'rückt', 'Waren', 'auf', 'dem', 'Tisch', 'zurecht', '.']], [['Ein', 'Kass', 'ierer', 'steht', 'an', 'einem', 'Schalter', '.']], [['Zwei', 'ältere', 'Jungen', 'spielen', 'Gitarre', '.']], [['Eine', 'Gruppe', 'k', 'amp', 'iert', 'in', 'einer', 'einsamen', 'Gegend', '.']], [['Ein', 'Sänger', 'singt', 'zusammen', 'mit', 'dem', 'Publikum', 'bei', 'einem', 'Auftritt', '.']], [['Ein', 'Künstler', 'arbeitet', 'an', 'einer', 'Eisskulptur']], [['Zwei', 'Kinder', 'tanzen', 'bei', 'einer', 'Tanz', 'aufführung', '.']], [['L', 'y', 'n', 'y', 'r', 'd', 'Sky', 'n', 'y', 'r', 'd', 'tritt']], [['Zwei', 'Kinder', 'spielen', 'auf', 'einem', 'Klettergerüst', '.']], [['Zwei', 'Männer', 'sitzen', 'um', 'einen', 'glänzenden', 'Grill', '.']], [['Einige', 'Menschen', 'stehen', 'auf', 'einem', 'U', '-', 'Bahnsteig', '.']], [['Die', 'drei', 'Kinder', 'befinden', 'sich', 'in', 'einem', 'Käfig', '.']], [['Zwei', 'Männer', 'rauchen', 'außerhalb', 'eines', 'Parks', '.']], [['Eine', 'Frau', 'sitzt', 'auf', 'einer', 'öffentlichen', 'Bank', '.']], [['Ein', 'Baby', 'sitzt', 'auf', 'einem', 'blauen', 'Cabr', 'io', '.']], [['Fotografen', 'machen', 'eine', 'Dok', 'ument', 'ation', 'an', 'einem', 'Ver', 'anstalt', 'ungsort', '.']], [['Menschen', 'nehmen', 'an', 'einem', 'J', '.', 'P', '.', 'M', 'organ', 'Cor', 'por']], [['Ein', 'Herr', 'kommt', 'aus', 'einem', 'Waschsalon', '.']], [['Zwei', 'Männer', 'gehen', 'einen', 'unbefestigten', 'Weg', 'entlang', '.']], [['Menschen', 'spielen', 'in', 'der', 'Dämmerung', 'in', 'einem', 'Springbrunnen', '.']], [['Zwei', 'Jugendliche', 'gehen', 'eine', 'ab', 'schü', 'ss', 'ige', 'Straße', 'hinunter', '.']], [['Mehrere', 'Körper', 'prallen', 'bei', 'einem', 'Fußballspiel', 'aufeinander', '.']], [['Drei', 'Männer', 'auf', 'Pferden', 'während', 'eines', 'Rennens', '.']], [['Ein', 'Kind', 'kommt', 'mit', 'dem', 'Snowboard', 'zum', 'Stehen']], [['Drei', 'Männer', 'treten', 'bei', 'einem', 'Hür', 'den', 'lauf', 'gegeneinander', 'an', '.']], [['Vier', 'kleine', 'Kinder', 'spielen', 'mit', 'leeren', 'Behälter', 'n', '.']], [['Drei', 'Hunde', 'spielen', 'im', 'Wasser', '.']], [['Eine', 'Person', 'auf', 'einem', 'Schneem', 'obil', 'mitten', 'im', 'Sprung', '.']], [['Eine', 'Frau', 'spielt', 'ein', 'Lied', 'auf', 'ihrer', 'Geige', '.']], [['Ein', 'sü', 'ßes', 'Baby', 'lächelt', 'einem', 'anderen', 'Kind', 'zu', '.']], [['Kind', 'spielt', 'auf', 'einem', 'Spielplatz', 'und', 'hängt', 'dabei', 'an', 'Stangen', '.']], [['Ein', 'Mann', 'fährt', 'ein', 'altmod', 'isches', 'rotes', 'Rennauto', '.']], [['Ein', 'Mann', 'und', 'eine', 'Frau', 'fischen', 'am', 'Strand', '.']], [['Zwei', 'Männer', 'beim', 'Militär', 'spielen', 'Baseball', '.']], [['Eine', 'Gruppe', 'schott', 'ischer', 'Offiziere', 'gibt', 'eine', 'Vorführung', '.']], [['Ein', 'einzelner', 'Feuerwehrmann', 'hilft', 'bei', 'der', 'Be', 'käm', 'pf', 'ung', 'eines', 'großen']], [['Der', 'braune', 'Hund', 'trägt', 'ein', 'schwarzes', 'Halsband', '.']], [['Mehrere', 'Menschen', 'stehen', 'in', 'der', 'Dämmerung', 'in', 'der', 'Nähe', 'einiger', 'Bäume', '.']], [['Ein', 'blauer', 'Jeep', 'fährt', 'in', 'tiefes', ',', 'schlamm', 'iges', 'Wasser', '.']], [['Ein', 'Mann', 'sitzt', 'auf', 'dem', 'Boden', 'und', 'spielt', 'Gitarre', '.']], [['Eine', 'Drei', '-', 'Mann', '-', 'Band', 'tritt', 'auf', 'einer', 'Bühne', 'auf', '.']], [['Ein', 'Mann', 'brät', 'Bur', 'ger', 'auf', 'einem', 'schwarzen', 'Grill', '.']], [['Die', 'Sk', 'ier', 'befinden', 'sich', 'vor', 'der', 'Hütte', '.']], [['Einige', 'Menschen', 'schwimmen', 'in', 'einem', 'Gewässer', '.']], [['Kleiner', 'Junge', 'im', 'Tarn', 'anzug', 'krabbelt', 'auf', 'braunem', 'Fußboden']], [['Ein', 'junger', 'Mann', 'mit', 'blondem', 'Haar', 'spricht', 'in', 'ein', 'Mikrofon', '.']], [['Hund', 'kauert', 'zwischen', 'Pflanzen', ',', 'um', 'Kamera', 'anzusehen', '.']], [['Frau', 'im', 'Mantel', 'bei', 'Schnee', 'fall', 'vor', 'einem', 'Haus']], [['Männer', 'in', 'blauer', 'Spielkleidung', 'sitzen', 'in', 'einem', 'Bus', '.']], [['Ein', 'Mann', 'greift', 'bei', 'einem', 'Footballspiel', 'einen', 'anderen', 'Mann', 'an', '.']], [['Ein', 'sitzender', 'Mann', 'arbeitet', 'mit', 'seinen', 'Händen', '.']], [['Eine', 'Menschen', 'm', 'asse', 'geht', 'durch', 'den', 'Park', '.']], [['Eine', 'Frau', 'und', 'ein', 'kleiner', 'Junge', 'teilen', 'sich', 'einen', 'Stuhl', '.']], [['Ein', 'kleines', 'Mädchen', 'schwimmt', 'in', 'einem', 'Pool', '.']], [['Ein', 'kleines', 'Mädchen', 'steht', 'draußen', 'in', 'einer', 'Pfütze', '.']], [['Ein', 'kleines', 'blondes', 'Mädchen', 'hält', 'ein', 'Sandwich', '.']], [['Hier', 'sind', 'zwei', 'Müt', 'ter', ',', 'die', 'einem', 'kleinen', 'Kind', 'zuhören', '.']], [['Ein', 'Kind', 'geht', 'vor', 'einem', 'anderen', '.']], [['Die', 'Nahaufnahme', 'einer', 'Frau', 'mit', 'kurzem', 'rotem', 'Haar', '.']], [['Ein', 'Mädchen', 'führt', 'seinen', 'Hund', 'über', 'eine', 'Hürde', '.']], [['Ein', 'Hund', 'auf', 'einem', 'grasbewachsenen', 'Feld', 'blickt', 'nach', 'oben', '.']], [['Vier', 'Kinder', 'sitzen', 'auf', 'einem', 'Vor', 'sprung', 'und', 'unterhalten', 'sich', '.']], [['Zwei', 'Frauen', 'betrachten', 'ein', 'Foto', 'auf', 'einer', 'Kamera', '.']], [['Zwei', 'Frauen', 'blicken', 'auf', 'viele', 'Häuser', 'hinab', '.']], [['Zwei', 'große', 'Hunde', 'tollen', 'auf', 'einem', 'grasbewachsenen', 'Feld', '.']], [['Eine', 'Gruppe', 'von', 'Menschen', 'isst', 'in', 'einem', 'Restaurant', '.']], [['Eine', 'Person', 'beim', 'Drachen', 'fliegen', 'auf', 'dem', 'Meer', '.']], [['Eine', 'Frau', 'in', 'Weiß', 'spielt', 'auf', 'einer', 'schwarzen', 'Gitarre', '.']], [['Mehrere', 'Menschen', 'stehen', 'in', 'einem', 'Raum', 'und', 'essen', '.']], [['Zwei', 'Männer', 'in', 'roten', 'Gewändern', 'führen', 'eine', 'Kampfsport', 'übung', 'durch', '.']], [['Zwei', 'Männer', 'bauen', 'irgend', 'welche', 'elektronischen', 'Ger', 'äte', 'auf']], [['Ein', 'Radfahrer', 'vollführt', 'ein', 'Kunststück', 'in', 'der', 'Luft', '.']], [['Ein', 'Mann', 'in', 'einer', 'grünen', 'Jacke', 'lächelt', '.']], [['Zwei', 'braune', 'Hunde', 'ringen', 'miteinander', 'auf', 'dem', 'grasbewachsenen', 'Hügel', '.']]]\n",
            "[['Ein', 'Mann', 'übt', '.'], ['Ein', 'Junge', 'fährt', 'auf', 'einer', 'Schaukel', '.'], ['Ein', 'Künstler', 'malt', 'im', 'Freien', '.'], ['Ein', 'kleiner', 'Hund', 'an', 'etwas', 'zu', '.'], ['Zwei', 'Mädchen', 'gehen', 'die', 'Straße', 'entlang', '.'], ['Drei', 'Frauen', 'sitzen', 'und', 'entlang', '.'], ['Zwei', 'Menschen', 'gehen', 'über', 'eine', 'Straße', '.'], ['Ein', 'kleiner', 'Junge', 'springt', 'ins', 'Wasser', '.'], ['Drei', 'Hunde', 'spielen', 'im', 'Schnee', '.'], ['Sie', 'posieren', 'für', 'ein', 'Foto', '.'], ['Eine', 'Band', 'auf', 'einem', 'Gehweg', '.'], ['Ein', 'Junge', 'macht', 'Kunststücke', 'auf', 'einem', 'Skateboard', '.'], ['Eine', 'Person', 'trägt', 'viele', 'Taschen', '.'], ['Ein', 'Mann', 'im', 'Wasser', '.'], ['Ein', 'Vogel', 'über', 'das', 'Wasser', '.'], ['Ein', 'Snowboarder', 'macht', 'ein', 'Kunststück', '.'], ['Eine', 'Frau', 'hält', 'eine', 'Geige', '.'], ['Die', 'Männer', 'kämpfen', 'während', 'eines', 'Spiels', '.'], ['Kinder', ',', 'unterhalten', 'sich', '.'], ['Mehrere', 'Mädchen', 'spielen', '.'], ['Eine', 'Frau', 'in', 'Kleidung', 'singt', 'zusammen', '.'], ['Ein', 'Arbeiter', 'auf', 'einen', 'Baum', '.'], ['Ein', 'Roller', '-', 'Derby', '-', 'Derby', '.'], ['Personen', 'in', 'einer', 'Aufführung', '.'], ['Eine', 'Person', 'in', 'Kampfsport', '.'], ['Eine', 'Gruppe', 'von', 'Menschen', 'rennt', '.'], ['Eine', 'Frau', 'sitzt', 'an', 'einer', 'dunklen', 'Bar', '.'], ['Ein', 'Mann', 'in', 'einem', 'Restaurant', 'zu', 'Mittag', '.'], ['Kinder', 'fahren', '.'], ['Ein', 'Bild', 'von', 'sich', 'im', 'Dreck', '.'], ['Zwei', 'Pudel', 'durch', 'den', 'Schnee', '.'], ['Vier', 'Männer', 'stehen', '.'], ['Zwei', 'Frauen', 'lächeln', '.'], ['Ein', 'Kind', 'sitzt', 'auf', 'einer', 'Stein', 'fläche', '.'], ['Zwei', 'Jungen', 'spielen', 'ein', 'Spiel', '.'], ['Ein', 'Mann', 'in', 'einem', 'grauen', 'T', '-', 'Shirt', 'ruht', 'sich', 'aus', '.'], ['Ein', 'Schwimmer', 'schwimmt', 'in', 'einem', 'Schwimmbecken', '.'], ['Zwei', 'kleine', 'Mädchen', 'gehen', 'durch', 'die', 'Blätter', 'entlang', '.'], ['Vier', 'Frauen', 'in', 'Kostümen', '.'], ['Volleyball', '.'], ['Ein', 'kleiner', 'Hund', 'springt', 'auf', 'einer', 'Straße', '.'], ['Ein', 'Hund', 'rennt', 'durch', 'den', 'Schnee', '.'], ['Eine', 'Band', 'tritt', 'auf', '.'], ['Ein', 'Mann', 'zieht', 'Gegenstände', 'an', '.'], ['Junge', 'Leute', '.'], ['Ein', 'junger', 'Skifahrer', 'blickt', 'in', 'die', 'Kamera', '.'], ['Eine', 'Straßenszene', 'in', 'der', 'Nacht', '.'], ['Kinder', 'im', 'Wasser', '.'], ['Zwei', 'kleine', 'Mädchen', 'in', 'blauen', 'Kleidern', '.'], ['Eine', 'Person', 'fährt', 'mit', 'seinem', 'Geländemotorrad', '.'], ['Die', 'Männer', 'in', 'Al', 'gen', '.'], ['Ein', 'Rock', '-', 'Mitarbeiter', 'in', 'der', 'Luft', '.'], ['Personen', 'tanzen', 'und', 'klatscht', '.'], ['Eine', 'Gruppe', 'von', 'Musikern', 'macht', '.'], ['Ein', 'Straßenhändler', 'an', '.'], ['Ein', 'mit', 'dem', 'Ufer', 'steht', 'an', 'einer', 'Theke', '.'], ['Ein', 'Paar', 'spielt', 'Gitarre', '.'], ['Eine', 'Gruppe', 'von', 'ihnen', 'spielt', 'in', 'einem', 'Kegel', '.'], ['Ein', 'Sänger', 'tritt', 'auf', '.'], ['Ein', 'Künstler', ',', 'der', 'auf', 'einer', 'Eis', 'skulptur', 'arbeitet', '.'], ['Zwei', 'Kinder', 'tanzen', '.'], ['Kinder', ',', 'die', 'an', 'einem', ',', 'der', 'einen', 'R', 'sch', 'a', 'h', 'us', 'h', 'us', 'h', 'an', 'einem', 'Vor', 'sch', 'd', 'h', 'und', 'sch', 'd', 'h', 'd', 'h', 'und', 'sch', 'd', 'h', 'eu', 'ten', 'Kinder', 'sch', 'd', 'sch', 'd', 'sch', 'd', 'sch', 'sch', 'sch', 'sch', 'sch', 'i', 'sch', 'd', 'sch', 'd', 'sch', '-', 'R', 'ho', 'sch', 'd', '-', 'R', 'ho', 'ho', 'ho', 'ho', 'ho', 'ho', 'ho', 'ho', 'ho', 'ho', 'd', 'ad', 'as', 'd', 'h', 'ho', 'd', 'ho', 'd', 'an', 'einem', 'öffentlichen', 'Platz', 'macht', 'einen', 'von', 'einem', 'von', 'Bäumen', 'gesäumten', 'Weg', 'h', 'ho', 'd', 'hügel', 'd', 'd', 'd', 'd', '-', 'R'], ['Zwei', 'Kinder', 'spielen', 'auf', 'einem', 'Klettergerüst', '.'], ['Zwei', 'Männer', 'sitzen', 'um', 'einen', 'glänzenden', 'Grill', 'herum', '.'], ['Mehrere', 'Personen', 'stehen', 'auf', 'einer', 'U', '-', 'Bahn', '.'], ['Drei', 'Kinder', '.'], ['Zwei', 'Männer', '.'], ['Eine', 'Frau', 'sitzt', 'auf', 'einer', 'öffentlichen', 'Bank', '.'], ['Ein', 'Baby', 'sitzt', 'auf', 'einem', 'blauen', 'Gewand', '.'], ['Ein', 'Fotografen', 'mit', 'ver', 'lie', 'd', 'ten', '.'], ['Auf', 'dem', 'ein', '„', 'I', 'O', '“', '-', 'H', 'a', '-', 'H', 'ug', 's', '“', 'auf', 'dem', 'Rücken', 'zu', 'sehen', 'ist', '.'], ['Ein', 'Herr', 'im', 'Waschsalon', '.'], ['Zwei', 'Männer', 'gehen', 'einen', 'Feldweg', 'entlang', '.'], ['Personen', 'spielen', 'in', 'der', 'Luft', '.'], ['Zwei', 'Jugendliche', 'gehen', 'die', 'Straße', 'entlang', '.'], ['Mehrere', 'Personen', 'in', 'einem', 'Fußballspiel', '.'], ['Drei', 'Männer', 'auf', 'Pferden', '.'], ['Ein', 'Kind', ',', 'der', 'sich', 'um', 'eine', 'Kurve', '.'], ['Drei', 'Männer', 'an', 'einem', 'Rennen', 'teil', '.'], ['Vier', 'kleine', 'Kinder', 'spielen', '.'], ['Drei', 'Hunde', 'spielen', 'im', 'Wasser', '.'], ['Ein', 'Mensch', 'springt', 'auf', '.'], ['Eine', 'Frau', 'spielt', 'auf', 'einer', 'Geige', '.'], ['Ein', 'nied', 'liches', 'Kind', 'lächelt', '.'], ['Ein', 'Kind', 'auf', 'einem', 'Spielplatz', '.'], ['Ein', 'Mann', 'fährt', '.'], ['Ein', 'Mann', 'und', 'angelt', '.'], ['Zwei', 'Männer', 'spielen', 'Baseball', '.'], ['Eine', 'Gruppe', 'von', 'Personen', 'macht', '.'], ['Ein', 'einsamer', 'Mann', 'hilft', 'beim', 'Essen', 'zu', '.'], ['Ein', 'brauner', 'Hund', '.'], ['Mehrere', 'Personen', 'stehen', 'in', 'der', 'Nähe', 'von', 'Bäumen', '.'], ['Ein', 'blaues', 'Wasser', '.'], ['Ein', 'Mann', 'sitzt', 'auf', 'dem', 'Boden', '.'], ['Ein', 'Mann', 'auf', 'der', 'Bühne', 'führt', '.'], ['Ein', 'Mann', 'kocht', 'an', '.'], ['Die', 'Person', 'vor', 'der', 'Kasse', '.'], ['Mehrere', 'Personen', 'in', 'einem', 'Gewässer', '.'], ['Ein', 'kleiner', 'Junge', 'auf', 'dem', 'Boden', 'liegt', '.'], ['Ein', 'junger', 'Mann', 'spricht', 'in', 'ein', 'Mikrofon', '.'], ['Ein', 'Hund', 'in', 'die', 'Kamera', 'blickt', 'nach', '.'], ['Ein', 'Orchester', 'vor', 'einem', 'Haus', 'zu', 'sehen', '.'], ['Ein', 'Mann', 'in', 'einem', 'Bus', '.'], ['Ein', 'Mann', 'der', 'Football', '-', 'Spieler', 'hält', 'den', 'Football', '.'], ['Ein', 'sitzender', 'Mann', '.'], ['Eine', 'Gruppe', 'von', 'Menschen', 'geht', 'durch', 'den', 'Park', '.'], ['Ein', 'kleiner', 'Junge', '.'], ['Ein', 'junges', 'Mädchen', 'schwimmt', '.'], ['Ein', 'kleines', 'Mädchen', 'steht', 'in', 'einer', 'Pfütze', '.'], ['Ein', 'kleines', 'blondes', 'Mädchen', 'hält', '.'], ['Ein', 'Kleinkind', '.'], ['Ein', 'Kind', 'geht', 'vorbei', '.'], ['Eine', 'Nahaufnahme', '.'], ['Ein', 'Mädchen', 'führt', 'ihren', 'Hund', 'über', 'eine', 'Hürde', '.'], ['Ein', 'Hund', 'hoch', '.'], ['Vier', 'Kinder', '.'], ['Zwei', 'Frauen', 'betrachten', 'die', 'Kamera', '.'], ['Personen', 'schauen', 'zu', '.'], ['Zwei', 'große', 'Hunde', '.'], ['Eine', 'Gruppe', 'von', 'Menschen', 'isst', '.'], ['Ein', 'Mensch', '.'], ['Eine', 'Frau', 'in', 'weißer', 'Gitarre', '.'], ['Mehrere', 'Personen', '.'], ['Zwei', 'Männer', 'in', 'roten', 'Gewändern', 'führen', '.'], ['Zwei', 'Männer', '.'], ['Ein', 'Radfahrer', 'in', 'der', 'Luft', '.'], ['Ein', 'Mann', 'in', 'einer', 'grünen', 'Jacke', '.'], ['Zwei', 'braune', 'Hunde', '.']]\n",
            "0.2832453618116149\n",
            "[[['Ein', 'gelbes', 'Auto', 'saust', 'über', 'ein', 'schneebedecktes', 'Feld', '.']], [['Eine', 'Gruppe', 'von', 'Menschen', 'läuft', 'bei', 'einem', 'W', 'oh', 'lt', 'ät', 'igkeit', 's', 'mar', 'athon']], [['Eine', 'junge', 'Frau', 'spielt', 'ein', 'Saiteninstrument', 'im', 'Haus', '.']], [['Eine', 'Frau', 'hält', 'einen', 'weiß', '-', 'schwarzen', 'Hund', '.']], [['Ein', 'Radfahrer', 'vollführt', 'einen', 'Sprung', 'in', 'einem', 'Wald', '.']], [['Ein', 'männlicher', 'Teenager', 'vollführt', 'Kunststücke', 'auf', 'einem', 'Fahrrad', '.']], [['Ein', 'junges', 'Mädchen', 'steht', 'auf', 'einem', 'grasbewachsenen', 'Feld', '.']], [['Ein', 'Mann', 'und', 'eine', 'Frau', 'spielen', 'ein', 'Spiel', 'im', 'Freien', '.']], [['Ein', 'Junge', 'setzt', 'zu', 'einem', 'Tor', 'schuss', 'an']], [['Eine', 'einzelne', 'Person', 'fliegt', 'mit', 'dem', 'Fallschirm', 'durch', 'einen', 'fr', 'ied', 'vollen', 'Sonnenuntergang', '.']], [['Zwei', 'Menschen', 'spielen', 'Wasser', 'volleyball', 'in', 'einem', 'Pool', '.']], [['Drei', 'Männer', 'in', 'Anzügen', 'legen', 'ihre', 'Hände', 'übereinander', '.']], [['Mann', 'gleitet', 'auf', 'einem', 'Fahrrad', 'den', 'Hand', 'lauf', 'einer', 'Treppe', 'hinunter', '.']], [['Drei', 'Männer', 'fahren', 'in', 'einem', 'dunkelblauen', 'Auto', '.']], [['Ein', 'kleines', 'Mädchen', 'streckt', 'die', 'Hand', 'aus', ',', 'um', 'ein', 'Reh', 'zu', 'streicheln', '.']], [['Läufer', 'p', 'ass', 'ieren', 'einen', 'Str', 'e', 'cken', 'po', 'sten', 'in', 'der', 'Stadt', '.']], [['Von', 'Touristen', 'aufgenommen', 'e', 'Bilder', 'bei', 'einem', 'Gebäude', 'in', 'China', '.']], [['Blon', 'der', 'Mann', 'in', 'einer', 'schwarzen', 'Fle', 'e', 'ce', 'jacke', 'formt', 'eine', 'Skulptur', '.']], [['Zwei', 'einander', 'zuge', 'wand', 'te', 'Menschen', 'spielen', 'ein', 'Spiel', '.']], [['An', 'einer', 'Straße', 'in', 'der', 'Stadt', 'befinden', 'sich', 'viele', 'Schilder', 'auf', 'Chines', 'isch', '.']], [['Ein', 'kleines', 'Mädchen', 'späht', 'über', 'eine', 'blaue', 'Mauer', '.']], [['Ein', 'Mann', 'und', 'zwei', 'Kinder', 'überqueren', 'eine', 'Straße', '.']], [['Eine', 'Gruppe', 'von', 'weiß', 'gekleideten', 'Menschen', 'spielt', 'Gitarre', '.']], [['Zwei', 'Menschen', 'stehen', 'vor', 'einem', 'Gebäude', '.']], [['Eine', 'Frau', 'in', 'kn', 'app', 'er', 'Sportkleidung', 'fährt', 'Rollschuh', '.']], [['Der', 'Mann', 'ist', 'auf', 'dem', 'Sofa', 'eingeschlafen', '.']], [['Menschen', 'auf', 'der', 'Straße', 'bei', 'einem', 'Straßenfest', '.']], [['Zwei', 'Männer', 'tragen', 'Sombr', 'er', 'os', 'in', 'New', 'York', 'City', '.']], [['Mädchen', 'sitzen', 'mit', 'den', 'Händen', 'im', 'Schoß', 'da']], [['Ein', 'Anhänger', 'fährt', 'eine', 'mit', 'rotem', 'Backstein', 'gepflasterte', 'Straße', 'entlang', '.']], [['Ein', 'Jugendlicher', 'übt', 'co', 'ole', 'Mo', 'ves', 'auf', 'einer', 'Skateboardrampe', '.']], [['Kinder', 'werden', 'in', 'einem', 'Glas', 'krei', 'sel', 'herum', 'ge', 'wirbelt', '.']], [['Ein', 'Mann', 'sitzt', 'allein', 'beim', 'Fischen', 'an', 'der', 'Küste', '.']], [['Zwei', 'Mädchen', 'spielen', 'Volleyball', ',', 'wobei', 'das', 'eine', 'den', 'Ball', 'schlägt', '.']], [['Zwei', 'kleine', 'asiatische', 'Jungen', 'streiten', 'miteinander', '.']], [['Ein', 'Mann', 'füttert', 'ein', 'Baby', 'in', 'einem', 'Hochstuhl', '.']], [['Kinder', 'jagen', 'bei', 'einem', 'Fußballspiel', 'dem', 'Ball', 'hinterher', '.']], [['Ein', 'Mann', 'arbeitet', 'auf', 'einer', 'Baustelle', '.']], [['Ein', 'Mann', 'in', 'einem', 'orangen', 'Gewand', 'fegt', 'im', 'Freien', '.']], [['Ein', 'Mann', 'und', 'eine', 'Frau', 'schlafen', 'auf', 'einer', 'Bank', '.']], [['Ein', 'Rikscha', 'betr', 'ei', 'ber', 'wartet', 'auf', 'seinen', 'nächsten', 'Kunden', '.']], [['Kinder', 'treiben', 'Sport', 'auf', 'einem', 'Sportplatz', '.']], [['Eine', 'Gruppe', 'von', 'Männern', 'in', 'Kostümen', 'spielt', 'Musik', '.']], [['Zwei', 'Chin', 'e', 'sen', 'stehen', 'an', 'einer', 'Wand', 'tafel', '.']], [['Bauern', 'betr', 'eiben', 'tagsüber', 'ihre', 'Land', 'wirtschaft', '.']], [['Zwei', 'Männer', 'stehen', 'an', 'Telefonz', 'ellen', 'im', 'Freien', '.']], [['Ein', 'Junge', 'mit', 'Kopfhörern', 'sitzt', 'auf', 'den', 'Schultern', 'einer', 'Frau', '.']], [['Ein', 'brauner', 'Hund', 'rennt', 'dem', 'schwarzen', 'Hund', 'hinterher', '.']], [['Ein', 'junges', 'Mädchen', 'läuft', 'allein', 'durch', 'einen', 'Park', '.']], [['Ein', 'kleiner', 'Junge', 'wirft', 'einen', 'Stein', 'in', 'ruh', 'iges', 'Wasser', '.']], [['Ein', 'Mann', 'in', 'einem', 'Kletter', 'gurt', 'klettert', 'an', 'einer', 'Felswand']], [['Eine', 'Reinig', 'ungs', 'kraft', 'ist', 'im', 'Begriff', ',', 'eine', 'Bahnstation', 'zu', 'wischen', '.']], [['Ein', 'Kind', 'macht', 'sich', 'bereit', ',', 'ein', 'Buch', 'zu', 'lesen', '.']], [['Ein', 'braun', 'gekleideter', 'Mann', 'hält', 'ein', 'Licht', 'schwer', 't', '.']], [['Drei', 'Kinder', 'sehen', 'zu', ',', 'wie', 'ein', 'Mann', 'auf', 'einer', 'Bühne', 'Gitarre', 'spielt', '.']], [['Mann', 'in', 'einem', 'kleinen', 'weißen', 'Boot', 'auf', 'einem', 'See', '.']], [['Menschen', 'werden', 'beim', 'Klettern', 'oder', 'Wander', 'n', 'fotografiert', '.']], [['Ein', 'schwarzer', 'und', 'ein', 'weißer', 'Hund', 'schwimmen', 'im', 'klaren', 'Wasser', '.']], [['Bauarbeiter', 'arbeiten', 'hart', 'an', 'einem', 'Bau', 'vor', 'haben', '.']], [['Ein', 'Hund', 'springt', 'einem', 'gelb', '-', 'schwarzen', 'Ball', 'hinterher', '.']], [['Eine', 'Person', 'beim', 'Parasailing', 'auf', 'einem', 'Wellen', 'k', 'amm', '.']], [['Ein', 'Geländewagen', 'versucht', ',', 'aus', 'einem', 'Graben', 'heraus', 'zukommen', '.']], [['Dieses', 'Footballteam', 'trägt', 'rote', 'Trikots', 'und', 'rote', 'Helme', '.']], [['Fünf', 'Mitglieder', 'einer', 'Band', 'spielen', 'ein', 'Lied', '.']], [['Ein', 'Hund', 'rennt', 'durch', 'das', 'Gras', 'auf', 'die', 'Kamera', 'zu', '.']], [['Eine', 'Person', 'rudert', 'in', 'ihrem', 'Boot', 'im', 'Wasser', '.']], [['Ein', 'Mann', 'fotografiert', 'weiße', 'und', 'gelbe', 'Tulpen', '.']], [['Dieser', 'Mann', 'trägt', 'eine', 'weiße', 'Kappe', 'oder', 'Mütze', '.']], [['Eine', 'Braut', 'und', 'ein', 'Bräutigam', 'bei', 'ihrem', 'Hochzeit', 'sk', 'uss']], [['Mann', 'arbeitet', 'an', 'den', 'Schienen', 'in', 'einem', 'Bahnhof', '.']], [['Junge', 'Erwachsene', 'in', 'Freizeitkleidung', 'gehen', 'auf', 'einem', 'Feld', 'umher', '.']], [['Der', 'große', 'braune', 'Hund', 'rennt', 'durch', 'seich', 'tes', 'Wasser', '.']], [['Ein', 'Mann', 'und', 'eine', 'Frau', 'überqueren', 'eine', 'leere', 'Straße', '.']], [['Zwei', 'Kinder', 'mit', 'gelben', 'Jacken', 'spielen', 'im', 'Schlamm', '.']], [['Ein', 'kleines', 'Kind', 'schwingt', 'einen', 'roten', 'Baseballschläger', 'nach', 'hinten', '.']], [['Vier', 'Menschen', 'sind', 'in', 'einem', 'Vergnügungspark', 'in', 'einem', 'Fahrgeschäft', 'fest', 'geschn', 'allt']], [['Ein', 'Mann', 'an', 'einem', 'Strand', 'baut', 'eine', 'Sandburg', '.']], [['Weiß', 'gekleidete', 'Männer', 'heben', 'ihre', 'Hände', 'nach', 'oben', '.']], [['Person', 'mit', 'einem', 'roten', 'Rucksack', 'geht', 'wandern', '.']], [['Menschen', 'und', 'Kam', 'ele', 'rasten', 'in', 'der', 'Wüste', '.']], [['Mädchen', 'in', 'weißem', 'T', '-', 'Shirt', 'macht', 'Seifenblasen', 'in', 'dunklem', 'Zimmer', '.']], [['Der', 'weiß', '-', 'braune', 'Hund', 'rennt', 'durch', 'das', 'Gras', '.']], [['Eine', 'Frau', 'konzentriert', 'sich', 'auf', 'ihr', 'Cur', 'ling', '-', 'Spiel', '.']], [['Zwei', 'Hunde', 'rennen', 'und', 'spielen', 'im', 'Schnee']], [['Eine', 'Mutter', 'und', 'ihr', 'Sohn', 'lächeln', ',', 'während', 'sie', 'den', 'Hügel', 'herunter', 'rutschen', '.']], [['Ein', 'Typ', 'grindet', 'eine', 'Fenster', 'bank', 'in', 'der', 'Nähe', 'einer', 'alten', 'Wind', 'm', 'ühle', 'entlang']], [['Ein', 'älterer', 'Mann', 'interviewt', 'einen', 'anderen', 'in', 'einem', 'Renn', 'anzug', '.']], [['Ein', 'kleines', 'Kind', 'fährt', 'auf', 'einem', 'Motorrad', 'durch', 'den', 'Schlamm', '.']], [['Zwei', 'Jungen', 'in', 'einem', 'Zelt', 'lächeln', 'für', 'die', 'Kamera', '.']], [['Drei', 'große', 'Hunde', 'genießen', 'das', 'T', 'ollen', 'im', 'Schnee', '.']], [['Gruppe', 'von', 'Erwachsenen', 'sitzt', 'um', 'einen', 'Tisch', 'und', 'hört', 'sich', 'eine', 'Präsentation', 'an']], [['Eine', 'Frau', 'und', 'ein', 'Kind', 'reiten', 'auf', 'Kamelen', 'am', 'Meer', '.']], [['Ein', 'kleiner', 'brauner', 'Hund', 'rennt', 'durch', 'das', 'Gras', '.']], [['Eine', 'junge', 'Se', 'kr', 'et', 'är', 'in', 'überprüft', ',', 'ob', 'sie', 'neue', 'E', '-', 'Ma']], [['Ein', 'schwarzer', 'Hund', 'springt', 'über', 'ein', 'mehrfarb', 'iges', 'Hindernis', '.']], [['Ein', 'Typ', 'rennt', 'vor', 'einem', 'schwarzen', 'Bullen', 'davon', '.']], [['Kleiner', 'braun', '-', 'weißer', 'Hund', 'rennt', 'auf', 'dem', 'Gehweg', '.']], [['Mehrere', 'Menschen', 'genießen', 'eine', 'Zigarette', 'bei', 'einem', 'Aschen', 'becher', '.']], [['Eine', 'Kellnerin', 'steht', 'hinter', 'einer', 'Theke', 'voll', 'mit', 'Kuchen', '.']], [['Ein', 'Junge', 'hebt', 'einen', 'anderen', 'Jungen', 'auf', 'seinen', 'Rücken', '.']], [['Ein', 'kleines', 'Kind', 'spielt', 'unter', 'einem', 'Rasen', 'spr', 'en', 'ger', '.']], [['Ein', 'grün', 'gekleideter', 'Mann', 'fährt', 'Snowboard', 'auf', 'einer', 'Bank', '.']], [['Menschen', 'in', 'einer', 'Schlange', 'machen', 'sich', 'bereit', ',', 'um', 'in', 'einen', 'Bus', 'zu', 'steigen', '.']], [['Ein', 'Mann', 'in', 'einem', 'blauen', 'Hemd', 'bläst', 'auf', 'einer', 'Trompete', '.']], [['Drei', 'Männer', 'stehen', 'in', 'der', 'Nähe', 'einiger', 'Motorräder', 'um', 'einen', 'Wagen', '.']], [['Ein', 'kleines', 'asiatisches', 'Mädchen', 'mit', 'schmutz', 'igem', 'Gesicht', 'trägt', 'ein', 'Kissen', '.']], [['Menschen', 'protestieren', 'in', 'einer', 'organis', 'ierten', 'Straßen', 'kundgebung', 'gegen', 'die', 'Alters', 'd', 'is', 'kr', 'im']], [['Das', 'Maul', 'eines', 'Hundes', 'öffnet', 'sich', 'und', 'ent', 'bl', 'ö', 'ßt', 'dessen', 'scharfe', 'Zähne', '.']], [['Ein', 'älterer', 'indischer', 'Mann', 'und', 'eine', 'Frau', 'in', 'ihrem', 'Haus', '.']], [['Hund', 'an', 'Leine', 'b', 'uddelt', 'in', 'länd', 'licher', 'Gegend', 'im', 'Schnee', '.']], [['Das', 'ist', 'eine', 'Art', 'Band', 'oder', 'Orchester', 'beim', 'Üben', '.']], [['Ein', 'Mann', 'spielt', 'Mik', 'e', 'T', 'y', 'son', \"'\", 's', 'P', 'un', 'ch', '-', 'Out']], [['Ein', 'kleines', 'Mädchen', 'geht', 'an', 'einem', 'kleinen', 'Bach', 'entlang']], [['Eine', 'Gruppe', 'von', 'Musikern', 'spielt', 'Musik', 'auf', 'der', 'Straße', '.']], [['Zwei', 'Menschen', 'sehen', 'sich', 'Kleidung', 'in', 'einem', 'Schaufenster', 'an', '.']], [['Eine', 'Menschenmenge', 'steht', 'am', 'Start', 'punkt', 'eines', 'Marathon', 's', 'herum', '.']], [['Ein', 'Mann', 'schiebt', 'Sessel', 'auf', 'einer', 'belebten', 'Straße', '.']], [['Arbeits', 'kraft', 'an', 'einem', 'Limonaden', 'stand', 'bereitet', 'Laden', 'für', 'den', 'Tag', 'vor', '.']], [['Zwei', 'Mädchen', 'spielen', 'mit', 'ihrem', 'Hund', 'auf', 'einem', 'Baum', '.']], [['Ein', 'fröhlicher', 'Mann', 'hebt', 'eine', 'tr', 'opf', 'nasse', 'Frau', 'hoch', '.']], [['Ein', 'Mann', 'mit', 'freiem', 'Oberkörper', 'auf', 'einem', 'Skateboard', 'vollführt', 'ein', 'Kunststück', 'in', 'einem', 'Skatepark', '.']], [['Eine', 'Person', 'fährt', 'auf', 'einem', 'Motorrad', 'einen', 'Erdhügel', 'hinunter', '.']], [['Ein', 'Mann', 'und', 'eine', 'Frau', 'umarmen', 'sich', 'auf', 'einer', 'Straße', '.']], [['Zwei', 'Frauen', 'in', 'gepunkteten', 'Kleidern', 'gehen', 'einen', 'Gehweg', 'entlang', '.']], [['Menschen', 'ver', 'richten', 'Landschaft', 'sp', 'fle', 'ge', '-', 'und', 'Garten', 'arbeiten', 'in', 'den', 'Ber', 'ei']], [['Menschen', 'in', 'einem', 'Laden', 'wählen', 'Produkte', 'zum', 'Kauf', 'aus']], [['Ein', 'Tätowier', 'er', 'trägt', 'Tätow', 'iert', 'in', 'te', 'auf', 'die', 'Haut', 'auf', '.']], [['Eine', 'Asiatin', 'sitzt', 'vor', 'einem', 'Marktstand', '.']]]\n",
            "[['Ein', 'gelbes', 'Feld', '.'], ['Eine', 'Gruppe', 'von', 'Menschen', 'rennt', '.'], ['Eine', 'junge', 'Frau', 'übt', '.'], ['Eine', 'Frau', 'hält', '.'], ['Ein', 'Radfahrer', 'springt', '.'], ['Ein', 'männlicher', 'Teenager', '.'], ['Ein', 'junges', 'Mädchen', 'steht', 'auf', 'einer', 'Wiese', '.'], ['Ein', 'Mann', 'und', 'ein', 'Spiel', '.'], ['Ein', 'Junge', 'macht', '.'], ['Ein', 'einzelner', 'Mann', '.'], ['Zwei', 'Personen', 'spielen', 'Wasser', '.'], ['Die', 'Hände', '.'], ['Ein', 'Mann', 'fährt', 'mit', 'dem', 'Skateboard', 'hinunter', '.'], ['Drei', 'Männer', 'fahren', '.'], ['Ein', 'junges', 'Mädchen', 'greift', '.'], ['Läufer', '.'], ['Ein', 'paar', 'Touristen', '.'], ['Eine', 'blonde', 'Frau', '.'], ['Zwei', 'Personen', 'spielen', '.'], ['Eine', 'Straße', 'in', 'der', 'Stadt', '.'], ['Ein', 'kleines', 'Mädchen', 'schaut', 'über', 'eine', 'blaue', 'Wand', '.'], ['Ein', 'Mann', 'und', 'zwei', 'Kinder', 'überqueren', '.'], ['Eine', 'Gruppe', 'von', 'Menschen', 'spielt', 'Gitarre', '.'], ['Zwei', 'Personen', 'stehen', '.'], ['Eine', 'Frau', 'fährt', 'in', 'einem', 'Vergnügungspark', '.'], ['Ein', 'Mann', 'schläft', '.'], ['Eine', 'Straße', '.'], ['Zwei', 'Männer', '.'], ['Eine', 'Frau', 'sitzt', 'mit', 'den', 'Händen', 'auf', 'ihrem', 'Schoß', '.'], ['Ein', 'Anhänger', '.'], ['Ein', 'Kind', 'auf', 'einer', 'Skateboard', '.'], ['Kinder', '.'], ['Ein', 'Mann', 'sitzt', 'allein', 'an', 'der', 'Küste', '.'], ['Zwei', 'Mädchen', 'spielen', 'Volleyball', '.'], ['Zwei', 'kleine', 'asiatische', 'Jungen', '.'], ['Ein', 'Mann', 'füttert', '.'], ['Kinder', 'jagen', '.'], ['Ein', 'Mann', 'arbeitet', '.'], ['Ein', 'Mann', 'in', 'einem', 'orangefarbenen', 'Gewand', '.'], ['Ein', 'Mann', 'und', 'schläft', '.'], ['Eine', 'Person', 'auf', 'seine', 'Richtung', '.'], ['Kinder', 'spielen', '.'], ['Eine', 'Gruppe', 'Männer', '.'], ['Zwei', 'Personen', 'stehen', '.'], ['Ein', 'Tag', '.'], ['Zwei', 'Männer', 'stehen', 'im', 'Freien', '.'], ['Eine', 'Frau', 'mit', 'Kopfhörer', '.'], ['Ein', 'brauner', 'Hund', '.'], ['Ein', 'junges', 'Mädchen', 'läuft', 'vorbei', '.'], ['Ein', 'kleiner', 'Junge', 'wirft', 'einen', 'Stein', '.'], ['Ein', 'Mann', 'in', 'einem', 'Geschirr', '.'], ['Ein', 'kurz', 'davor', 'zu', 'schlagen', '.'], ['Ein', 'Buch', 'vor', '.'], ['Ein', 'Mann', 'in', 'der', 'Hand', 'hält', '.'], ['Kinder', 'spielen', 'Gitarre', '.'], ['Ein', 'Mann', 'in', 'einem', 'kleinen', 'weißen', 'Boot', '.'], ['Personen', 'beim', 'Vor', 'ieren', '.'], ['Ein', 'Wasser', '.'], ['Bauarbeiter', '.'], ['Ein', 'Hund', 'springt', 'nach', '.'], ['Eine', 'Welle', '.'], ['Ein', 'Pitcher', 'macht', '.'], ['Ein', 'junger', 'Football', '.'], ['Fünf', '.'], ['Ein', 'Hund', 'in', 'die', 'Kamera', 'zu', '.'], ['Eine', 'Person', 'rudert', '.'], ['Ein', 'Mann', 'fotografiert', '.'], ['Ein', 'Mann', 'mit', 'einer', 'weißen', 'Kopfbedeckung', '.'], ['Ein', 'Braut', 'und', 'küsst', 'sich', '.'], ['Ein', 'Mann', 'arbeitet', 'an', '.'], ['Ein', 'junger', 'Erwachsener', '.'], ['Ein', 'großer', 'brauner', 'Hund', '.'], ['Ein', 'Mann', 'und', 'eine', 'Frau', 'gehen', 'über', 'eine', 'Straße', '.'], ['Zwei', 'Kinder', '.'], ['Ein', 'kleines', 'Kind', 'schwingt', '.'], ['Personen', '.'], ['Ein', 'Mann', 'am', 'Strand', '.'], ['Eine', 'hoch', '.'], ['Eine', 'Person', 'mit', 'einem', 'roten', 'Rucksack', 'auf', '.'], ['Ein', 'großer', 'Hund', 'in', 'der', 'Wüste', '.'], ['Ein', 'Mädchen', 'in', 'einem', 'weißen', 'Raum', '.'], ['Ein', 'Gras', '.'], ['Eine', 'Frau', 'singt', '.'], ['Zwei', 'Hunde', 'rennen', '.'], ['Eine', 'Mutter', '.'], ['Ein', 'Mann', 'gleitet', 'an', '.'], ['Ein', 'älterer', 'Mann', '.'], ['Ein', 'kleines', 'Kind', 'fährt', '.'], ['Zwei', 'Jungen', 'lächeln', '.'], ['Drei', 'große', 'Hunde', '.'], ['Eine', 'Gruppe', 'von', 'Erwachsenen', 'hört', 'zu', '.'], ['Ein', 'Meer', '.'], ['Ein', 'kleiner', 'brauner', 'Hund', '.'], ['Ein', 'junger', 'Spieler', ',', 'der', 'nach', 'vorn', 'gebeugt', '.'], ['Ein', 'schwarzer', 'Hund', 'springt', '.'], ['Ein', 'Mann', 'rennt', '.'], ['Ein', 'kleiner', 'Hund', 'auf', 'dem', 'Bürgersteig', '.'], ['Mehrere', 'Personen', '.'], ['Eine', 'Bedienung', '.'], ['Ein', 'Junge', 'auf', 'dem', 'Rücken', '.'], ['Ein', 'kleines', 'Kind', 'spielt', '.'], ['Ein', 'Mann', 'mit', 'grüner', 'Kleidung', 'auf', 'einer', 'Bank', '.'], ['Ein', 'Bus', 'zu', '.'], ['Ein', 'Mann', 'in', 'einem', 'blauen', 'Hemd', 'bläst', '.'], ['Drei', 'Männer', 'stehen', 'herum', '.'], ['Ein', 'junges', 'Mädchen', 'trägt', 'ein', 'Kissen', '.'], ['Ein', 'Mann', ',', 'der', 'sich', 'mehrere', 'Körbe', 'an', '.'], ['Ein', 'Hund', 'mit', 'der', 'Zähne', '.'], ['Ein', 'älterer', 'Mann', '.'], ['Ein', 'Hund', 'in', 'einer', 'ländlichen', 'Umgebung', '.'], ['Eine', 'Art', '.'], ['Ein', 'Mann', 'auf', 'seinem', 'Computer', '.'], ['Ein', 'junges', 'Mädchen', 'geht', 'entlang', '.'], ['Eine', 'Gruppe', 'von', 'Musikern', 'spielt', 'Musik', '.'], ['Zwei', 'Personen', 'schauen', 'sich', 'an', '.'], ['Eine', 'Menschenmenge', '.'], ['Ein', 'Mann', 'schiebt', '.'], ['An', 'geh', 'ör', 'den', 'Tag', '.'], ['Zwei', '.'], ['Ein', 'Mann', 'hebt', 'sich', 'die', 'Haare', '.'], ['Ein', 'junger', 'Mann', 'macht', 'in', 'einem', 'Skatepark', '.'], ['Ein', 'Geländemotorradfahrer', 'einen', 'Hügel', 'hinunter', '.'], ['Ein', 'Mann', 'und', 'eine', 'Frau', 'umarmen', 'sich', '.'], ['Zwei', 'Frauen', 'in', 'den', 'Händen', '.'], ['Mehrere', 'Personen', '.'], ['kaufen', '.'], ['Ein', 'Tattoo', '.'], ['Eine', 'asiatische', 'Frau', 'sitzt', 'draußen', 'an', 'einem', 'Markt', '.']]\n",
            "0.11076582692711526\n",
            "[[['Eine', 'Familie', 'steht', 'an', 'einem', 'bewölkten', 'Tag', 'im', 'Freien', '.']], [['Eine', 'Frau', 'arbeitet', 'am', 'Wochen', 'ende', 'an', 'ihrer', 'Terrasse', '.']], [['Eine', 'Frau', 'nimmt', 'mit', 'ihrer', 'Kamera', 'ein', 'Foto', 'auf', '.']], [['Zwei', 'Hunde', 'spielen', 'mit', 'einem', 'blau', '-', 'grünen', 'Ball', '.']], [['Ein', 'Mann', 'kauert', 'vor', 'einer', 'gelben', 'Mauer', '.']], [['Drei', 'weiße', 'Männer', 'in', 'T', '-', 'Shirts', 'springen', 'in', 'die', 'Luft', '.']], [['Ein', 'Sänger', 'beim', 'St', 'age', 'd', 'iv', 'ing', 'in', 'der', 'Menschenmenge', '.']], [['Eine', 'Frau', 'bereitet', 'die', 'Zutaten', 'für', 'einen', 'Su', 'pp', 'ent', 'opf', 'vor', '.']], [['Ein', 'Mann', 'und', 'eine', 'Frau', 'genießen', 'ein', 'Abendessen', 'bei', 'einer', 'Feier', '.']], [['Eine', 'Ureinwoh', 'nerin', 'arbeitet', 'an', 'einer', 'Hand', 'arbeit', '.']], [['Eine', 'Frau', 'späht', 'durch', 'ein', 'Fernrohr', 'im', 'Wald', '.']], [['Ein', 'Koch', 'arbeitet', 'in', 'einer', 'Küche', 'mit', 'einem', 'Messer', '.']], [['Ein', 'Mann', 'mit', 'einem', 'großen', 'Hut', 'im', 'Geb', 'ü', 'sch', '.']], [['Eine', 'Frau', 'steht', 'vor', 'Bäumen', 'und', 'lächelt', '.']], [['Zwei', 'Motorradfahrer', 'brau', 'sen', 'Kopf', 'an', 'Kopf', 'um', 'eine', 'Kurve', '.']], [['Diese', 'Menschen', 'sind', 'um', 'den', 'Tisch', 'versammelt', 'und', 'spielen', 'Jenga', '.']], [['Ein', 'Mann', 'hält', 'der', 'Kamera', 'ein', 'Trink', 'glas', 'entgegen', '.']], [['Eine', 'Gruppe', 'von', 'Mädchen', 'spielt', 'ein', 'Spiel', 'zu', 'Pferd', '.']], [['Ein', 'Mann', 'in', 'einem', 'bunten', 'Hemd', 'spielt', 'auf', 'einer', 'Trompete', '.']], [['Eine', 'Gruppe', 'von', 'Männern', 'lädt', 'Baum', 'w', 'olle', 'auf', 'einen', 'Lastwagen']], [['Ein', 'Mann', 'schläft', 'in', 'einem', 'grünen', 'Raum', 'auf', 'einem', 'Sofa', '.']], [['Ein', 'Mann', 'telefoniert', 'in', 'einem', 'unaufgeräumten', 'Büro']], [['Ein', 'kleines', 'Kind', 'steht', 'allein', 'auf', 'einem', 'zer', 'kl', 'üf', 'teten', 'Felsen', '.']], [['Drei', 'kleine', 'Kinder', 'stehen', 'um', 'ein', 'blau', '-', 'weißes', 'Fass', 'herum', '.']], [['Ein', 'halb', 'nackter', 'Mann', 'schläft', 'draußen', 'auf', 'seinem', 'Stuhl', '.']], [['Eine', 'junge', 'Frau', 'fertigt', 'im', 'Regen', 'wal', 'd', 'Teppich', 'e', 'an']], [['Ein', 'Mann', 'mit', 'einem', 'Rock', 'hüpft', 'und', 'jongliert', 'dabei', 'mit', 'Mess', 'ern', '.']], [['Bauarbeiter', 'stehen', 'auf', 'einer', 'Maschine']], [['Zwei', 'Hunde', 'spielen', 'im', 'hohen', 'Gras', 'mit', 'einem', 'orangen', 'Spielzeug', '.']], [['Drei', 'Männer', 'gehen', 'auf', 'einer', 'Straße', 'in', 'den', 'Bergen', '.']], [['Eine', 'Person', 'beim', 'Parasailing', 'über', 'einem', 'großen', 'Gewässer', '.']], [['Eine', 'Band', 'gibt', 'ein', 'Rock', 'konzert', 'vor', 'Zuschauern', 'in', 'einer', 'Bar', '.']], [['Amp', 'eln', 'sch', 'alten', 'auf', 'Grün', ',', 'während', 'die', 'Menschen', 'sich', 'Motorräder', 'ansehen', '.']], [['Zwei', 'Menschen', 'klettern', 'mit', 'einem', 'Seil', 'an', 'einem', 'Felsen', '.']], [['Frauen', 'gehen', 'durch', 'den', 'Tief', 'schnee', 'einen', 'steilen', 'Abhang', 'hinunter', '.']], [['Ein', 'älterer', ',', 'übergewichtiger', 'Mann', 'wendet', 'einen', 'Pf', 'ann', 'kuchen', ',', 'während', 'er', 'Frühstück']], [['Ein', 'brauner', 'Hund', 'kaut', 'auf', 'einem', 'großen', 'Holz', 'stück', 'herum', '.']], [['Frauen', 'in', 'Strand', 'bik', 'inis', 'spielen', 'Volleyball', 'bei', 'sonn', 'igem', 'Wetter', '.']], [['Eine', 'Mutter', 'und', 'zwei', 'Kinder', 'posieren', 'mit', 'lustigen', 'Gesichtern', '.']], [['Eine', 'Band', 'spielt', 'auf', 'einer', 'Frei', 'licht', 'bühne', 'am', 'Fluss', '.']], [['Ein', 'Polizist', 'in', 'Uniform', 'trägt', 'einen', 'Ohrhör', 'er', '.']], [['Eine', 'Band', 'spielt', 'bei', 'einem', 'Konzert', 'Musik', 'auf', 'einer', 'Bühne', '.']], [['Ein', 'Mann', 'spielt', 'Keyboard', 'und', 'singt', 'in', 'ein', 'Mikrofon', '.']], [['Eine', 'blonde', 'Frau', 'in', 'einem', 'blauen', 'T', '-', 'Shirt', 'packt', 'eine', 'Mütze', 'aus', '.']], [['Ein', 'Mann', 'rollt', 'einen', 'runden', 'Tisch', 'über', 'den', 'Boden', '.']], [['Zwei', 'Männer', 'ringen', 'auf', 'einem', 'gelb', '-', 'blauen', 'Boden', '.']], [['Ein', 'brauner', 'Hund', 'rennt', 'mit', 'einem', 'Stock', 'im', 'Maul', 'über', 'den', 'Sand', '.']], [['Ein', 'kleines', 'Kind', 'mit', 'Jeans', 'hut', 'spielt', 'in', 'einem', 'Reifen', '.']], [['Zwei', 'Mitarbeiter', 'des', 'Not', 'fall', 'schutz', 'es', 'legen', 'Klöt', 'ze', 'unter', 'einen', 'Zug', '.']], [['Vier', 'Menschen', 'versuchen', 'in', 'einem', 'Park', ',', 'ein', 'Fahrrad', 'zu', 'reparieren']], [['Ein', 'sehr', 'nasser', 'brauner', 'Hund', 'taucht', 'aus', 'dem', 'Wasser', 'auf', '.']], [['Ein', 'alter', 'Mann', 'läuft', 'mit', 'einem', 'Ord', 'ner', 'in', 'der', 'Hand', 'herum']], [['Ein', 'kleiner', 'blonder', 'Junge', 'hüpft', 'von', 'Bett', 'zu', 'Bett', '.']], [['Eine', 'Frau', 'in', 'einem', 'blauen', 'T', '-', 'Shirt', 'spielt', 'ein', 'Instrument', '.']], [['Ein', 'Junge', 'macht', 'ein', 'Kunststück', 'mit', 'dem', 'Skateboard', 'von', 'einer', 'Metall', 'plan', 'ke', 'herunter']], [['Eine', 'Gruppe', 'von', 'Radfahrern', 'legt', 'sich', 'bei', 'einem', 'Straßenrennen', 'in', 'die', 'Kurve', '.']], [['Eine', 'weiße', 'Frau', 'und', 'ein', 'schwarzer', 'Mann', 'gehen', 'eine', 'Straße', 'entlang', '.']], [['Ein', 'braun', '-', 'schwarz', '-', 'weißer', 'Hund', 'b', 'ellt', 'an', 'einem', 'Baum', 'hinauf', '.']], [['Ein', 'Mann', 'im', 'weißen', 'Hemd', 'macht', 'Sch', 'a', 'schl', 'ik', '.']], [['Ein', 'Mann', 'leckt', 'das', 'Gesicht', 'einer', 'Frau', 'mit', 'Brille', 'ab', '.']], [['Ein', 'Mann', 'in', 'einer', 'Armee', 'uniform', 'spricht', 'in', 'ein', 'Mikrofon', '.']], [['Ein', 'kleines', 'Kind', 'sitzt', 'an', 'einem', 'Tisch', 'und', 'isst', 'einen', 'Snack', '.']], [['Einige', 'Männer', 'gehen', 'auf', 'einer', 'öffentlichen', 'Straße', 'in', 'der', 'Stadt', '.']], [['Ein', 'Typ', 'macht', 'ein', 'Fahrrad', 'kunst', 'stück', 'in', 'einem', 'Park', '.']], [['Ein', 'Mann', 'und', 'eine', 'Frau', 'posieren', 'zusammen', 'auf', 'einer', 'kopf', 'stein', 'gepflasterten', 'Straße', '.']], [['Zwei', 'Männer', 'stehen', 'auf', 'der', 'mit', 'Graffiti', 'bedeckten', 'Straße', '.']], [['Ein', 'Kind', 'sitzt', 'in', 'einer', 'Menschenmenge', 'auf', 'den', 'Schultern', 'seines', 'Vaters', '.']], [['Zwei', 'alte', 'Männer', 'mit', 'Hüten', 'd', 'ö', 'sen', 'draußen', 'in', 'der', 'Sonne', '.']], [['Eine', 'Gruppe', 'junger', 'asiatischer', 'Männer', 'läuft', 'bei', 'einem', 'Marathon', '.']], [['Eine', 'Gruppe', 'von', 'Eltern', 'sitzt', 'bei', 'einer', 'Versammlung', 'im', 'Freien', '.']], [['Eine', 'Gruppe', 'von', 'Kindern', 's', 'a', 'ß', 'herum', 'und', 'spiel', 'te', 'auf', 'ihren', 'Instrumenten']], [['Eine', 'Frau', 'und', 'zwei', 'Jungen', 'blicken', 'auf', 'einen', 'In', 'formation', 'sstand', '.']], [['Zwei', 'Frauen', 'stehen', 'mit', 'Skist', 'öcken', 'im', 'Tief', 'schnee', '.']], [['Die', 'Straße', 'ist', 'voller', 'Menschen', ',', 'die', 'Jacken', 'tragen', '.']], [['Eine', 'Frau', 'in', 'einem', 'blauen', 'Hemd', 'fährt', 'auf', 'einem', 'Fahrrad', '.']], [['Ein', 'flauschiger', 'weißer', 'Hund', 'springt', 'hoch', 'und', 'fängt', 'ein', 'Spielzeug', '.']], [['Ein', 'bunt', 'gekleideter', 'Mat', 'ad', 'or', 'reitet', 'auf', 'einem', 'Stier']], [['Zwei', 'Menschen', 'rennen', 'auf', 'dem', 'Gipfel', 'eines', 'Berges', '.']], [['Frau', 'steht', 'auf', 'einer', 'Ziegelmauer', 'und', 'fotografiert']], [['Zwei', 'Terrier', 'spielen', 'zu', 'Hause', 'auf', 'dem', 'Holzboden', '.']], [['Die', 'Mitglieder', 'einer', 'Rad', 'sport', '-', 'Mannschaft', 'machen', 'sich', 'für', 'ein', 'Rennen', 'bereit', '.']], [['Ein', 'Junge', 'mit', 'einem', 'Irokesenschnitt', 'jagt', 'Gänse', 'in', 'einem', 'Park', '.']], [['Ein', 'Junge', 'in', 'grün', '-', 'gelber', 'Kleidung', 'lernt', 'boxen', '.']], [['Eine', 'Gruppe', 'von', 'Menschen', 'hört', 'einem', 'Mann', 'im', 'Freien', 'beim', 'Spre', 'chen', 'zu', '.']], [['Ein', 'Mädchen', 'trägt', 'einen', 'großen', 'blau', '-', 'weißen', 'Hut', '.']], [['Ein', 'Mann', 'hält', 'ein', 'Kleinkind', 'und', 'lehnt', 'dabei', 'an', 'einem', 'Gebäude', '.']], [['Eine', 'Frau', 'zieht', 'einem', 'kleinen', 'Mädchen', 'einen', 'Helm', 'an', '.']], [['Ein', 'Junge', 'in', 'einem', 'Park', 'spielt', 'mit', 'zwei', 'orangen', 'Bällen', '.']], [['Ein', 'Mann', 'singt', 'in', 'ein', 'Mikrofon', 'und', 'hält', 'dabei', 'eine', 'Gitarre', '.']], [['Ein', 'Mann', 'in', 'Grün', 'und', 'eine', 'Frau', 'in', 'Schwarz', 'machen', 'D', 'ehn', 'übungen', '.']], [['Ein', 'Mann', 'macht', 'irgendeine', 'Art', 'öffent', 'licher', 'Darbietung', 'mit', 'Feuer', '.']], [['Eine', 'Frau', 'mit', 'gelbem', 'Helm', 'benutzt', 'eine', 'Seil', 'rutsche', '.']], [['Zwei', 'Menschen', 'fahren', 'mit', 'dem', 'Fahrrad', 'auf', 'einer', 'unbefestigten', 'Straße']], [['Ein', 'Kind', 'ist', 'zö', 'gern', 'd', 'im', 'Begriff', ',', 'in', 'einen', 'Pil', 'z', 'zu']], [['Ein', 'beritten', 'er', 'Polizist', 'auf', 'einem', 'gescheck', 'ten', 'Pferd', 'beaufsichtigt', 'eine', 'Menschenmenge', '.']], [['Ein', 'großer', 'schwarzer', 'Hund', 'b', 'uddelt', 'im', 'Tief', 'schnee', '.']], [['Eine', 'Frau', 'mit', 'blondem', 'Haar', 'trinkt', 'aus', 'einem', 'Glas', '.']], [['Ein', 'Mann', 'wird', 'in', 'einem', 'Rollstuhl', 'durch', 'eine', 'Bibliothek', 'geschoben', '.']], [['Zwei', 'Kinder', 'machen', 'sich', 'für', 'einen', 'R', 'itt', 'auf', 'einem', 'Elefanten', 'bereit', '.']], [['Ein', 'Kass', 'ierer', 'mit', 'einem', 'schwarzen', 'G', 'oo', 'dies', '-', 'Pullover', 'zäh', 'lt', 'We']], [['Einem', 'Jungen', 'werden', 'von', 'einem', 'anderen', 'Jungen', 'die', 'Haare', 'ab', 'rasiert', '.']], [['Männer', 'und', 'Frauen', 'warten', 'darauf', ',', 'dass', 'ein', 'Zug', 'hält', '.']], [['Eine', 'Gruppe', 'von', 'Menschen', 'läuft', 'bei', 'einem', 'Marathon', 'im', 'Winter', '.']], [['Mehrere', 'Menschen', 'unterhalten', 'sich', 'in', 'einem', 'Raum', 'und', 'verbringen', 'Zeit', 'miteinander', '.']], [['Eine', 'Frau', 'in', 'einer', 'gelben', 'Jacke', 'folgt', 'zwei', 'anderen', 'Frauen', '.']], [['Ein', 'alter', 'Mann', 'sitzt', 'mit', 'einem', 'Tablett', 'auf', 'dem', 'Schoß', 'da', '.']], [['Zwei', 'Menschen', 'sitzen', 'auf', 'einer', 'Bank', 'aus', 'Beton', 'und', 'pl', 'au', 'dern', 'beim', 'Mittagessen']], [['Zwei', 'Männer', 'unterhalten', 'sich', 'bei', 'einer', 'mit', 'Graffiti', 'besprühten', 'Wand', '.']], [['Eine', 'Frau', 'und', 'vier', 'Kinder', 'überqueren', 'eine', 'belebte', 'Straße', '.']], [['Eine', 'Frau', 'spricht', 'über', 'eine', 'Theke', 'hinweg', 'mit', 'einem', 'kleinen', 'Mädchen', '.']], [['Eine', 'Frau', 'grillt', 'lecker', 'aussehendes', 'Essen', 'im', 'Park', '.']], [['Drei', 'Frauen', 'rennen', 'barfuß', 'durch', 'den', 'Sand', 'zum', 'Wasser', '.']], [['Ein', 'Mann', 'mit', 'Schwimmbrille', 'steigt', 'über', 'die', 'Leiter', 'aus', 'einem', 'Pool', '.']], [['Ein', 'beh', 'elm', 'ter', 'Radfahrer', 'fliegt', 'über', 'eine', 'Rampe', 'im', 'Wald', '.']], [['Blick', 'in', 'eine', 'Straße', ',', 'die', 'von', 'großen', ',', 'sauber', 'en', 'Gebäuden', 'gesäumt', 'wird']], [['Eine', 'Frau', 'in', 'Weiß', 'hält', 'einen', 'Rosen', 'strauß', '.']], [['Ein', 'Mann', 'in', 'der', 'Ferne', 'bei', 'einem', 'b', 'udd', 'hist', 'ischen', 'Tempel', '.']], [['Ein', 'Mann', 'balanciert', 'einen', 'Metall', 'ball', 'auf', 'seinem', 'Arm', '.']], [['Eine', 'Frau', 'in', 'gestreiften', 'Strumpf', 'hosen', 'wird', 'von', 'Schnür', 'en', 'gelenkt', '.']], [['Ein', 'Bauarbeiter', 'in', 'einer', 'orangen', 'Weste', 'verlegt', 'Kopfsteinpflaster', '.']], [['Ein', 'Mann', 'liegt', 'mehrere', 'Ta', 'ge', 'in', 'seinem', 'Zimmer', 'herum', ',', 'ohne', 'etwas', 'zu']], [['Eine', 'Frau', 'in', 'schwarzen', 'Hosen', 'blickt', 'auf', 'ihr', 'Handy', '.']], [['Vier', 'Jungen', 'posieren', ',', 'während', 'ein', 'Junge', 'sein', 'Getränk', 'ab', 'setzt', '.']], [['Eine', 'Person', 'sitzt', 'vor', 'einer', 'Menschenmenge', 'auf', 'einem', 'Stuhl', '.']], [['Die', 'Teilnehmer', 'eines', 'Ger', 'ä', 'tet', 'auch', 'kurs', 'es', 'machen', 'ein', 'Foto', 'während', 'des']], [['Ein', 'zer', 'tr', 'üm', 'mer', 'tes', 'Auto', ',', 'das', 'von', 'vielen', 'Feuerwehrmänner', 'n', 'zer']], [['Zwei', 'Männer', 'in', 'Shorts', 'arbeiten', 'an', 'einem', 'blauen', 'Fahrrad', '.']], [['Eine', 'Frau', 'in', 'einer', 'blauen', 'Uniform', 'steht', 'da', 'und', 'blickt', 'nach', 'unten', '.']]]\n",
            "[['Eine', 'Familie', '.'], ['Eine', 'Frau', 'arbeitet', '.'], ['Eine', 'Frau', 'macht', 'ein', 'Foto', '.'], ['Zwei', 'Hunde', 'spielen', '.'], ['Ein', 'Mann', 'hockt', '.'], ['Ein', 'in', 'die', 'Luft', '.'], ['Eine', 'Menschenmenge', 'auf', '.'], ['Eine', 'Frau', 'bereitet', 'sich', 'auf', 'eine', 'Schüssel', 'zu', '.'], ['Ein', 'Mann', 'und', 'genießt', 'es', '.'], ['Eine', 'Frau', 'arbeitet', '.'], ['Eine', 'Frau', 'in', 'ein', 'Teleskop', '.'], ['Ein', 'Koch', 'mit', 'einem', 'Messer', '.'], ['Ein', 'Mann', 'mit', 'einem', 'großen', 'Hut', '.'], ['Eine', 'Frau', 'steht', 'vor', 'Bäumen', '.'], ['Zwei', 'Motorradfahrer', '.'], ['Diese', 'Leute', 'haben', 'sich', 'um', 'zu', '.'], ['Ein', 'Mann', 'hält', 'ein', 'Glas', 'in', 'die', 'Kamera', '.'], ['Eine', 'Gruppe', 'von', 'Mädchen', 'spielt', 'ein', 'Spiel', '.'], ['Ein', 'Mann', 'in', 'einem', 'hellen', 'Hemd', 'spielt', 'Trompete', '.'], ['Eine', 'Gruppe', 'Männer', '.'], ['Ein', 'Mann', 'schläft', '.'], ['Ein', 'Mann', 'mit', 'den', 'Telefon', '.'], ['Ein', 'kleines', 'Kind', 'steht', 'allein', '.'], ['Ein', 'kleines', 'Fass', '.'], ['Ein', 'Mann', 'schläft', 'im', 'Freien', 'auf', 'seinem', 'Stuhl', '.'], ['Eine', 'junge', 'Frau', '.'], ['Ein', 'Mann', 'in', 'einem', 'Rock', '.'], ['Eine', 'Bau', 'maschine', '.'], ['Zwei', 'Hunde', 'spielen', '.'], ['Drei', 'Männer', 'gehen', 'auf', 'einer', 'Straße', 'entlang', '.'], ['Eine', 'Person', 'macht', 'ein', 'großes', 'Gewässer', '.'], ['Eine', 'Band', '.'], ['Personen', 'schauen', 'auf', '.'], ['Zwei', 'Personen', 'klettern', '.'], ['Eine', 'Frau', 'geht', 'durch', 'den', 'Schnee', '.'], ['Ein', 'älterer', 'Mann', 'macht', 'ein', '.'], ['Ein', 'brauner', 'Hund', '.'], ['Eine', 'Frau', 'im', 'Strand', '.'], ['Eine', 'Mutter', '.'], ['Ein', 'Fluss', '.'], ['Ein', 'Polizist', '.'], ['Eine', 'Band', 'Musik', 'auf', 'der', 'Bühne', 'Musik', '.'], ['Ein', 'Mann', 'spielt', 'Keyboard', '.'], ['Eine', 'blonde', 'Frau', '.'], ['Ein', 'Mann', 'rollt', 'den', 'Boden', '.'], ['Zwei', 'Männer', 'ringen', '.'], ['Ein', 'brauner', 'Hund', 'rennt', 'im', 'Sand', '.'], ['Ein', 'Kleinkind', 'spielt', '.'], ['Zwei', 'Männer', '.'], ['4', 'Personen', 'zu', 'reparieren', '.'], ['Ein', 'sehr', 'großer', 'brauner', 'Hund', '.'], ['Ein', 'alter', 'Mann', 'mit', 'einem', 'Gewehr', '.'], ['Ein', 'kleiner', 'Junge', 'springt', 'aus', '.'], ['Eine', 'Frau', 'in', 'einem', 'blauen', 'Oberteil', 'spielt', 'ein', 'Instrument', '.'], ['Ein', 'Junge', 'macht', 'ein', 'Skateboard', '.'], ['Eine', 'Kurve', '.'], ['Eine', 'Straße', 'entlang', '.'], ['Ein', 'Baum', 'hoch', '.'], ['Ein', 'Mann', 'in', 'einem', 'weißen', 'Hemd', 'macht', '.'], ['Ein', 'Mann', 'mit', 'Brille', '.'], ['Ein', 'Mann', 'in', 'ein', 'Mikrofon', '.'], ['Ein', 'Kleinkind', 'sitzt', 'an', 'einem', 'Tisch', '.'], ['Eine', 'Straße', 'in', 'der', 'Stadt', 'entlang', '.'], ['Ein', 'Mann', 'macht', 'ein', 'Fahrrad', '.'], ['Eine', 'Straße', '.'], ['Zwei', 'Männer', 'stehen', 'auf', 'der', 'Straße', '.'], ['Eine', 'Menschenmenge', '.'], ['Zwei', 'alte', 'Männer', '.'], ['Eine', 'Gruppe', 'junger', 'Männer', 'geht', '.'], ['Eine', 'Gruppe', 'von', 'Eltern', '.'], ['Eine', 'Gruppe', 'von', 'Kindern', '.'], ['Eine', 'Person', 'auf', '.'], ['Zwei', 'Frauen', 'stehen', '.'], ['Eine', 'Straße', '.'], ['Eine', 'Frau', 'in', 'einem', 'blauen', 'Oberteil', '.'], ['Ein', 'Spielzeug', '.'], ['Ein', 'Brett', '.'], ['Zwei', 'Personen', 'laufen', '.'], ['Eine', 'Frau', 'steht', 'auf', 'einer', 'Mauer', '.'], ['Zwei', 'Vor', 'teil', '.'], ['Eine', 'Reihe', '.'], ['Ein', 'Junge', 'jagt', '.'], ['Ein', 'Junge', 'in', 'einem', 'grün', '-', 'gelben', 'Kleid', '.'], ['Eine', 'Gruppe', 'von', 'Menschen', 'hört', 'zu', '.'], ['Ein', 'Mädchen', 'mit', 'einem', 'großen', 'roten', 'Hut', '.'], ['Ein', 'Mann', 'hält', 'ein', 'Kleinkind', '.'], ['Eine', 'Frau', 'einen', 'Helm', '.'], ['Ein', 'Junge', 'spielt', '.'], ['Ein', 'Mann', 'singt', 'in', 'ein', 'Mikrofon', '.'], ['Ein', 'Mann', 'in', 'schwarzer', 'Kleidung', '.'], ['Ein', 'Mann', 'macht', 'ein', '.'], ['Eine', 'Frau', 'mit', 'einem', 'gelben', 'Helm', '.'], ['Zwei', 'Personen', 'fahren', 'auf', 'einer', 'unbefestigten', 'Straße', '.'], ['Ein', 'Kind', 'ist', 'kurz', 'davor', 'zu', '.'], ['Eine', 'Menschenmenge', '.'], ['Ein', 'großer', 'schwarzer', 'Hund', '.'], ['Eine', 'Frau', 'mit', 'blonden', 'Haaren', '.'], ['Ein', 'Mann', 'wird', 'von', 'einer', 'Bibliothek', 'gehalten', '.'], ['Zwei', 'Kinder', 'bereiten', 'sich', 'darauf', 'vor', '.'], ['Ein', 'Mitarbeiter', 'einer', 'M', 'ang', 'ung', '.'], ['Ein', 'Junge', ',', 'der', 'von', 'einem', 'anderen', 'Jungen', 'ab', 'hebt', '.'], ['Eine', 'Männer', 'und', 'warten', 'darauf', '.'], ['Eine', 'Gruppe', 'von', 'Menschen', 'rennt', '.'], ['Mehrere', 'Personen', '.'], ['Eine', 'Frau', 'in', 'einer', 'gelben', 'Jacke', '.'], ['Ein', 'alter', 'Mann', 'sitzt', 'mit', 'einem', 'Tablett', 'auf', 'dem', 'Schoß', '.'], ['Zwei', 'Personen', 'sitzen', 'zu', 'Mittag', '.'], ['Zwei', 'Männer', 'unterhalten', '.'], ['Eine', 'belebte', 'Straße', '.'], ['Eine', 'Frau', 'spricht', '.'], ['Eine', 'Frau', 'grillt', 'Essen', '.'], ['Eine', 'Frau', 'auf', 'das', 'Wasser', 'zu', '.'], ['Ein', 'Schwimmbecken', '.'], ['Ein', 'Wald', '.'], ['Gebäude', '.'], ['Eine', 'weiß', '.'], ['Ein', 'Mann', 'in', 'der', 'Ferne', '.'], ['Ein', 'Mann', 'balanciert', 'auf', 'dem', 'Arm', '.'], ['Eine', 'Frau', 'in', 'einer', 'gestreiften', 'Bluse', '.'], ['Steine', '.'], ['Ein', 'Mann', 'entspannt', 'sich', 'an', '.'], ['Eine', 'Frau', 'in', 'schwarzer', 'Hose', 'schaut', 'auf', 'ihr', 'Handy', '.'], ['Vier', 'Jungen', '.'], ['Eine', 'Menschenmenge', '.'], ['Ein', 'Taucher', 'macht', 'ein', 'Foto', '.'], ['Ein', 'Auto', '.'], ['Zwei', 'Männer', '.'], ['Eine', 'Frau', 'in', 'einer', 'blauen', 'Uniform', '.']]\n",
            "0.12635072519455307\n",
            "[[['Mann', 'in', 'einem', 'pur', 'pur', 'farbenen', 'T', '-', 'Shirt', 'arbeitet', 'in', 'einem', 'B', 'iol', 'og', 'iel', 'ab', 'or', '.']], [['Ein', 'Mann', 'sitzt', 'in', 'einem', 'park', 'enden', 'Ent', 'sorg', 'ungsfahrzeug', '.']], [['Ein', 'kleiner', 'Junge', 'zeigt', 'seine', 'braun', '-', 'grüne', 'Perlen', 'hal', 's', 'kette', '.']], [['Ein', 'junger', 'Mann', 'macht', 'sich', 'bereit', ',', 'einen', 'Fußball', 'zu', 'schießen', '.']], [['Eine', 'Läuferin', 'unter', 'nimmt', 'ihren', 'ersten', 'Spr', 'int', 'in', 'einem', 'Wettkampf', '.']], [['Eine', 'Frau', 'holt', 'sich', 'eine', 'Tüte', 'Eis', 'bei', 'einem', 'Laden', '.']], [['Ein', 'Mann', 'steht', 'allein', 'auf', 'einem', 'Gehweg', 'und', 'rückt', 'seine', 'Mütze', 'zurecht', '.']], [['Ein', 'kleiner', 'indischer', 'Junge', 'sitzt', 'da', 'und', 'denkt', 'über', 'seine', 'Zu', 'kunft', 'nach', '.']], [['Der', 'Junge', 'springt', 'mit', 'einem', 'Karate', 'tritt', 'aus', 'dem', 'Bett', '.']], [['Ein', 'junger', 'Mann', 'fährt', 'mit', 'dem', 'Skateboard', 'auf', 'einer', 'Beton', 'stein', 'mauer', '.']], [['Zwei', 'Männer', 'in', 'Kampfsport', 'bekleidung', 'üben', 'einen', 'Kampfsport', 'aus', '.']], [['Mann', 'mit', 'blauem', 'Helm', 'fä', 'd', 'elt', 'sich', 'auf', 'einem', 'Fahrrad', 'in', 'den', 'Verkehr', 'ein', '.']], [['Ein', 'Soldat', 'blickt', 'durch', 'ein', 'Fernglas', 'in', 'die', 'Berglandschaft', '.']], [['Eine', 'Gruppe', 'von', 'kleinen', 'Jungen', 'macht', 'einen', 'Wettlauf', 'an', 'einem', 'verschneiten', 'Tag', '.']], [['Zwei', 'Männer', 'aus', 'gegnerischen', 'Teams', 'rennen', 'in', 'Richtung', 'eines', 'Fußball', 's', '.']], [['Zwei', 'Fahrradfahrer', 'fahren', 'auf', 'einer', 'unbefestigten', 'Straße', 'um', 'die', 'Wette', '.']], [['Zwei', 'Fahrradfahrer', 'fahren', 'an', 'Menschen', 'vorbei', 'die', 'Straße', 'entlang', 'und', 'unterhalten', 'sich', 'dabei', '.']], [['Drei', 'Menschen', 'laufen', 'auf', 'einer', 'roten', 'Bahn', 'um', 'die', 'Wette', '.']], [['Footballspieler', 'haben', 'Schwierigkeiten', ',', 'bei', 'ihren', 'Spiel', 'zügen', 'durch', 'die', 'stab', 'il', 'e', 'Linie', 'zu', 'dr', 'ingen', '.']], [['Eine', 'Gruppe', 'von', 'Polizisten', 'steht', 'vor', 'einem', 'Bus', '.']], [['Eine', 'Person', 'überquert', 'die', 'Straße', 'und', 'm', 'eidet', 'dabei', 'die', 'aus', 'gel', 'aufen', 'e', 'Farbe', '.']], [['Ein', 'großer', 'brauner', 'Hund', 'hält', 'sein', 'Gesicht', 'in', 'den', 'Rasen', 'spr', 'en', 'ger', '.']], [['Ein', 'Mann', 'in', 'einem', 'schwarzen', 'Neoprenanzug', 'surft', 'auf', 'einer', 'Welle', '.']], [['Eine', 'Frau', 'mit', 'pinkfarbener', 'Tasche', 'sitzt', 'auf', 'einer', 'Bank', '.']], [['Baby', 'sieht', 'sich', 'die', 'Blätter', 'am', 'Zweig', 'eines', 'Baumes', 'an', '.']], [['Ein', 'Polizist', 'hält', 'ein', 'Fahrzeug', 'am', 'Straßenrand', 'an', '.']], [['Ein', 'als', 'Spiderman', 'verkleide', 'tes', 'Kind', 'kl', 'in', 'gelt', 'an', 'der', 'Tür', '.']], [['Ein', 'Wanderer', 'posiert', 'für', 'ein', 'Foto', 'in', 'einer', 'trockenen', 'Berglandschaft', '.']], [['Eine', 'Gruppe', 'von', 'Kindern', 'spielt', 'im', 'Wasser', 'unter', 'einer', 'Brücke', '.']], [['Zwei', 'brünette', 'Frauen', 'sprechen', 'vor', 'einer', 'Klasse', 'voll', 'mit', 'blonden', 'Kindern', '.']], [['Eine', 'Person', 'mit', 'Hut', 'und', 'Schal', 'blickt', 'nach', 'rechts', '.']], [['Vier', 'Menschen', 'protestieren', 'gegen', 'die', 'Beh', 'and', 'lung', 'junger', 'Arbeiter', 'durch', 'E', 'qu', 'ino', 'x', '.']], [['Ein', 'kleines', 'Kind', 'isst', 'Obst', 'und', 'trinkt', 'ein', 'Glas', 'Saft', '.']], [['Ein', 'Mann', 'und', 'zwei', 'Frauen', 'in', 'Shorts', 'gehen', 'die', 'Straße', 'entlang', '.']], [['Mann', 'sieht', 'einer', 'Frau', 'in', 'einer', 'Bar', 'beim', 'Spre', 'chen', 'zu', '.']], [['Ein', 'Kind', 'steht', 'neben', 'einem', 'Kinderwagen', 'und', 'hält', 'ein', 'Spielzeug', 'schwer', 't', '.']], [['Zwei', 'Mädchen', 'sitzen', 'an', 'einer', 'Mauer', 'und', 'sehen', 'bei', 'einer', 'Sportveranstaltung', 'zu', '.']], [['Zwei', 'Männer', 'mit', 'Fe', 'sen', 'sprechen', 'miteinander', 'auf', 'einem', 'Freiluftmarkt', '.']], [['Mann', 'und', 'Junge', 'spielen', 'bei', 'Sonnenuntergang', 'mit', 'einem', 'Hund', 'am', 'Strand', '.']], [['Eine', 'Frau', 'lässt', 'sich', 'ein', 'Tattoo', 'im', 'Gesicht', 'machen', ',', 'das', 'aus', 'schwarzen', 'Linien', 'und', 'Gl', 'itter', 'besteht', '.']], [['Viele', 'asiatische', 'Kinder', 'bilden', 'einen', 'Zug', 'unter', 'einem', 'V', 'iet', 'nam', '-', 'Schild', '.']], [['Der', 'Be', 'trei', 'ber', 'eines', 'Jahrmarkt', 'spiel', 's', 'nimmt', 'Geld', 'von', 'zwei', 'bereit', 'will', 'igen', 'K', 'and', 'i', 'daten', 'entgegen']], [['Das', 'ist', 'eine', 'belebte', 'Kreuzung', 'in', 'einer', 'Großstadt', 'bei', 'Nacht', '.']], [['Zwei', 'Wanderer', 'machen', 'eine', 'Pause', ',', 'um', 'ein', 'Foto', 'zu', 'aufzunehmen', '.']], [['Der', 'große', 'braune', 'Hund', 'jagt', 'dem', 'kleinen', 'braunen', 'Hund', 'hinterher', '.']], [['Ein', 'Boot', 'mit', 'Menschen', 'und', 'ihrem', 'Hab', 'und', 'G', 'ut', 'befindet', 'sich', 'im', 'Wasser', '.']], [['Mann', 'beobachtet', 'eine', 'Frau', ',', 'die', 'auf', 'dem', 'Gehweg', 'raucht', '.']], [['Zwei', 'schwarze', 'Hunde', 'rennen', 'auf', 'beiden', 'Seiten', 'eines', 'befestigten', 'We', 'ges']], [['Vier', 'Menschen', 'in', 'Freizeitkleidung', 'stehen', 'im', 'Freien', 'und', 'halten', 'Müll', 'tüten', '.']], [['Ein', 'Mann', 'macht', 'Hand', 'zeichen', 'neben', 'zwei', 'jungen', 'Mädchen', '.']], [['Jungen', 'und', 'Mädchen', 'aus', 'einem', 'öst', 'lichen', 'Land', 'lächeln', 'auf', 'einem', 'Feld', '.']], [['Ein', 'Mann', 'greift', 'nach', 'oben', ',', 'um', 'an', 'den', 'Kabeln', 'über', 'einem', 'Schreibtisch', 'zu', 'arbeiten', '.']], [['Einige', 'Männer', 'blicken', 'auf', 'einen', 'Computerbildschirm', 'in', 'einem', 'Büro', '.']], [['Ein', 'Junge', 'steht', 'auf', 'alber', 'ne', 'Wei', 'se', 'bei', 'einem', 'ges', 'elligen', 'Anl', 'ass', 'herum', '.']], [['Dieses', 'Kind', 'befindet', 'sich', 'in', 'einem', 'Klassenraum', 'und', 'vielleicht', 'ist', 'die', 'Schule', 'für', 'h', 'eu', 'te', 'aus']], [['Ein', 'Junge', 'und', 'ein', 'alter', 'Mann', 'mit', 'einem', 'Stock', 'unterhalten', 'sich', '.']], [['Ein', 'junger', 'Mann', 'fährt', 'auf', 'einem', 'selbst', 'gebauten', 'Fahrrad', 'über', 'die', 'Straße', '.']], [['Da', 'sitzt', 'eine', 'ausländ', 'ische', 'Frau', 'mit', 'sehr', 'viel', 'buntem', 'Stoff', '.']], [['Ein', 'Junge', 'in', 'einem', 'roten', 'T', '-', 'Shirt', 'versucht', ',', 'Gitarre', 'zu', 'spielen', '.']], [['Eine', 'Gruppe', 'von', 'Menschen', 'in', 'blauen', 'T', '-', 'Shirts', 'bei', 'einer', 'Sportveranstaltung', '.']], [['Ein', 'kleines', 'Mädchen', 'in', 'einem', 'rosafarbenen', 'Ball', 'et', 'tr', 'öck', 'chen', 'übt', 'einen', 'T', 'ü', 'ch', 'ert', 'anz', '.']], [['Eine', 'Frau', 'mit', 'einem', 'in', 'Stoff', 'gew', 'ick', 'elten', 'Bein', 'hängt', 'von', 'einem', 'Baum', 'herunter', '.']], [['Ein', 'schwarzer', 'Pudel', 'spielt', 'mit', 'einem', 'anderen', 'Hund', 'auf', 'einem', 'ausge', 'd', 'ör', 'r', 'ten', 'Feld', '.']], [['Eine', 'Frau', 'mit', 'lilafarbenen', 'Haaren', 'und', 'ein', 'Mann', 'in', 'militär', 'ischem', 'Or', 'n', 'at', '.']], [['Eine', 'große', 'Gruppe', 'von', 'Menschen', 'sieht', 'einem', 'Künstler', 'auf', 'einer', 'Bühne', 'zu', '.']], [['Ein', 'Mann', 'in', 'Blau', 'fährt', 'mit', 'einem', 'Fahrrad', 'auf', 'einer', 'Piste', '.']], [['Zwei', 'Radfahrer', 'überqueren', 'die', 'Straße', 'an', 'einem', 'sehr', 'wind', 'igen', 'Tag', 'in', 'Kal', 'ifor', 'n', 'ien', '.']], [['Eine', 'Frau', 'fotografiert', 'mit', 'einer', 'großen', 'Kamera', ',', 'während', 'sie', 'auf', 'der', 'Straße', 'steht', '.']], [['Frau', 'mit', 'zwei', 'Meda', 'illen', 'um', 'den', 'Hals', 'hält', 'sieben', 'Finger', 'nach', 'oben', '.']], [['Eine', 'im', 'Freien', 'versamm', 'elte', 'Menschenmenge', 'sieht', 'jemandem', 'zu', ',', 'der', 'sich', 'in', 'ihrer', 'Mitte', 'befindet', '.']], [['Ein', 'großer', 'schwarzer', 'Hund', 'rennt', 'an', 'einem', 'Zaun', 'entlang', 'durch', 'das', 'Gras', '.']], [['Ein', 'Motocrossfahrer', 'wird', 'bei', 'einem', 'Sprung', 'auf', 'einer', 'Rennstrecke', 'leicht', 'durch', 'die', 'Luft', 'getragen', '.']], [['Ein', 'Inder', 'sitzt', 'vor', 'einem', 'Restaurant', 'an', 'einem', 'Tisch', '.']], [['Ein', 'Mann', 'mit', 'orangen', 'Hosen', 'hält', 'ein', 'Seil', 'auf', 'einem', 'Boot', '.']], [['Eine', 'Dame', 'in', 'einem', 'Bikini', 'schlägt', 'ein', 'Rad', 'im', 'Sand', '.']], [['Zwei', 'Hunde', 'liegen', 'mit', 'offenem', 'Maul', 'im', 'Schnee', '.']], [['Eine', 'Frau', 'mit', 'freund', 'lichem', 'Gesicht', 'reinigt', 'den', 'Boden', 'ihres', 'Wohn', 'zimm', 'ers', '.']], [['Ein', 'Mann', 'singt', 'in', 'ein', 'Mikrofon', ',', 'während', 'seine', 'Band', 'spielt', '.']], [['Eine', 'Kellnerin', 'in', 'einem', 'weißen', 'T', '-', 'Shirt', 'bedient', 'die', 'Gäste', 'in', 'einem', 'Restaurant', '.']], [['Telefon', 'ieren', 'der', 'Mann', 'in', 'einem', 'Geschäfts', 'anzug', 'geht', 'eine', 'belebte', 'Straße', 'entlang', '.']], [['Eine', 'stehende', 'Frau', 'trägt', 'ein', 'einen', 'grün', '-', 'gelben', 'Schal', '.']], [['Menschen', 'sitzen', 'zwischen', 'ein', 'paar', 'Pfeil', 'ern', ',', 'während', 'eine', 'andere', 'Person', 'vorbeigeht', '.']], [['Schwarze', 'Menschen', 'sind', 'in', 'einem', 'Lebensmittelgeschäft', ',', 'um', 'Essen', 'zu', 'kaufen', '.']], [['Eine', 'weiß', 'blonde', 'Dame', 'mit', 'einer', 'blauen', 'Tasche', 'fährt', 'auf', 'einem', 'Roller', '.']], [['Ein', 'kleines', 'asiatisches', 'Mädchen', 'rennt', 'entlang', 'einer', 'gepflasterten', 'Straße', 'in', 'den', 'Fo', 'kus', '.']], [['Ein', 'Mann', 'in', 'einem', 'schwarzen', 'T', '-', 'Shirt', 'singt', 'in', 'ein', 'Mikrofon', '.']], [['Eine', 'farbenfrohe', 'Parade', ',', 'die', 'von', 'einem', 'Mann', 'ange', 'führt', 'wird', ',', 'der', 'eine', 'rote', 'Fahne', 'trägt', '.']], [['Die', 'Frau', 'hält', 'den', 'Jungen', 'fest', ',', 'während', 'sie', 'über', 'die', 'Straße', 'blickt', '.']], [['Ein', 'Mann', 'geht', 'neben', 'einer', 'Straße', 'den', 'Gehweg', 'entlang', '.']], [['Mann', 'und', 'Frau', 'in', 'Schwarz', 'stehen', 'eng', 'beieinander', 'auf', 'der', 'Straße', '.']], [['Eine', 'Frau', 'wird', 'auf', 'einem', 'Jahrmarkt', 'von', 'einem', 'Clown', 'unterhalten', '.']], [['Ein', 'schwarzer', 'Mann', 'mit', 'einer', 'Kappe', 'sitzt', 'in', 'einem', 'Bus', '.']], [['Eine', 'Gruppe', 'von', 'vier', 'Personen', 'wird', 'aus', 'einem', 'Auto', 'fotografiert', '.']], [['Ein', 'Mann', 'über', 'legt', 'in', 'seinem', 'Wohnzimmer', ',', 'was', 'er', 'für', 'eine', 'Reise', 'ein', 'packen', 'soll', '.']], [['Ein', 'Paar', 'und', 'zwei', 'Mädchen', 'blicken', 'über', 'ein', 'transp', 'ar', 'en', 'tes', 'Geländer', '.']], [['Ein', 'Mann', 'hält', 'ein', 'kleines', 'Kind', ',', 'das', 'einen', 'Rucksack', 'trägt', '.']], [['Eine', 'Gruppe', 'von', 'Menschen', 'winkt', 'einer', 'Person', 'auf', 'einem', 'Balkon', '.']], [['Ein', 'Mann', 'mit', 'weißem', 'Hemd', 'und', 'dunklen', 'Shorts', 'arbeitet', 'im', 'Freien', '.']], [['Ein', 'Mann', ',', 'der', 'eine', 'Hand', 'an', 'den', 'Kopf', 'gelegt', 'hat', ',', 'sieht', 'sich', 'eine', 'Werbung', 'der', 'Bank', 'of', 'America']], [['Ein', 'Mann', 'in', 'einem', 'weißen', 'T', '-', 'Shirt', 'sitzt', 'auf', 'einer', 'Kiste', '.']], [['Ein', 'Mann', 'in', 'einer', 'grauen', 'Jacke', 'transportiert', 'Laub', 'auf', 'einem', 'Fahrrad', '.']], [['Auf', 'einer', 'belebten', 'Straße', 'trägt', 'eine', 'Dame', 'Waren', 'auf', 'ihrem', 'Kopf', '.']], [['Sechs', 'Menschen', 'in', 'einer', 'Turnhalle', 'reparieren', 'ein', 'paar', 'Fahrräder', '.']], [['Ein', 'Mann', 'und', 'eine', 'Frau', 'machen', 'ein', 'Nickerchen', 'auf', 'einem', 'beh', 'el', 'fs', 'mä', 'ß', 'igen', 'Boot', '.']], [['Ein', 'kleines', 'Baby', 'mit', 'einer', 'rosafarbenen', 'Mütze', 'liegt', 'nack', 't', 'da', 'und', 'schläft', '.']], [['Zwei', 'Hunde', 'rennen', 'über', 'ein', 'Feld', 'und', 'blicken', 'dabei', 'auf', 'eine', 'un', 'sicht', 'bare', 'Frisbeescheibe', '.']], [['Drei', 'Menschen', 'wandern', 'auf', 'einem', 'stark', 'verschneiten', 'Weg', '.']], [['Ein', 'z', 'ot', 'tel', 'iger', 'junger', 'Mann', 'mit', 'einem', 'Nasen', 'ring', 'putzt', 'sich', 'die', 'Zähne', '.']], [['Ein', 'Mann', 'rennt', 'mithilfe', 'von', 'Schneeschuhen', 'durch', 'den', 'Schnee', '.']], [['Ein', 'Tänzer', 'in', 'einem', 'roten', 'Anzug', 'springt', 'in', 'die', 'Luft', '.']], [['Jemand', 'in', 'einem', 'asiatischen', 'Kostüm', 'sitzt', 'da', 'und', 'hält', 'dabei', 'ein', 'Schwert', '.']], [['Ein', 'junger', 'Footballspieler', 'bringt', 'sich', 'für', 'ein', 'F', 'iel', 'd', 'go', 'al', 'in', 'St', 'ellung', '.']], [['Schul', 'mädchen', 'in', 'Uniformen', 'marschieren', 'in', 'einer', 'Parade', 'und', 'spielen', 'dabei', 'fl', 'öten', 'art', 'ige', 'Instrumente', '.']], [['Ein', 'Mann', 'füllt', 'ein', 'Huhn', 'mit', 'Zutaten', 'aus', 'einer', 'blauen', 'Schüssel', '.']], [['Eine', 'Gruppe', 'von', 'Gokart', 'fahrern', 'brau', 'st', 'um', 'die', 'Gokart', 'bahn', '.']], [['Ein', 'Mann', 'hält', 'eine', 'Präsentation', 'vor', 'einer', 'Menschenmenge', '.']], [['Ein', 'tätowierter', 'Mann', 'in', 'einer', 'Latz', 'hose', 'hält', 'ein', 'Mikrofon', 'auf', 'einer', 'Bühne', '.']], [['Ein', 'kleiner', 'Junge', 'in', 'Grün', 'übt', 'das', 'Jongl', 'ieren', 'auf', 'einem', 'Parkplatz', '.']], [['Ein', 'Mann', 'stellt', 'in', 'der', 'Nähe', 'des', 'Wassers', 'den', 'Motor', 'eines', 'Boots', 'ein', '.']], [['Ein', 'Mann', 'übt', 'Seilspringen', ',', 'während', 'ihm', 'eine', 'Menschenmenge', 'dabei', 'zusieht', '.']], [['Ein', 'Renn', 'kat', 'am', 'aran', 'wird', 'im', 'Wasser', 'auf', 'einen', 'R', 'umpf', 'gehoben', '.']], [['Eine', 'Gruppe', 'von', 'Arbeitern', 'hört', 'den', 'Anweisungen', 'eines', 'Kollegen', 'zu', '.']], [['Zwei', 'indische', 'Kinder', 'in', 'formeller', 'Tracht', 'führen', 'fröhlich', 'einen', 'r', 'itu', 'ellen', 'Tanz', 'auf', '.']], [['Zwei', 'Frauen', 'gehen', 'den', 'Strand', 'entlang', 'und', 'tragen', 'dabei', 'Br', 'etter', 'und', 'Fl', 'ossen', '.']], [['Eine', 'Gruppe', 'von', 'drei', 'Freunden', 'unterhält', 'sich', 'in', 'einem', 'Haus', '.']], [['Bei', 'einer', 'Art', 'Jahrmarkt', 'stellt', 'ein', 'Mann', 'Zuckerwatte', 'her', '.']], [['Ein', 'Traktor', 'bewegt', 'Erde', 'für', 'den', 'Bau', 'einer', 'Stütz', 'mauer', '.']], [['Menschen', 'gehen', 'auf', 'einem', 'Gehweg', ',', 'an', 'dem', 'ein', 'Freiluftmarkt', 'statt', 'findet', '.']]]\n",
            "[['Ein', 'Mann', 'in', 'einem', 'lila', 'Hemd', '.'], ['Ein', 'Mann', 'ist', '.'], ['Ein', 'kleiner', 'Junge', '.'], ['Ein', 'junger', 'Mann', 'macht', '.'], ['Eine', 'Läuferin', '.'], ['Eine', 'Frau', '.'], ['Ein', 'Mann', ',', 'der', 'allein', 'auf', 'einem', 'Bürgersteig', 'steht', '.'], ['Ein', 'kleiner', 'Junge', 'sitzt', '.'], ['Der', 'Junge', 'springt', '.'], ['Ein', 'junger', 'Mann', 'fährt', 'Skateboard', '.'], ['Zwei', 'Männer', 'in', 'Kampfsport', '.'], ['Ein', 'Mann', 'mit', 'einem', 'blauen', 'Helm', 'auf', 'dem', 'Fahrrad', '.'], ['Ein', 'Soldat', 'befindet', 'sich', 'in', 'die', 'Höhe', '.'], ['Eine', 'Gruppe', 'von', 'Jungen', '.'], ['Zwei', 'Männer', '.'], ['Zwei', 'Radfahrer', '.'], ['Zwei', 'Radfahrer', 'fahren', 'die', 'Straße', 'entlang', '.'], ['Drei', 'Personen', '.'], ['Footballspieler', '.'], ['Eine', 'Gruppe', 'von', 'Polizisten', '.'], ['Eine', 'Person', 'auf', '.'], ['Ein', 'großer', 'brauner', 'Hund', '.'], ['Ein', 'Mann', 'in', 'einem', 'schwarzen', 'Neoprenanzug', '.'], ['Eine', 'Frau', 'mit', 'einer', 'rosafarbenen', 'Handtasche', '.'], ['Ein', 'Baby', '.'], ['Ein', 'Polizist', '.'], ['Ein', 'Kind', '.'], ['Ein', 'Wanderer', '.'], ['Eine', 'Gruppe', 'Kinder', '.'], ['Zwei', 'blonde', 'Kinder', '.'], ['Ein', 'Mensch', '.'], ['Vier', '.'], ['Ein', 'kleines', 'Kind', '.'], ['Ein', 'Mann', 'und', 'zwei', 'Frauen', 'gehen', 'die', 'Straße', 'entlang', '.'], ['Ein', 'Mann', 'schaut', 'zu', '.'], ['Ein', 'Spielzeug', '.'], ['Zwei', 'junge', 'Mädchen', 'sitzen', '.'], ['Zwei', 'Männer', '.'], ['Ein', 'Mann', 'und', 'spielt', 'an', 'einem', 'Strand', '.'], ['Eine', 'Frau', '.'], ['Viele', 'Schild', '.'], ['Ein', 'Jahrmarkt', '.'], ['Eine', 'Kreuzung', '.'], ['Ein', 'paar', 'Wanderer', 'machen', '.'], ['Ein', 'großer', 'brauner', 'Hund', '.'], ['Ein', 'Boot', '.'], ['Ein', 'Mann', 'auf', 'dem', 'Gehweg', '.'], ['Zwei', 'schwarze', 'Hunde', 'entlang', '.'], ['Vier', '.'], ['Ein', 'Mann', '.'], ['Jungen', 'und', 'lächeln', '.'], ['Ein', 'Mann', 'greift', '.'], ['Einige', '.'], ['Ein', 'Junge', '.'], ['Ein', 'Kind', ',', 'der', 'an', 'der', 'Tag', '.'], ['Ein', 'Junge', '.'], ['Ein', 'junger', 'Mann', 'fährt', '.'], ['Eine', 'fremden', '.'], ['Ein', 'Junge', 'versucht', 'zu', 'spielen', '.'], ['Eine', 'Gruppe', 'von', 'Menschen', '.'], ['Ein', 'kleines', 'Mädchen', 'in', 'einem', 'rosa', 'Trikot', '.'], ['Eine', 'Frau', 'hängt', '.'], ['Ein', 'schwarzer', 'Pudel', '.'], ['Eine', 'Frau', 'mit', 'lila', 'Haaren', '.'], ['Eine', 'große', 'Gruppe', 'von', '.'], ['Ein', 'Mann', 'in', 'blauer', 'Kleidung', '.'], ['Zwei', 'Radfahrer', 'die', 'Straße', 'entlang', '.'], ['Eine', 'Frau', 'steht', 'auf', 'der', 'Straße', '.'], ['Finger', '.'], ['Eine', 'Menschenmenge', '.'], ['Ein', 'großer', 'schwarzer', 'Hund', 'läuft', '.'], ['Ein', 'Motocross', '-', 'Fahrer', 'fliegt', 'in', 'der', 'Luft', '.'], ['Ein', 'indischer', 'Mann', 'sitzt', 'an', 'einem', 'Tisch', '.'], ['Ein', 'Mann', 'auf', 'einem', 'Boot', 'hält', '.'], ['Eine', 'Frau', 'in', 'einem', 'Bikini', '.'], ['Zwei', 'Hunde', '.'], ['Eine', 'Frau', '.'], ['Ein', 'Mann', 'singt', '.'], ['Eine', 'Bedienung', 'in', 'einem', 'Restaurant', '.'], ['Eine', 'belebte', 'Straße', 'entlang', '.'], ['Eine', 'Frau', '.'], ['vorbei', '.'], ['Mehrere', '.'], ['Eine', 'weiße', '.'], ['Ein', 'kleines', 'asiatisches', 'Mädchen', '.'], ['Ein', 'Mann', 'in', 'ein', 'Mikrofon', '.'], ['Ein', 'Mann', 'trägt', 'eine', 'rote', 'Fahne', '.'], ['Die', 'Frau', 'hält', '.'], ['Ein', 'Mann', 'geht', 'den', 'Bürgersteig', 'entlang', '.'], ['Drei', '.'], ['Eine', 'Frau', 'wird', '.'], ['Ein', 'dunkelhäutiger', 'Mann', '.'], ['Eine', 'Gruppe', 'von', 'vier', 'Personen', 'fotografiert', '.'], ['Ein', 'Mann', 'im', 'Wohnzimmer', '.'], ['Ein', 'Paar', '.'], ['Ein', 'Mann', 'mit', 'Rucksack', '.'], ['Eine', 'Gruppe', 'von', 'Menschen', '.'], ['Ein', 'Mann', 'in', 'einem', 'weißen', 'Hemd', 'arbeitet', 'im', 'Freien', '.'], ['Ein', 'Mann', ',', 'der', 'eine', 'Hand', 'hält', '.'], ['Ein', 'Mann', 'in', 'einem', 'weißen', 'Hemd', '.'], ['Ein', 'Mann', 'auf', 'einem', 'Fahrrad', '.'], ['Eine', 'Frau', 'auf', 'einer', 'belebten', 'Straße', '.'], ['Sechs', '.'], ['Ein', 'Mann', 'und', 'ein', 'Nickerchen', '.'], ['Ein', 'kleines', 'Baby', '.'], ['Zwei', 'Hunde', '.'], ['Ein', 'ge', 'ber', 'de', 'von', 'Leuten', 'auf', '.'], ['Ein', 'z', 'ot', 'ot', 'an', '.'], ['Ein', 'Mann', 'rennt', 'durch', 'den', 'Schnee', '.'], ['Ein', 'Tänzer', 'in', 'der', 'Luft', '.'], ['Ein', 'Schwert', '.'], ['Ein', 'junger', 'Footballspieler', '.'], ['Drei', 'eck', '.'], ['Ein', 'Mann', ',', 'der', 'sich', 'von', 'Holz', 'zu', 'sehen', '.'], ['Eine', 'Gruppe', 'von', 'Radfahrern', '.'], ['Ein', 'Mann', 'hält', '.'], ['Ein', 'Mann', 'mit', 'einem', 'Mikrofon', '.'], ['Ein', 'kleiner', 'Junge', '.'], ['Ein', 'Mann', 'stellt', '.'], ['Ein', 'Mann', 'macht', '.'], ['Ein', 'Rennen', '.'], ['Eine', 'Gruppe', 'von', 'Arbeitern', '.'], ['Zwei', 'indische', 'Kinder', '.'], ['Zwei', 'Frauen', 'gehen', 'entlang', '.'], ['Eine', 'Gruppe', 'von', 'Freunden', '.'], ['Ein', 'Mann', 'stellt', '.'], ['Ein', 'Traktor', '.'], ['Leute', 'gehen', 'einen', 'Bürgersteig', 'entlang', '.']]\n",
            "0.059892924435069626\n",
            "[[['Ein', 'junger', 'weißer', 'Mann', 'fegt', 'eine', 'Veranda', 'mit', 'einem', 'großen', 'Besen', '.']], [['Ein', 'älterer', 'Mann', 'geht', 'mit', 'einem', 'braunen', 'Hund', 'an', 'einer', 'roten', 'Leine', 'spazieren', '.']], [['Eine', 'auf', 'wend', 'ig', 'kostümierte', 'Figur', 'vor', 'einem', 'prächt', 'ig', 'geschmückten', 'Bauwerk', '.']], [['Ein', 'rotes', 'Flugzeug', 'fliegt', 'über', 'einem', 'Boot', 'und', 'zieht', 'dabei', 'pinkfarbenen', 'Rauch', 'hinter', 'sich', 'her', '.']], [['Ein', 'Kind', 'macht', 'einen', 'Rückwärtssalto', ',', 'während', 'es', 'auf', 'einem', 'Trampolin', 'hüpft', '.']], [['Ein', 'braun', '-', 'weißer', 'Hund', 'rennt', 'eine', 'gelb', '-', 'blaue', 'Rampe', 'hinunter', '.']], [['Ein', 'kleines', 'Kind', 'und', 'eine', 'Frau', 'stehen', 'um', 'einen', 'Hahn', 'im', 'Käfig', 'herum', '.']], [['Eine', 'junge', 'Asiatin', 'vollführt', 'in', 'einem', 'belebten', 'Stadt', 'teil', 'einen', 'Luftsprung', '.']], [['Ein', 'gelber', 'Hund', 'am', 'Strand', 'trägt', 'einen', 'Ball', 'im', 'Maul', '.']], [['Ein', 'Mann', 'und', 'eine', 'Frau', 'unterhalten', 'sich', ',', 'während', 'sie', 'neben', 'einem', 'Baum', 'stehen', '.']], [['Eine', 'Frau', 'trägt', 'eine', 'andere', 'Frau', 'mit', 'gleich', 'er', 'Sportkleidung', 'auf', 'ihrem', 'Rücken', '.']], [['Ein', 'Mann', 'in', 'einem', 'gelben', 'Hemd', 'steht', 'auf', 'dem', 'Gehweg', 'und', 'nimmt', 'Mess', 'ungen', 'vor', '.']], [['Ein', 'rot', '-', 'weiß', 'gekleideter', 'Footballspieler', 'spricht', 'mit', 'einem', 'Trainer', '.']], [['Ein', 'schwarz', 'gekleideter', 'Junge', 'schlägt', 'ein', 'Rad', 'am', 'Strand', '.']], [['Ein', 'Hund', 'rennt', 'mit', 'einem', 'Ball', 'im', 'Maul', 'über', 'ein', 'Feld', '.']], [['Ein', 'Junge', 'in', 'einer', 'Gruppe', 'von', 'sitzenden', 'Kindern', 'lächelt', 'für', 'die', 'Kamera', '.']], [['Zwei', 'Kinder', 'mit', 'nacktem', 'Oberkörper', 'sitzen', 'am', 'Rand', 'eines', 'Springbrunnen', 's', '.']], [['Eine', 'des', 'interess', 'ierte', 'junge', 'Frau', 'und', 'ein', 'älterer', 'Mann', 'stehen', 'an', 'einer', 'Bar', '.']], [['Ein', 'Mann', 'sitzt', 'im', 'klaren', ',', 'seichten', 'Wasser', 'an', 'einer', 'großen', 'Felswand', '.']], [['Ein', 'schwarzer', 'Mann', 'sieht', 'einem', 'anderen', 'schwarzen', 'Mann', 'beim', 'B', 'aden', 'im', 'Wasserfall', 'zu', '.']], [['Eine', 'große', 'Menschenmenge', 'sieht', 'mit', 'großen', 'Gebäuden', 'im', 'Hintergrund', 'bei', 'etwas', 'zu', '.']], [['Se', 'el', 'eu', 'te', 'stehen', 'oben', 'an', 'einer', 'Lauf', 'plan', 'ke', ',', 'die', 'auf', 'ein', 'großes', 'Schiff', 'führt']], [['Der', 'kleine', 'braune', 'Hund', 'befindet', 'sich', 'inmitten', 'der', 'Topf', 'pflanzen', 'und', 'heruntergefallen', 'en', 'Blätter', '.']], [['Zwei', 'Frauen', 'gehen', 'mit', 'ihren', 'Kinderwagen', 'eine', 'mit', 'Blättern', 'bedeckte', 'Straße', 'entlang', '.']], [['Ein', 'Kind', 'bei', 'einer', 'blauen', 'Bühne', 'mit', 'einer', 'bunten', 'Figur', 'darauf', '.']], [['Eine', 'Frau', 'mit', 'einem', 'gelben', 'T', '-', 'Shirt', 'und', 'Sonnenbrille', 'geht', 'einen', 'Gehweg', 'entlang', '.']], [['Die', 'Menschen', 'sind', 'dick', 'in', 'mehrere', 'Sch', 'ichten', 'gekleidet', 'und', 'machen', 'gemeinsam', 'e', 'Bewegungen', '.']], [['Eine', 'mittel', 'große', 'Gruppe', 'von', 'Menschen', 'posiert', 'vor', 'der', 'Kamera', '.']], [['Zwei', 'weibliche', 'Teenager', 'halten', 'eine', 'Karte', ',', 'auf', 'der', 'es', 'um', 'Punk', 'te', 'geht', ',', 'und', 'lächeln', '.']], [['Ein', 'Snowboarder', 'springt', 'neben', 'dem', 'Skilift', 'in', 'die', 'Luft', '.']], [['Person', 'in', 'einem', 'langen', 'roten', 'Mantel', 'geht', 'vor', 'einem', 'Gebäude', '.']], [['Ball', 'spieler', 'in', 'blau', '-', 'weißer', 'Spielkleidung', 'befinden', 'sich', 'auf', 'dem', 'Spielfeld', 'und', 'spielen', 'Baseball', '.']], [['Eine', 'Braut', 'und', 'ein', 'Bräutigam', 'machen', 'Fotos', ',', 'während', 'in', 'der', 'Nähe', 'zwei', 'Männer', 'stehen', '.']], [['Eine', 'Gruppe', 'bunt', 'gekleideter', 'und', 'geschmink', 'ter', 'Frauen', 'tanzt', 'im', 'bal', 'ines', 'ischen', 'Stil', '.']], [['Mehrere', 'Menschen', 'gehen', 'in', 'einem', 'fremden', 'Land', 'an', 'einem', 'weißen', 'Zaun', 'entlang', '.']], [['Ein', 'alter', 'Mann', 'in', 'einer', 'schwarzen', 'Jacke', 'blickt', 'auf', 'den', 'Tisch']], [['Ein', 'Junge', 'in', 'Blau', 'spielt', 'Fußball', 'und', 'ist', 'im', 'Begriff', ',', 'den', 'Ball', 'zu', 'schießen', '.']], [['Ein', 'kleines', 'Mädchen', 'in', 'einem', 'Kleid', 'und', 'Sandalen', 'rennt', 'durch', 'das', 'Gras', '.']], [['Ein', 'Mann', 'starrt', 'ein', 'vorbeigehen', 'des', 'Paar', 'an', ',', 'während', 'er', 'den', 'Häuser', 'block', 'entlanggeht', '.']], [['Ein', 'langhaariger', 'Mann', 'schwenkt', 'sein', 'nasses', 'Haar', 'im', 'Meer', '.']], [['Ein', 'Junge', 'und', 'ein', 'Mann', ',', 'die', 'als', 'Rodeo', '-', 'Clowns', 'verkleidet', 'sind', ',', 'stehen', 'im', 'Sand']], [['Mann', 'mit', 'Mar', 'di', '-', 'Gras', '-', 'Perlen', 'um', 'den', 'Hals', 'trägt', 'Stange', 'mit', 'Banner']], [['Kleiner', 'Hund', 'in', 'einem', 'Kostüm', 'steht', 'auf', 'den', 'Hinterbeinen', ',', 'um', 'an', 'herunter', 'hängen', 'de', 'Blumen', 'her', 'anzu']], [['Ein', 'Mann', 'steht', 'auf', 'einem', 'Gerüst', 'und', 'streicht', 'eine', 'Wand', 'kor', 'allen', 'farb', 'ig', '.']], [['Viele', 'Menschen', 'stehen', 'an', 'einem', 'Brunnen', 'unter', 'einem', 'blau', '-', 'weißen', 'Schirm', '.']], [['Eine', 'Frau', 'näht', ',', 'um', 'in', 'ihrem', 'Land', 'ihren', 'Lebens', 'unter', 'halt', 'zu', 'verdienen', '.']], [['Ein', 'Mann', 'blickt', 'auf', 'einen', 'seiner', 'vier', 'Fl', 'ach', 'bildschirm', '-', 'Computer', '.']], [['Drei', 'Menschen', 'knien', 'oder', 'stehen', 'in', 'der', 'Nähe', 'des', 'Wassers', 'am', 'Strand', '.']], [['Zwei', 'Frauen', 'in', 'pinkfarbenen', 'T', '-', 'Shirts', 'und', 'Bluejeans', 'unterhalten', 'sich', 'vor', 'einem', 'Bekleidungsgeschäft', '.']], [['Gruppe', 'von', 'Menschen', 'tanzt', 'im', 'Kostüm', 'in', 'einem', 'Club', 'oder', 'bei', 'einer', 'Party', '.']], [['Eine', 'Person', 'in', 'einem', 'gelben', 'Zeichen', 'trick', 'kostüm', 'in', 'einem', 'öffentlichen', 'Bereich', '.']], [['Eine', 'Menschenmenge', 'bei', 'einem', 'Stadt', 'fest', 'mit', 'Rauch', 'und', 'Feuerwerk']], [['Das', 'ist', 'das', 'Bild', 'eines', 'Te', 'en', 'ag', 'ers', ',', 'der', 'seinem', 'Bruder', 'die', 'Haare', 'schneidet', '.']], [['Zwei', 'Männer', 'hinter', 'einer', 'kreisförmigen', 'Bar', 'in', 'einem', 'Raum', 'voll', 'mit', 'Menschen', '.']], [['Eine', 'Eis', 'kunst', 'läufer', 'in', 'in', 'einer', 'roten', 'Jacke', 'übt', 'ihre', 'Schr', 'itte', '.']], [['Ein', 'Mann', 'sitzt', 'auf', 'den', 'Stufen', 'vor', 'einer', 'Hau', 'stür', '.']], [['Ein', 'Mann', 'in', 'einem', 'Mantel', 'telefoniert', 'auf', 'der', 'Straße', '.']], [['Drei', 'Männer', 'unterhalten', 'sich', 'vor', 'einer', 'alten', 'Treppe', 'auf', 'der', 'Straße', '.']], [['Ein', 'Hund', 'springt', 'in', 'die', 'Luft', ',', 'um', 'eine', 'orange', 'Frisbeescheibe', 'zu', 'fangen', '.']], [['Ein', 'Baseballspieler', 'wirbelt', 'Staub', 'auf', ',', 'während', 'er', 'vor', 'einem', 'Fänger', 'über', 'den', 'Boden', 'gleitet', '.']], [['Eine', 'Frau', 'in', 'einem', 'grünen', 'Shirt', 'geht', 'eine', 'belebte', 'Straße', 'entlang', '.']], [['Ein', 'Mann', 'mit', 'einem', 'Mikrofon', 'spricht', 'draußen', 'zu', 'einer', 'Gruppe', 'von', 'Menschen', '.']], [['Ein', 'Jugend', '-', 'Footballspiel', ',', 'bei', 'dem', 'drei', 'Jugendliche', 'um', 'den', 'Football', 'kämpfen', '.']], [['Zwei', 'junge', 'Männer', 'in', 'Bluejeans', 'und', 'Turnschuhen', 'überqueren', 'eine', 'städtische', 'Straße', '.']], [['Das', 'Mädchen', 'und', 'der', 'Junge', 'küssen', 'sich', ',', 'während', 'sie', 'auf', 'einer', 'Holzbank', 'sitzen', '.']], [['Ein', 'indischer', 'Mann', 'geht', 'auf', 'dem', 'Weg', 'zum', 'Gebet', 'an', 'einem', 'Tempel', 'vorbei', '.']], [['Ein', 'gut', 'geb', 'au', 'ter', 'Schwarz', 'er', 'steht', 'in', 'der', 'U', '-', 'Bahn', 'und', 'hört', 'dabei', 'etwas', 'über']], [['Zwei', 'Männer', 'sitzen', 'im', 'Freien', 'und', 'unterhalten', 'sich', 'neben', 'einem', 'Schild', 'für', 'kosten', 'lose', 'Ber', 'at', 'ung', '.']], [['Da', 'sind', 'viele', 'Menschen', 'in', 'einem', 'Gebäude', 'und', 'ein', 'paar', 'Menschen', 'kochen', 'etwas', 'zu', 'essen', '.']], [['Menschen', 'probieren', 'das', 'Essen', 'einer', 'lokalen', 'Bäckerei', 'bei', 'einem', 'lokalen', 'P', 'ot', 'l', 'uck', '.']], [['Ein', 'Mann', 'in', 'einem', 'D', 'en', 'ver', 'Bron', 'c', 'os', '-', 'Trikot', 'macht', 'ein', 'Parkplatz', 'p', 'ick', 'n']], [['Ein', 'Mann', 'in', 'einem', 'weißen', 'T', '-', 'Shirt', 'spielt', 'Geige', 'auf', 'der', 'Straße', '.']], [['Ein', 'Mann', 'lüm', 'melt', 'auf', 'einem', 'Gehweg', 'in', 'einer', 'Stadt', 'auf', 'einem', 'Stuhl', 'und', 'sieht', 'den', 'Frauen', 'nach']], [['Eine', 'Frau', 'steht', 'neben', 'zwei', 'Menschen', 'und', 'zeigt', 'in', 'Richtung', 'Himmel', '.']], [['Ein', 'Mann', 'mit', 'einem', 'Namensschild', 'sitzt', 'in', 'einem', 'Stuhl', '.']], [['Ein', 'junger', 'Mann', 'stellt', 'Billard', 'k', 'u', 'geln', 'auf', 'einem', 'Bill', 'ar', 'dt', 'isch', 'mit', 'lilafarben', 'em', 'Filz']], [['Eine', 'Person', 'liegt', 'auf', 'einer', 'Bank', 'vor', 'einem', 'Wasser', 'spiel', '.']], [['Einige', 'Männer', 'auf', 'einem', 'Boot', 'oder', 'Schiff', 'scheinen', 'etwas', 'zu', 'besprechen', '.']], [['Ein', 'Mann', 'mit', 'Flieger', 'mütze', 'und', 'Brille', 'sitzt', 'auf', 'der', 'Straße', '.']], [['Menschen', 'überqueren', 'eine', 'baum', 'gesäumte', 'Straße', 'vor', 'einem', 'Gebäude', '.']], [['Ein', 'Mann', 'in', 'einem', 'grauen', 'Hemd', 'legt', 'seinen', 'Kopf', 'auf', 'einen', 'Tisch', '.']], [['Ein', 'Mann', 'und', 'eine', 'Frau', 'halten', 'bei', 'einer', 'Demonstration', 'Schilder', 'hoch', '.']], [['Ein', 'Mann', 'mit', 'einem', 'leuchtend', 'bunten', 'Helm', 'sitzt', 'auf', 'einem', 'Motorrad', '.']], [['Sie', 'ht', 'aus', 'wie', 'ein', 'Bauernmarkt', ',', 'ein', 'paar', 'Tische', 'mit', 'verschiedenen', 'Waren', 'aus', 'lagen', '.']], [['Ein', 'Mann', 'wartet', 'am', 'Bahnsteig', 'auf', 'den', 'Zug', '.']], [['Zwei', 'Kinder', 'liegen', 'bäu', 'ch', 'lings', 'auf', 'dem', 'Boden', 'unter', 'einer', 'Rohr', 'leitung', '.']], [['Ein', 'Schlagzeuger', 'und', 'ein', 'Gitarrist', 'treten', 'in', 'einem', 'dunklen', 'Bereich', 'auf', '.']], [['Drei', 'Mädchen', 'reiten', 'auf', 'Pferden', ',', 'wobei', 'sich', 'das', 'j', 'ün', 'g', 'ste', 'Mädchen', 'im', 'Fo', 'kus', 'befindet']], [['Eine', 'kor', 'pul', 'en', 'te', 'Frau', 'trocknet', 'ihr', 'Haar', 'mit', 'einem', 'Föhn', 'und', 'lächelt', 'dabei', 'glücklich']], [['Ein', 'Mann', 'schiebt', 'Blumen', ',', 'während', 'eine', 'Frau', 'eine', 'Geste', 'in', 'seine', 'Richtung', 'macht', '.']], [['Ein', 'Mann', 'steht', 'in', 'einem', 'mobilen', 'Essensstand', 'und', 'blickt', 'über', 'die', 'halb', 'hohe', 'Tür', '.']], [['Zwei', 'Mädchen', 'sitzen', 'an', 'einem', 'Tisch', 'und', 'arbeiten', 'an', 'kunst', 'hand', 'wer', 'klich', 'en', 'Pro', 'je', 'kten', '.']], [['Die', 'Nahaufnahme', 'des', 'Gesichts', 'eines', 'Kindes', ',', 'das', 'einen', 'blauen', ',', 'herz', 'förmigen', 'L', 'ut', 'scher', 'isst', '.']], [['Ein', 'Mann', 'und', 'eine', 'Frau', 'tau', 'schen', 'einen', 'Fahrrad', 'schlauch', 'aus', '.']], [['Da', 'wird', 'abends', 'ein', 'Tennis', 'mat', 'ch', 'in', 'diesem', 'Stadion', 'ausge', 'tragen', '.']], [['Zwei', 'Männer', 'auf', 'schnellen', 'Motorrädern', 'sau', 'sen', 'auf', 'einer', 'Rennstrecke', 'um', 'eine', 'Kurve', '.']], [['Ein', 'Mann', 'auf', 'einer', 'Bühne', 'spielt', 'Gitarre', 'mit', 'Leu', 'chten', 'im', 'Hintergrund', '.']], [['Ein', 'Team', 'von', 'Fußballspiel', 'ern', 'steht', 'zusammenge', 'drängt', 'und', 'hat', 'eine', 'ern', 'st', 'haf', 'te', 'Disk', 'uss', 'ion']], [['Ein', 'Kiefer', 'ort', 'ho', 'p', 'ä', 'de', 'arbeitet', 'an', 'einem', 'Patienten', ',', 'während', 'ein', 'Mann', 'die', 'Lampe', 'hält']], [['Ein', 'Kick', 'box', 'er', 'landet', 'einen', 'Knie', 'tre', 'ffer', 'im', 'Gesicht', 'seines', 'Ge', 'gn', 'ers', '.']], [['Ein', 'Junge', 'sitzt', 'auf', 'einem', 'Felsen', 'und', 'blickt', 'in', 'das', 'Tal', 'unter', 'ihm', '.']], [['Eine', 'brünette', 'Frau', 'steht', 'auf', 'dem', 'Gehweg', 'und', 'blickt', 'die', 'Straße', 'hinunter', '.']], [['Zwei', 'Frauen', 'in', 'Rot', 'und', 'ein', 'Mann', ',', 'der', 'aus', 'einer', 'transport', 'a', 'bl', 'en', 'Toil', 'ette', 'kommt']], [['Eine', 'lächelnde', 'Frau', 'mit', 'einem', 'pfirsich', 'farbenen', 'Trä', 'gers', 'hirt', 'hält', 'ein', 'Mountainbike']], [['Eine', 'Frau', 'sitzt', 'bei', 'ihrem', 'Tro', 'cken', 'blumen', 'sort', 'iment', 'auf', 'einem', 'Freiluftmarkt', '.']], [['Drei', 'Menschen', 'auf', 'zwei', 'Geländem', 'otor', 'rädern', 'und', 'einem', 'Quad', 'fahren', 'durch', 'braunes', 'Gras', '.']], [['Ein', 'Hund', 'geht', 'mit', 'einem', 'Tuch', 'im', 'Maul', 'durch', 'einen', 'kleinen', 'Bach', '.']], [['Ein', 'Mann', 'mit', 'Anzug', 'und', 'Brille', 'hält', 'einen', 'Gegenstand', 'in', 'den', 'Händen', '.']], [['Ein', 'Mann', 'mit', 'gold', 'farbener', 'Kleidung', 'steht', 'neben', 'seinem', 'goldfarbenen', 'Fahrrad', '.']], [['Mann', 'steht', 'auf', 'einem', 'Pier', 'neben', 'einem', 'Boot', 'an', 'einem', 'ruhigen', 'See', '.']], [['Ein', 'älterer', 'Japaner', 'versucht', ',', 'eine', 'kleine', 'rot', '-', 'graue', 'Maschine', 'zu', 'reparieren', '.']], [['Ein', 'junger', 'Mann', 'trägt', 'etwas', 'in', 'einem', 'großen', 'schwarzen', 'Plastik', 'm', 'üll', 'sack', '.']], [['Die', 'Frau', 'mit', 'einem', 'schwarzen', 'Hut', 'macht', 'ein', 'Foto', 'bei', 'Schnee', 'fall', '.']], [['Ein', 'Mann', 'mit', 'einer', 'roten', 'Baseballkappe', 'lehnt', 'an', 'einem', 'Laternen', 'pfahl', '.']], [['Ein', 'kleines', 'rothaariges', 'Mädchen', 'in', 'einem', 'Spiderman', 'anzug', 'reitet', 'auf', 'einem', 'Spielzeugpferd', '.']], [['Ein', 'Mann', 'und', 'eine', 'Frau', 'sitzen', 'einander', 'gegenüber', 'an', 'einem', 'Restaurant', 'tisch', '.']], [['Ein', 'Hotel', 'dien', 'er', 'in', 'einem', 'Mantel', 'schiebt', 'eine', 'Ladung', 'Gepäck', '.']], [['Eine', 'Frau', 'mit', 'einer', 'Domino', '-', 'Maske', 'und', 'stren', 'g', 'fr', 'is', 'iertem', 'Haar', 'auf', 'einer', 'Party', '.']], [['Ein', 'Heißluftballon', 'landet', 'mit', 'dem', 'Schatten', 'eines', 'Mannes', 'im', 'Hintergrund', '.']], [['Mehrere', 'Menschen', 'dr', 'ehen', 'einen', 'Lo', 'op', 'ing', 'in', 'einem', 'auf', 'dem', 'Kopf', 'stehenden', 'Achterbahn', 'wagen', '.']], [['Eine', 'Gruppe', 'von', 'Menschen', 'steht', 'in', 'einer', 'lock', 'eren', 'Reihe', 'auf', 'einem', 'Stein', 'boden', '.']], [['Eine', 'Gruppe', 'von', 'Menschen', 'wartet', 'hinter', 'einer', 'Absperrung', 'und', 'blickt', 'nach', 'rechts', '.']], [['Ein', 'Kind', 'in', 'einem', 'roten', 'Sweatshirt', 'hängt', 'kopfüber', 'an', 'einem', 'Baum', '.']], [['Ein', 'Mann', 'zieht', 'seinen', 'Pullover', 'an', ',', 'während', 'zu', 'seinen', 'Füßen', 'ein', 'Kajak', 'liegt', '.']], [['Der', 'Mann', 'telefoniert', 'vor', 'einem', 'Sport', 'geschäft', 'mit', 'seinem', 'Handy', '.']], [['Vier', 'wie', 'Gr', 'uft', 'is', 'aussehende', 'Menschen', 'gehen', 'eine', 'Straße', 'mit', 'Bäumen', 'im', 'Hintergrund', 'entlang']], [['Drei', 'Menschen', 'sitzen', 'im', 'Freien', 'an', 'einem', 'Tisch', ',', 'an', 'dem', 'Kunstwerke', 'lehnen', '.']], [['D', 'em', 'jungen', 'Mädchen', 'werden', 'von', 'dem', 'kleinen', 'Jungen', 'hinter', 'ihr', 'Hasen', 'ohren', 'gemacht', '.']]]\n",
            "[['Ein', 'junger', '.'], ['Ein', 'älterer', 'Mann', '.'], ['Ein', 'auf', '.'], ['Ein', 'Flugzeug', '.'], ['Ein', 'Kind', 'auf', 'einem', 'Trampolin', '.'], ['Ein', 'brauner', 'Hund', '.'], ['Ein', 'kleines', 'Kind', '.'], ['Eine', 'junge', 'Asiatin', 'springt', 'in', 'die', 'Luft', '.'], ['Ein', 'gelber', 'Hund', 'am', 'Strand', '.'], ['Ein', 'Mann', 'und', 'eine', 'Frau', 'unterhalten', '.'], ['Eine', 'Frau', 'in', 'Arm', '.'], ['Ein', 'Mann', 'in', 'einem', 'gelben', 'Hemd', '.'], ['Ein', 'Spieler', '.'], ['Ein', 'Junge', '.'], ['Ein', 'Hund', '.'], ['Ein', 'Junge', 'lächelt', '.'], ['Zwei', '.'], ['Ein', 'Mann', 'steht', 'an', 'einer', 'Bar', '.'], ['Ein', 'Mann', 'im', 'Gesicht', '.'], ['Ein', 'dunkelhäutiger', 'Mann', '.'], ['Eine', 'große', 'Menschenmenge', '.'], ['Ein', 'großes', 'Boot', '.'], ['Ein', 'kleiner', 'brauner', 'Hund', '.'], ['Zwei', 'Frauen', 'gehen', 'über', 'eine', 'Blätter', 'entlang', '.'], ['Ein', 'Kind', 'auf', '.'], ['Ein', 'Gehweg', '.'], ['Mehrere', '.'], ['Eine', 'große', 'Gruppe', '.'], ['Ein', 'lächelndes', 'Be', 'ag', 'ung', '.'], ['Ein', 'Snowboarder', '.'], ['Ein', 'Gebäude', '.'], ['Baseball', '.'], ['Ein', '.'], ['Eine', 'Gruppe', 'von', 'Frauen', '.'], ['Mehrere', 'Personen', '.'], ['Ein', 'alter', 'Mann', 'an', '.'], ['Ein', 'Junge', '.'], ['Ein', 'junges', 'Mädchen', '.'], ['Ein', 'Mann', 'schaut', 'zu', '.'], ['Ein', 'langhaariger', '.'], ['Ein', 'Junge', '.'], ['Ein', 'Mann', 'mit', 'einem', 'Banner', '.'], ['Ein', 'kleiner', 'Junge', ',', 'das', 'Blumen', 'trägt', ',', 'um', 'die', 'zu', 'berühren', '.'], ['Ein', 'Mann', 'auf', 'einem', 'Gerüst', '.'], ['Viele', 'Menschen', '.'], ['Eine', 'Frau', 'in', 'ihrem', 'Land', '.'], ['Ein', 'Mann', 'schaut', 'zu', '.'], ['Drei', 'Personen', '.'], ['Zwei', 'Frauen', '.'], ['Gruppe', 'von', 'Menschen', 'tanzt', '.'], ['Ein', 'in', 'einem', 'öffentlichen', 'Bereich', '.'], ['Eine', 'Menschenmenge', '.'], ['Ein', 'Bild', '.'], ['Zwei', 'Männer', '.'], ['Eine', '.'], ['Ein', 'Mann', 'sitzt', 'auf', 'einer', 'Tür', '.'], ['Ein', 'Mann', 'auf', 'der', 'Straße', '.'], ['Drei', 'Männer', '.'], ['Ein', 'Hund', 'springt', '.'], ['Ein', 'Baseballspieler', 'hoch', '.'], ['Eine', 'belebte', 'Straße', 'entlang', '.'], ['Ein', 'Mann', 'hält', 'im', 'Freien', '.'], ['Ein', 'Footballspieler', '.'], ['Zwei', 'junge', 'Männer', 'in', 'blauen', 'Jeans', '.'], ['Ein', 'Mädchen', '.'], ['Ein', 'indischer', 'Mann', 'an', '.'], ['Ein', 'gut', 'gekleideter', '.'], ['Zwei', 'Männer', '.'], ['Viele', '.'], ['Mehrere', 'Personen', '.'], ['Ein', 'Mann', 'mit', 'Freunden', '.'], ['Ein', 'Mann', 'in', 'einem', 'weißen', 'Hemd', 'spielt', 'auf', 'der', 'Straße', '.'], ['Ein', 'Mann', 'schaut', 'zu', '.'], ['Eine', 'Frau', 'zeigt', '.'], ['Ein', 'Mann', 'mit', 'einem', 'Namensschild', '.'], ['Ein', 'junger', 'Mann', 'stellt', '.'], ['Ein', '.'], ['Ein', 'paar', 'Männer', '.'], ['Ein', 'Mann', 'mit', 'einer', 'Brille', '.'], ['Mehrere', 'Personen', '.'], ['Ein', 'Mann', 'in', 'einem', 'grauen', 'Hemd', '.'], ['Ein', 'Mann', 'und', 'eine', 'Frau', 'halten', 'hoch', '.'], ['Ein', 'Mann', 'auf', 'einem', 'Motorrad', '.'], ['Sie', 'sind', ',', 'um', 'sie', 'zu', 'sehen', 'sind', '.'], ['Ein', 'Mann', 'wartet', 'auf', 'den', 'Zug', '.'], ['Zwei', 'Kinder', 'liegen', '.'], ['Ein', 'Schlagzeuger', '.'], ['Drei', 'Mädchen', '.'], ['Eine', 'schöne', 'Frau', '.'], ['Ein', 'Mann', 'zieht', '.'], ['Ein', 'Mann', 'steht', 'in', 'einem', 'Essensstand', '.'], ['Zwei', '.'], ['Eine', 'Nahaufnahme', '.'], ['Ein', 'Mann', 'und', '.'], ['Ein', 'Tennis', '.'], ['Zwei', 'Männer', '.'], ['Ein', 'Mann', 'auf', 'der', 'Bühne', '.'], ['Ein', 'Fußballteam', '.'], ['Ein', 'Mann', 'hält', 'den', 'Licht', '.'], ['Ein', 'Boxer', '.'], ['Ein', 'Junge', '.'], ['Eine', 'Straße', 'hinunter', '.'], ['Zwei', 'b', 'aten', '.'], ['Eine', 'lächelnde', 'Frau', '.'], ['Eine', 'Frau', 'sitzt', 'auf', 'einem', 'Markt', '.'], ['Drei', 'braune', 'Gras', '.'], ['Ein', 'Hund', '.'], ['Ein', 'Mann', 'in', 'den', 'Händen', '.'], ['Ein', 'Mann', 'in', 'Gold', '.'], ['Ein', 'See', '.'], ['Ein', 'älterer', 'Mann', 'zu', 'reparieren', '.'], ['Ein', 'junger', 'Mann', '.'], ['Eine', 'Dame', 'fällt', '.'], ['Ein', 'Mann', 'mit', 'einer', 'roten', 'Baseballmütze', '.'], ['Ein', 'kleines', 'Pferd', '.'], ['Ein', 'Mann', 'und', 'eine', 'Frau', 'sitzen', 'an', '.'], ['Ein', 'ge', 'führt', 'eine', 'Ladung', 'vor', '.'], ['Eine', 'Frau', 'in', 'einer', 'Party', '.'], ['Ein', 'Mann', ',', 'im', 'Hintergrund', 'ist', 'ein', 'Heißluftballon', 'zu', 'werfen', '.'], ['Mehrere', 'Personen', '.'], ['Eine', 'Gruppe', 'von', 'Menschen', '.'], ['Eine', 'Gruppe', 'von', 'Menschen', 'wartet', '.'], ['Ein', 'Kind', 'in', 'einem', 'roten', 'Sweatshirt', '.'], ['Ein', 'Mann', '.'], ['Ein', 'Mann', 'telefoniert', '.'], ['Vier', 'Personen', '.'], ['Drei', 'Männer', '.'], ['Ein', 'junges', 'Mädchen', '.']]\n",
            "0.04598748771498824\n",
            "[[['Ein', 'Fußballspieler', 'in', 'einem', 'grünen', 'Trikot', 'läuft', 'vom', 'Spielfeld', '.']], [['Ein', 'Mann', 'mit', 'Rast', 'al', 'ocken', 'ver', 'st', 'op', 'ft', 'sein', 'Ohr', ',', 'um', 'ein', 'Telefon', 'gespr', 'äch', 'hören']], [['Eine', 'Frau', 'und', 'ein', 'kleines', 'Kind', 'haben', 'Spaß', 'bei', 'einem', 'Brettspiel', '.']], [['Kinder', 'starren', 'aus', 'dem', 'Fenster', 'eines', 'blauen', 'Gebäudes', 'mit', 'roten', 'Fenster', 'lä', 'den', '.']], [['Ein', 'schwarz', 'gekleideter', 'Mann', 'mit', 'grau', 'mel', 'iertem', 'Haar', ',', 'Bart', 'und', 'Brille', 'sitzt', 'im', 'Gras', '.']], [['Eine', 'Frau', 'in', 'einem', 'schwarzen', 'T', '-', 'Shirt', 'scheint', 'eine', 'Rolltreppe', 'hochzu', 'gehen', '.']], [['Ein', 'Mann', 'in', 'einem', 'schwarzen', 'T', '-', 'Shirt', 'spielt', 'einen', 'sie', 'bens', 'a', 'it', 'igen', 'Bass', 'auf', 'einer', 'Bühne']], [['Ein', 'großer', 'brauner', 'und', 'ein', 'weiß', 'gefleckter', 'Hund', 'liegen', 'auf', 'einer', 'Jacke', 'auf', 'der', 'Straße', '.']], [['Ein', 'junger', 'Mann', 'in', 'einem', 'grünen', 'Sweatshirt', 'liest', 'eine', 'Zeitung', 'am', 'Strand', '.']], [['Ein', 'Mann', 'klettert', 'mit', 'angel', 'eg', 'tem', 'Au', 'ff', 'ang', 'gurt', 'eine', 'steile', 'Felswand', 'hinauf']], [['Zwei', 'Jungen', 'innerhalb', 'eines', 'Z', 'au', 'nes', 'springen', 'in', 'die', 'Luft', 'und', 'halten', 'dabei', 'einen', 'Basketball', '.']], [['Asiatin', 'in', 'Post', 'boten', 'uniform', 'schiebt', 'einen', 'großen', 'Paket', 'stapel', '.']], [['Der', 'Mann', 'im', 'blauen', 'Shirt', 'ist', 'mit', 'dem', 'Mann', 'in', 'Rot', 'unterwegs', '.']], [['Zwei', 'Kinder', 'stecken', 'ihre', 'Gesichter', 'in', 'das', 'Bild', 'eines', 'Ritter', 's', 'und', 'einer', 'k', 'ön', 'ig', 'lichen', 'Dame', '.']], [['Ein', 'weißer', 'Hund', 'mit', 'braunen', 'Flecken', 'springt', 'vom', 'Ufer', 'aus', 'in', 'das', 'Wasser', '.']], [['Ein', 'Fotograf', 'nimmt', 'ein', 'Bild', 'von', 'einem', 'Hin', 'wei', 's', 'auf', 'ein', 'paar', 'Türen', 'auf', '.']], [['Eine', 'Gruppe', 'junger', 'Menschen', 'posiert', 'in', 'der', 'Luft', 'an', 'einem', 'Sandstrand', '.']], [['Ein', 'Mann', 'in', 'einem', 'grauen', 'T', '-', 'Shirt', 'vollführt', 'ein', 'Kunststück', 'mit', 'einem', 'Skateboard', 'auf', 'einer', 'Treppe', '.']], [['Drei', 'Männer', 'gehen', 'zu', 'Fuß', 'bei', 'einem', 'Zelt', 'mit', 'einem', 'Werbe', 'schild', 'daran', '.']], [['Das', 'Auto', 'hinter', 'lässt', 'beim', 'Um', 'runden', 'der', 'Aschen', 'bahn', 'eine', 'Staubwolke', '.']], [['Ein', 'Fahrradfahrer', 'fährt', 'mit', 'seinem', 'Fahrrad', 'an', 'schneebedeckten', 'Felsen', 'entlang', 'auf', 'der', 'Straße', '.']], [['Vier', 'Kinder', 'spielen', 'auf', 'der', 'Veranda', 'vor', 'ihrem', 'Haus', ',', 'während', 'ihr', 'Vater', 'zusieht', '.']], [['Zwei', 'Mädchen', 'essen', 'Kuchen', 'und', 'eines', 'hat', 'blaue', 'Glas', 'ur', 'auf', 'seinem', 'Gesicht', '.']], [['Ein', 'Mann', 'mit', 'schwarzer', 'Jacke', 'und', 'schwarzer', 'Mütze', 'spielt', 'auf', 'einer', 'Trompete', '.']], [['Menschen', 'gehen', 'vor', 'einer', 'Imbiss', 'bar', 'auf', 'einem', 'Gehweg', 'in', 'einer', 'Großstadt', '.']], [['Zwei', 'Menschen', 'mit', 'weißen', 'Oberteilen', 'gehen', 'den', 'Gehweg', 'entlang', 'und', 'telefonieren', 'dabei', '.']], [['Das', 'kleine', 'Mädchen', 'mit', 'dem', 'grünen', 'Halsband', 'rennt', 'weg', 'vom', 'Netz', '.']], [['Ein', 'Mann', 'fotografiert', 'einen', 'See', 'mit', 'Bergen', 'im', 'Hintergrund', '.']], [['Zwei', 'Männer', 'mittleren', 'Alters', 'unterhalten', 'sich', 'miteinander', 'in', 'einem', 'Raum', 'mit', 'Musik', 'ausrüstung', '.']], [['Schwimmer', 'in', 'einem', 'See', 'werden', 'von', 'einem', 'Jungen', 'beobachtet', ',', 'der', 'auf', 'einer', 'Mauer', 'sitzt', '.']], [['Ein', 'Bauarbeiter', 'in', 'einem', 'schwarzen', 'T', '-', 'Shirt', 'und', 'Jeans', 'stellt', 'seine', 'Leiter', 'auf', '.']], [['Ein', 'junges', 'Mädchen', 'spielt', 'ein', 'Musikinstrument', 'und', 'singt', 'in', 'ein', 'Mikrofon', '.']], [['Ein', 'Mann', 'und', 'eine', 'Frau', 'sitzen', 'auf', 'einer', 'Bank', 'und', 'sehen', 'zu', ',', 'wie', 'ein', 'Boot', 'vorüber', 'fährt', '.']], [['Ein', 'junger', 'Mann', 'holt', 'sich', 'an', 'einem', 'Don', 'ut', '-', 'Stand', 'etwas', 'zu', 'essen', '.']], [['Eine', 'ältere', 'Frau', 'verwendet', 'einen', 'rosafarbenen', 'Regenschirm', ',', 'um', 'sich', 'vor', 'der', 'Sonne', 'zu', 'schützen', '.']], [['Ein', 'Mädchen', 'mit', 'geschminktem', 'Gesicht', 'und', 'einem', 'orangen', 'Pullover', 'steht', 'bei', 'ihrer', 'Tr', 'uppe', '.']], [['Eine', 'Person', 'steht', 'neben', 'einem', 'Holzzaun', 'in', 'der', 'Nähe', 'von', 'blühenden', 'Bäumen', '.']], [['Ein', 'Mann', 'mit', 'einer', 'Schürze', 'steht', 'vor', 'Ess', 'waren', ',', 'die', 'sich', 'unter', 'einer', 'Speisekarte', 'befinden', '.']], [['Der', 'Mann', 'mit', 'dem', 'weißen', 'Gürtel', 'und', 'der', 'Sonnenbrille', 'hält', 'die', 'Hand', 'des', 'Mädchens', '.']], [['Eine', 'Frau', 'mit', 'schwarzem', 'Kleid', 'und', 'flauschigen', 'Ohren', 'schützern', 'geht', 'die', 'Straße', 'entlang', '.']], [['Ein', 'Mädchen', 'mit', 'blauen', 'Rast', 'al', 'ocken', 'sitzt', 'am', 'Straßenrand', '.']], [['Ein', 'Mann', 'in', 'einem', 'langen', 'blauen', 'Cap', 'e', 'geht', 'in', 'ein', 'altes', 'Steingebäude', '.']], [['Eine', 'Dame', 'in', 'einer', 'leuchtend', 'pinkfarbenen', 'Bluse', 'zieht', 'einen', 'Wagen', 'mit', 'warm', 'em', 'Essen', '.']], [['Eine', 'Person', 'mit', 'langem', 'blauen', 'Haar', 'steht', 'hinter', 'einer', 'großen', 'Menschenmenge', '.']], [['Ein', 'Mann', 'mit', 'Kopfhörern', 'geht', 'an', 'einer', 'Mauer', 'mit', 'rotem', 'und', 'lilafarben', 'em', 'Graffiti', 'vorbei', '.']], [['Viele', 'weiß', 'gekleidete', 'Menschen', 'in', 'einem', 'Stadion', 'unterhalten', 'sich', 'miteinander', '.']], [['Eine', 'Gruppe', 'von', 'Mädchen', 'spielt', 'in', 'einem', 'Springbrunnen', 'in', 'der', 'Sonne', '.']], [['Zwei', 'Frauen', 'sitzen', 'nachts', 'auf', 'einer', 'Bank', 'vor', 'einem', 'Geschäft']], [['Eine', 'Mutter', 'mit', 'einer', 'blauen', 'Baskenmütze', 'und', 'blauen', 'Schuhen', 'und', 'ihren', 'zwei', 'Söh', 'nen', '.']], [['Mehrere', 'Menschen', 'warten', 'an', 'der', 'Kasse', 'in', 'einem', 'Geschäft', 'mit', 'einer', 'nach', 'Lager', 'halle', 'aussehenden', 'Decke', '.']], [['Ein', 'älterer', 'Mann', 'schüttet', 'etwas', 'aus', 'einer', 'Tüte', 'in', 'das', 'Wasser', '.']], [['Ein', 'Rollschuh', 'fahren', 'der', 'Mönch', 'mit', 'einer', 'schönen', 'Sonnenbrille', 'betet', ',', 'bevor', 'er', 'ein', 'paar', 'co', 'ole', 'Kunststücke', 'macht']], [['Ein', 'Mann', 'führt', 'zwei', 'kleine', 'Pony', 's', 'in', 'einem', 'Park', 'spazieren', '.']], [['Zwei', 'Boxer', 'sind', 'bereit', 'zum', 'Kampf', ',', 'während', 'die', 'Menschenmenge', 'er', 'wart', 'ungs', 'voll', 'zusieht', '.']], [['Eine', 'Künstlerin', 'singt', 'und', 'spielt', 'Gitarre', 'vor', 'einem', 'Mikrofon', '.']], [['Ein', 'Baby', 'in', 'einer', 'Wippe', 'und', 'ein', 'stehender', 'Junge', ',', 'die', 'von', 'Spielzeug', 'umgeben', 'sind', '.']], [['Ich', 'seh', 'e', 'einen', 'bärt', 'igen', 'Mann', 'und', 'eine', 'ältere', 'Dame', ',', 'die', 'sich', 'eine', 'Schüssel', 'mit', 'Essen', 'teilen']], [['Ein', 'Sohn', 'und', 'seine', 'Eltern', 'nehmen', 'ein', 'Gruppen', 'foto', 'in', 'einer', 'Kirche', 'auf', '.']], [['Zwei', 'Männer', 'decken', 'den', 'Mann', 'mit', 'dem', 'Basketball', 'während', 'eines', 'Spiels', 'in', 'der', 'Dämmerung', 'ab', '.']], [['Ein', 'Shr', 'iner', 'fährt', 'bei', 'einer', 'Parade', 'auf', 'einem', 'großen', 'grünen', 'Traktor', 'die', 'Straße', 'entlang', '.']], [['Der', 'führen', 'de', 'Radfahrer', 'str', 'amp', 'elt', 'um', 'sein', 'Leben', ',', 'als', 'kon', 'kur', 'r', 'ierende', 'L', 'änder', 'von']], [['Mutter', 'und', 'Tochter', 'in', 'Al', 'ice', '-', 'im', '-', 'Wunder', 'land', '-', 'Kostümen', 'posieren', 'für', 'ein', 'Foto', '.']], [['Zwei', 'Männer', 'bauen', 'eine', 'blaue', 'Eis', 'f', 'ischer', 'hütte', 'auf', 'einem', 'zuge', 'froren', 'en', 'See', 'auf']], [['Ein', 'Mann', 'mit', 'beginnen', 'der', 'Glatze', ',', 'der', 'eine', 'rote', 'Rettungsweste', 'trägt', ',', 'sitzt', 'in', 'einem', 'kleinen', 'Boot', '.']], [['Eine', 'Gruppe', 'von', 'Menschen', 'steht', 'vor', 'einer', 'Bu', 'de', 'auf', 'einem', 'Parkplatz', '.']], [['Frau', 'und', 'Mann', 'gehen', 'über', 'hölzer', 'ne', 'Hängebrücke', 'mit', 'Warn', 'schild', 'daneben', '.']], [['Strand', 'bes', 'ucher', 'blicken', 'auf', 'ein', 'Herz', ',', 'das', 'von', 'einem', 'Himmel', 's', 'schrei', 'ber', 'am', 'Himmel', 'hinter', 'lassen']], [['Viele', 'Stühle', 'sind', 'leer', 'und', 'nur', 'einige', 'wen', 'ige', 'Menschen', 'genießen', 'die', 'Sonne', '.']], [['Ein', 'Hund', 'geht', 'durch', 'eine', 'seich', 'te', 'Wasser', 'ansammlung', ',', 'die', 'sich', 'an', 'einem', 'felsigen', 'Berghang', 'befindet', '.']], [['Ein', 'kleiner', 'Junge', 'in', 'einem', 'gelben', 'T', '-', 'Shirt', 'hängt', 'an', 'einem', 'Ring', 'und', 'ist', 'dabei', 'von', 'anderen', 'Kindern']], [['Ein', 'Golden', 'Labrador', 'schwimmt', 'mit', 'einem', 'roten', 'Spielzeug', 'im', 'Maul', 'durch', 'das', 'Wasser', '.']], [['Eine', 'Gruppe', 'von', 'Männern', ',', 'Frauen', 'und', 'Kindern', ',', 'die', 'alle', 'Hüte', 'tragen', ',', 'unterhält', 'sich', 'am', 'Strand', '.']], [['Ein', 'Mann', 'rasiert', 'sich', ',', 'während', 'er', 'am', 'Strand', 'vor', 'dem', 'Meer', 'sitzt', '.']], [['Eine', 'Gruppe', 'spielt', 'vor', 'einer', 'Menschenmenge', 'Musik', 'auf', 'einer', 'Bühne', '.']], [['Eine', 'ältere', 'Dame', 'in', 'einem', 'grau', '-', 'roten', 'Pullover', 'kocht', 'eine', 'Mahlzeit', '.']], [['Ein', 'Typ', 'mit', 'lockigem', 'Haar', 'fährt', 'mit', 'dem', 'Skateboard', 'eine', 'graue', 'Rampe', 'mit', 'gelben', 'Buchstaben', 'entlang', '.']], [['Eine', 'Gruppe', 'von', 'Menschen', 'in', 'einem', 'Boot', 'auf', 'einem', 'großen', 'Gewässer', '.']], [['Ein', 'Mann', 'und', 'ein', 'Junge', 'sitzen', 'an', 'einem', 'Alt', 'ar', 'und', 'halten', 'beide', 'eine', 'G', 'lo', 'cke', '.']], [['Ein', 'Mann', 'mit', 'Sonnenbrille', 'hilft', 'einem', 'Kind', 'mit', 'Sonnenbrille', 'eine', 'Rutsche', 'herunter', 'zur', 'ut', 'schen', '.']], [['Ein', 'mittel', 'großer', 'weißer', 'Hund', 'springt', 'hoch', ',', 'um', 'eine', 'kleine', 'Frisbeescheibe', 'aus', 'Stoff', 'zu', 'fangen', '.']], [['Vier', 'Hunde', 'spielen', 'im', 'Kreis', 'und', 'ein', 'schwarzer', 'Hund', 'läuft', 'weg', '.']], [['Ein', 'Teenager', 'mit', 'Notizen', 'auf', 'seinem', 'Tisch', 'liest', 'ein', 'Buch', 'im', 'Klassenzimmer', 'und', 'sieht', 'dabei', 'gel', 'ang', 'wei', 'lt']], [['Drei', 'Kinder', 'in', 'braunen', 'Shirts', 'und', 'Jeans', 'hüpfen', 'im', 'Freien', 'mit', 'Blättern', 'auf', 'dem', 'Boden', '.']], [['Ein', 'Mann', 'in', 'einer', 'leuchtend', 'bunten', 'Ski', 'jacke', 'steht', 'mit', 'anderen', 'auf', 'einer', 'Straße', 'in', 'Europa', '.']], [['Ein', 'Mädchen', 'mit', 'einem', 'weißen', 'Trikot', ',', 'schwarzen', 'Shorts', 'und', 'einem', 'Stirnband', 'spielt', 'Volleyball', '.']], [['Ein', 'Kind', 'mit', 'Mütze', 'und', 'Jacke', 'rennt', 'im', 'Freien', 'über', 'eine', 'Stein', 'oberfläche', '.']], [['Eine', 'Frau', ',', 'die', 'eine', 'Einkaufstasche', 'von', 'Tr', 'ader', 'Jo', 'e', \"'\", 's', 'trägt', ',', 'ist', 'im', 'Zug', 'eingeschlafen']], [['Ein', 'Kind', 'mit', 'einem', 'grünen', 'Shirt', 'hält', 'einen', 'roten', 'Ball', 'an', 'seinen', 'Mund', '.']], [['Ein', 'Mann', 'mit', 'einer', 'Tätowierung', 'am', 'Arm', 'kocht', 'etwas', 'in', 'einer', 'Brat', 'pfanne', '.']], [['Ein', 'Mann', 'in', 'einer', 'überfüllten', 'Bar', 'lächelt', 'mit', 'einer', 'Hand', 'an', 'seiner', 'Stirn', '.']], [['Eine', 'Frau', 'in', 'weißer', 'Tenniskleidung', 'springt', 'hoch', ',', 'um', 'den', 'Ball', 'zu', 'schlagen', '.']], [['Ein', 'hell', 'braun', '-', 'weißer', 'Hund', 'springt', 'mit', 'einem', 'gelben', 'Ball', 'im', 'Maul', 'hoch', '.']], [['Der', 'Tennisspieler', 'trägt', 'ein', 'gelb', '-', 'blaues', 'T', '-', 'Shirt', 'und', 'ein', 'blaues', 'Stirnband', '.']], [['Eine', 'Frau', 'trägt', 'Gesichts', 'schm', 'inke', 'auf', ',', 'während', 'ein', 'Junge', 'mit', 'Irokesenschnitt', 'einen', 'Spiegel', 'hält', '.']], [['M', 'ult', 'ikul', 'tur', 'elle', 'Gruppe', 'von', 'Erwachsenen', 'bei', 'einer', 'Zusammen', 'kunft', ',', 'ein', 'Mann', 'mit', 'einer', 'Tätowierung', 'wirft']], [['Ein', 'Mann', 'in', 'einem', 'blauen', 'Hemd', 'fährt', 'mit', 'brennenden', 'Stöcken', 'in', 'der', 'Hand', 'auf', 'einem', 'Einrad', '.']], [['Der', 'schwarze', 'Hund', 'springt', 'über', 'dem', 'Wasser', 'in', 'Richtung', 'einer', 'Frisbeescheibe', ',', 'die', 'in', 'der', 'Nähe', 'eines', 'Boots', 'treibt']], [['Ein', 'Mann', 'mit', 'einem', 'Eimer', 'und', 'ein', 'Mädchen', 'mit', 'einem', 'Hut', 'am', 'Strand', '.']], [['Zwei', 'Teams', ',', 'eines', 'davon', 'in', 'Pink', 'und', 'eines', 'in', 'Weiß', ',', 'spielen', 'Lacrosse', 'auf', 'einem', 'Sportplatz', '.']], [['Ein', 'schwarzer', 'Hund', 'schwimmt', 'mit', 'einem', 'Tennisball', 'im', 'Maul', 'im', 'Wasser']], [['Zwei', 'Jungen', 'bereiten', 'ein', 'kleines', 'Segelboot', 'vor', ',', 'während', 'ihnen', 'zwei', 'Mädchen', 'vom', 'Strand', 'aus', 'dabei', 'zusehen', '.']], [['Eine', 'brünette', 'Frau', 'mit', 'einer', 'eier', 'sch', 'alen', 'blauen', 'Schürze', 'mel', 'kt', 'ein', 'braunes', 'Tier', '.']], [['Ein', 'kleiner', 'Junge', 'liegt', 'auf', 'einem', 'Krankenhausbett', 'und', 'lässt', 'ein', 'Bein', 'seitlich', 'herunter', 'hängen', '.']], [['Ein', 'junger', 'Erwachsener', 'mit', 'Jeans', 'und', 'Tarn', '-', 'T', '-', 'Shirt', 'spielt', 'auf', 'einer', 'schwarzen', 'E', '-', 'Gitarre', '.']], [['Ein', 'Mädchen', 'bei', 'einem', 'Gymnastik', 'wettkampf', 'vollführt', 'eine', 'küh', 'ne', 'Übung', 'und', 'beeindr', 'uckt', 'd', 'ad', 'urch', 'das', 'Publikum']], [['Ein', 'Mann', 'in', 'einer', 'blauen', 'Jacke', 'wird', 'auf', 'seinem', 'Schlitten', 'von', 'zwei', 'Hunden', 'gezogen', '.']], [['Szene', 'eines', 'Mannes', 'beim', 'Schnee', 'schippen', ',', 'Bürger', ',', 'die', 'in', 'einer', 'kalten', ',', 'w', 'inter', 'lichen', 'Umgebung', 'herum']], [['Eine', 'Frau', 'und', 'ein', 'Junge', 'auf', 'einer', 'Bühne', 'lachen', 'mit', 'einem', 'Zelt', 'im', 'Hintergrund', '.']], [['Das', 'Bild', 'eines', 'Jungen', 'in', 'einem', 'grünen', 'T', '-', 'Shirt', ',', 'der', 'auf', 'einem', 'Fahrrad', 'sitzt', ',', 'spiegel', 't']], [['Ein', 'Militär', 'hält', 'eine', 'Kamera', 'und', 'zeigt', 'einem', 'Kind', 'den', 'Film', 'auf', 'der', 'Kamera', '.']], [['Eine', 'fit', 'te', 'junge', 'Frau', 'übt', 'Kickboxen', 'mit', 'einem', 'roten', 'Box', 'sack', 'in', 'einer', 'Turnhalle', '.']], [['Ein', 'Mann', 'trägt', 'ein', 'Kind', 'auf', 'seinen', 'Schultern', ',', 'während', 'um', 'ihn', 'herum', 'Menschen', 'gehen', '.']], [['Eine', 'Gruppe', 'von', 'Menschen', 'sitzt', 'draußen', 'an', 'einem', 'Tisch', ',', 'trinkt', 'etwas', 'und', 'unterhält', 'sich', '.']], [['Eine', 'junge', 'Frau', 'mit', 'einer', 'Tasche', 'steht', 'vor', 'einem', 'Gebäude', 'und', 'lächelt', '.']], [['Ein', 'Mann', 'und', 'eine', 'Frau', 'gehen', 'einen', 'Uferweg', 'entlang', 'auf', 'eine', 'Hängebrücke', 'zu', '.']], [['Eine', 'Frau', 'mit', 'einem', 'roten', 'Kleid', 'und', 'rotem', 'Haar', 'steht', 'vor', 'einem', 'leuchtend', 'bunten', 'Haus', '.']], [['Zwei', 'Mädchen', 'sind', 'nass', 'und', 'hinter', 'ihnen', 'ist', 'eine', 'Frau', ',', 'die', 'einen', 'geöffneten', 'Regenschirm', 'hält', '.']], [['Mehrere', 'Männer', 'stehen', 'auf', 'einem', 'Fest', 'wagen', ',', 'der', 'durch', 'eine', 'Straße', 'voll', 'mit', 'Menschen', 'fährt', '.']], [['Viele', 'Menschen', 'haben', 'sich', 'versammelt', ',', 'um', 'etwas', 'zu', 'sehen', ',', 'das', 'nicht', 'auf', 'dem', 'Foto', 'ist', '.']], [['Ein', 'Paar', 'geht', 'einen', 'Gang', 'in', 'einem', 'Laden', 'entlang', ',', 'der', 'Kunst', '-', 'und', 'Gesch', 'icht', 's', 'b', 'ücher']], [['Ein', 'älterer', 'Mann', 'in', 'marine', 'blauer', 'Kleidung', 'sitzt', 'auf', 'einer', 'Bank', 'an', 'der', 'Straße', '.']], [['Ein', 'blonder', 'Junge', 'mit', 'einem', 'blauen', 'T', '-', 'Shirt', 'sitzt', 'bei', 'einer', 'Frau', 'mit', 'Brille', '.']], [['Eine', 'Frau', 'in', 'einem', 'Restaurant', 'trinkt', 'mit', 'einem', 'Strohhalm', 'aus', 'einer', 'Kokosn', 'uss', '.']], [['Zwei', 'Menschen', 'unterhalten', 'sich', 'bei', 'einer', 'roten', 'Telefonzelle', ',', 'während', 'in', 'der', 'Nähe', 'Bauarbeiter', 'eine', 'Pause', 'machen', '.']], [['Eine', 'Frau', 'singt', 'in', 'ein', 'Mikrofon', ',', 'während', 'ein', 'Mann', 'im', 'Hintergrund', 'Schlagzeug', 'spielt', '.']], [['Ein', 'alter', 'Mann', 'wischt', 'den', 'Boden', ',', 'während', 'sich', 'eine', 'Dame', 'von', 'der', 'Kamera', 'entfernt', '.']], [['Ein', 'Mann', 'schlägt', 'gerade', 'einen', 'rot', '-', 'weiß', '-', 'blauen', 'Volleyball', '.']], [['Ein', 'Mann', 'und', 'eine', 'Frau', 'sitzen', 'vor', 'Gepäck', 'auf', 'dem', 'Boden', '.']]]\n",
            "[['Ein', 'Feld', '.'], ['Ein', 'Mann', 'mit', 'Dreadlocks', 'ab', '.'], ['Eine', 'Frau', '.'], ['Kinder', '.'], ['Ein', 'älterer', 'Mann', 'mit', 'schwarzer', 'Brille', 'sitzt', 'auf', '.'], ['Eine', 'Rolltreppe', 'hoch', '.'], ['Ein', 'Mann', 'in', 'einem', 'schwarzen', 'T', '-', 'Shirt', 'spielt', 'auf', 'einem', 'Bühne', '.'], ['Ein', 'großer', 'brauner', 'Hund', '.'], ['Ein', 'junger', 'Mann', 'in', 'einem', 'grünen', 'Sweatshirt', '.'], ['Ein', 'Mann', 'mit', 'einem', 'Sicherheits', 'korb', '.'], ['Zwei', 'Jungen', 'in', 'der', 'Luft', '.'], ['Ein', 'asiatisch', 'aussehendes', 'Haufen', '.'], ['Ein', 'Mann', 'in', 'roter', 'Kleidung', '.'], ['Zwei', 'Kinder', '.'], ['Ein', 'weißer', 'Hund', 'mit', '.'], ['Ein', 'Fotograf', '.'], ['Eine', 'Gruppe', 'junger', '.'], ['Ein', 'Mann', 'in', 'einem', 'grauen', 'Hemd', 'macht', '.'], ['Drei', 'Männer', '.'], ['Ein', 'Auto', '.'], ['Ein', 'Radfahrer', 'fährt', '.'], ['Vier', '.'], ['Zwei', 'Mädchen', 'essen', '.'], ['Ein', 'Mann', 'mit', 'einer', 'schwarzen', 'Jacke', 'spielt', 'Trompete', '.'], ['Menschen', 'zu', 'sehen', '.'], ['Zwei', 'Männer', '.'], ['Ein', 'kleines', 'Mädchen', '.'], ['Ein', 'Mann', 'macht', 'ein', 'Foto', '.'], ['Zwei', 'Männer', '.'], ['Ein', 'Schwimmer', ',', 'von', 'einem', 'Jungen', 'beobachtet', '.'], ['Ein', 'Bauarbeiter', '.'], ['Ein', 'junges', 'Mädchen', '.'], ['Ein', 'Mann', 'und', 'eine', 'Frau', ',', 'die', 'an', 'ihnen', 'vorbei', '.'], ['Ein', 'junger', 'Mann', 'wird', '.'], ['Eine', 'ältere', 'Frau', 'benutzt', '.'], ['Ein', 'Mädchen', 'mit', 'Gesicht', '.'], ['Ein', '.'], ['Ein', 'Mann', 'in', 'einer', 'Schürze', '.'], ['Ein', 'Mann', 'in', 'der', 'Hand', '.'], ['Eine', 'Straße', 'entlang', '.'], ['Ein', 'Mädchen', 'mit', 'blauen', 'Dreadlocks', '.'], ['Ein', 'Mann', 'in', 'einem', 'langen', 'Mantel', '.'], ['Eine', 'Frau', 'in', 'einem', 'leuchtend', 'bunten', 'Wagen', '.'], ['Eine', 'große', 'Menschenmenge', '.'], ['Ein', 'Mann', 'mit', 'einem', 'Kopfhörer', '.'], ['Viele', '.'], ['Eine', 'Gruppe', 'von', 'Mädchen', 'spielt', 'in', 'der', 'Sonne', '.'], ['Zwei', 'Frauen', '.'], ['Eine', 'Mutter', '.'], ['Mehrere', '.'], ['Ein', 'älterer', 'Mann', '.'], ['Ein', 'er', 'über', 'sch', 'la', 'gt', 'seine', 'Kopfhörer', '.'], ['Ein', 'Mann', 'führt', 'auf', '.'], ['Zwei', 'junge', 'Boxer', '.'], ['Ein', 'Gitarrist', '.'], ['Ein', 'kleiner', 'Junge', 'ist', 'umgeben', '.'], ['Eine', 'Schüssel', '.'], ['Ein', 'Sohn', '.'], ['Zwei', 'Männer', '.'], ['Ein', 'ge', 'ber', 'ier', 'ab', '.'], ['Ein', 'Fahrrad', '.'], ['Ein', 'Bild', '.'], ['Zwei', 'Männer', '.'], ['Ein', 'kleines', 'Boot', '.'], ['Eine', 'Gruppe', 'von', 'Menschen', '.'], ['Ein', 'Mann', 'und', 'ein', 'Schild', 'mit', 'einem', 'Namensschild', '.'], ['Mehrere', 'Kleinkinder', 'auf', '.'], ['Viele', 'Menschen', '.'], ['Ein', 'Hund', '.'], ['Ein', 'kleiner', 'Junge', 'um', 'zu', 'sehen', '.'], ['Ein', 'Maul', '.'], ['Mehrere', '.'], ['Ein', 'Mann', 'rasiert', 'sich', '.'], ['Eine', 'Gruppe', 'von', 'Menschen', 'spielt', 'Musik', '.'], ['Eine', 'ältere', 'Dame', '.'], ['Ein', 'Mann', 'mit', 'lockigen', 'Haaren', '.'], ['Eine', 'Gruppe', 'von', 'Menschen', '.'], ['Ein', 'Mann', 'und', 'sein', 'Ge', 'brau', 'er', '.'], ['Ein', 'Mann', 'mit', 'Sonnenbrille', '.'], ['Ein', 'kleiner', 'Hund', 'hoch', '.'], ['Vier', '.'], ['Ein', 'Buch', '.'], ['Drei', 'junge', '.'], ['Ein', 'Mann', 'in', 'einer', 'europä', 'ischen', 'Stadt', '.'], ['Volleyball', '.'], ['Ein', 'Kind', 'mit', 'Hut', '.'], ['Eine', 'Frau', 'auf', 'dem', 'Zug', '.'], ['Ein', 'Kind', 'an', 'den', 'Mund', '.'], ['Ein', 'Mann', 'mit', 'einer', 'Waffe', '.'], ['Ein', 'Mann', 'lächelt', '.'], ['Eine', 'Frau', 'in', 'einem', 'weißen', 'Tennis', '.'], ['Ein', 'brauner', 'Hund', 'hoch', '.'], ['Ein', 'Tennisspieler', '.'], ['Eine', 'Frau', 'hält', 'einen', 'Spiegel', '.'], ['Ein', 'Mann', 'wirft', 'etwas', '.'], ['Ein', 'Mann', 'in', 'der', 'Hand', '.'], ['Ein', 'Boot', '.'], ['Ein', 'Mann', 'mit', 'Hut', '.'], ['Zwei', '.'], ['Ein', 'schwarzer', 'Hund', 'schwimmt', '.'], ['Zwei', 'Jungen', 'bereiten', 'sich', 'am', 'Strand', '.'], ['Eine', 'braunhaarige', 'Frau', 'in', 'einem', 'braunen', 'Tier', '.'], ['Ein', 'kleiner', 'Junge', 'liegt', '.'], ['E', '-', 'Gitarre', '.'], ['Ein', 'Publikum', '.'], ['Ein', 'Mann', 'in', 'einem', 'blauen', 'Mantel', '.'], ['Eine', 'Person', 'in', 'einem', 'kalten', 'Winter', '.'], ['Eine', 'Frau', '.'], ['Ein', 'Mann', 'in', 'einem', 'Schaufenster', '.'], ['Ein', 'Kind', 'auf', 'der', 'Kamera', '.'], ['Eine', 'junge', 'Frau', 'in', 'einer', 'Turnhalle', '.'], ['Ein', 'Mann', 'hält', '.'], ['Eine', 'Gruppe', 'von', 'Menschen', '.'], ['Eine', 'junge', 'Frau', '.'], ['Ein', 'Mann', 'und', 'eine', 'Frau', 'gehen', 'zu', '.'], ['Eine', 'Frau', 'in', 'einem', 'hellen', ',', 'bunten', 'Haus', '.'], ['Zwei', '.'], ['Mehrere', 'Personen', '.'], ['Viele', 'Menschen', 'zu', 'sehen', '.'], ['Ein', 'Paar', 'geht', 'an', '.'], ['Ein', 'älterer', 'Mann', '.'], ['Ein', 'blonder', 'Junge', '.'], ['Eine', 'Frau', '.'], ['Zwei', 'Personen', 'machen', '.'], ['Eine', 'Frau', 'singt', '.'], ['Ein', 'alter', 'Mann', 'geht', 'den', 'Boden', '.'], ['Ein', 'Mann', '.'], ['Ein', 'Mann', 'und', 'eine', 'Frau', 'sitzen', 'auf', 'dem', 'Boden', '.']]\n",
            "0.04011910381374324\n",
            "[[['Zwei', 'Männer', ',', 'einer', 'in', 'Blau', 'und', 'der', 'andere', 'in', 'Rot', ',', 'treten', 'in', 'einem', 'Boxkampf', 'gegeneinander', 'an', '.']], [['Eine', 'Gruppe', 'von', 'Freunden', 'liegt', 'ausgestreckt', 'auf', 'dem', 'Boden', 'und', 'genießt', 'die', 'gemeinsam', 'e', 'Zeit', '.']], [['Ein', 'stehender', 'Mann', 'hält', 'ein', 'Mikrofon', 'vor', 'einem', 'Mann', 'mit', 'einer', 'Gitarre', '.']], [['Ein', 'Junge', 'in', 'einem', 'Kapuzenpullover', 'wirft', 'einen', 'Gegenstand', 'in', 'einen', 'schmutzigen', 'Swimmingpool', '.']], [['Menschen', 'fahren', 'mit', 'dem', 'Boot', 'auf', 'einem', 'See', ',', 'während', 'in', 'der', 'Ferne', 'die', 'Sonne', 'durch', 'die', 'Wolken', 'bricht', '.']], [['Eine', 'uner', 'rei', 'chte', 'Bo', 'y', 'Gro', 'up', ',', 'jemand', 'hätte', 'ein', 'M', 'em', 'o', 'schicken', 'sollen', '.']], [['Zwei', 'Männer', 'beobachten', 'einen', 'anderen', ',', 'während', 'dieser', 'am', 'nassen', 'Zement', 'letzte', 'Hand', 'an', 'legt', '.']], [['Ein', 'Fahrradfahrer', 'in', 'einem', 'gelben', 'Shirt', 'vollführt', 'ein', 'ung', 'lau', 'blich', 'es', 'Kunststück', 'in', 'der', 'Luft', '.']], [['Ein', 'Mann', 'und', 'mehrere', 'Frauen', 'sehen', 'Milch', 'kä', 'sten', 'voll', 'mit', 'Sch', 'all', 'platten', 'oder', 'Bildern', 'durch', ',', 'die', 'zum', 'Verkauf']], [['Ein', 'Mann', 'schlägt', 'die', 'Trommel', 'und', 'ein', 'kleiner', 'Junge', 'schlägt', 'seine', 'eigen', 'e', ',', 'kleine', 'Trommel', '.']], [['Mehrere', 'Männer', 'beten', ',', 'während', 'sie', 'am', 'Ende', 'eines', 'Tisches', 'mit', 'Essen', 'stehen', '.']], [['Drei', 'Kinder', 'stehen', 'nahe', 'beieinander', 'an', 'einem', 'hohen', 'blauen', 'Holzpfahl', '.']], [['Eine', 'Frau', 'steht', 'auf', 'einem', 'Bein', 'auf', 'einer', 'hohen', 'Klippe', 'und', 'blickt', 'über', 'einen', 'Fluss', '.']], [['Eine', 'ältere', 'weiß', 'haarige', 'Frau', 'sieht', 'in', 'ihre', 'Kasse', 'und', 'blickt', 'durch', 'ihre', 'Brillen', 'gläser', 'hindurch', '.']], [['Ein', 'kleiner', 'Junge', 'mit', 'einem', 'Gi', 'ant', 's', '-', 'Trikot', 'schwingt', 'einen', 'Baseballschläger', 'in', 'Richtung', 'eines', 'ankommenden', 'Balls', '.']], [['Ein', 'einzelner', 'Mann', 'in', 'einem', 'schwarzen', 'T', '-', 'Shirt', 'über', 'ragt', 'die', 'anderen', 'Menschen', 'in', 'einer', 'gut', 'besuchten', 'Bar', '.']], [['Ein', 'asiatisches', 'Mädchen', 'mit', 'grünem', 'Hut', 'und', 'Schürze', 'serviert', 'Getränke', 'auf', 'einem', 'Tablett', '.']], [['Eine', 'Gruppe', 'von', 'Menschen', 'sammelt', 'sich', 'um', 'einen', 'Mann', 'in', 'einem', 'Anzug', 'und', 'einen', 'kleinen', 'Jungen', '.']], [['Ein', 'Mann', 'mit', 'einem', 'blauen', 'Rucksack', 'liest', 'die', 'Zeitung', ',', 'während', 'er', 'auf', 'die', 'U', '-', 'Bahn', 'wartet', '.']], [['Junge', 'Erwachsene', 'in', 'einer', 'ger', 'aden', 'Linie', ',', 'die', 'rote', ',', 'gelbe', 'und', 'schwarze', 'T', '-', 'Shirts', 'tragen', ',', 'führen', 'einen']], [['Zwei', 'kurz', 'haarige', 'Frauen', 'stehen', 'einander', 'gegenüber', 'und', 'die', 'blonde', 'Frau', 'spricht', '.']], [['Zwei', 'Männer', 'paddeln', 'in', 'einem', 'Kajak', 'einen', 'Fluss', 'mit', 'grünen', 'Bäumen', 'auf', 'beiden', 'Seiten', 'entlang', '.']], [['Eine', 'bunt', 'gekleidete', 'Frau', 'geht', 'an', 'einem', 'weißen', 'Lastwagen', 'vorbei', ',', 'der', 'mit', 'Flaschen', 'gefüllt', 'ist', '.']], [['Zwei', 'kleine', 'schwarze', 'Jungen', 'spielen', 'mit', 'Plastik', 'flaschen', 'und', 'haben', 'dabei', 'viel', 'Spaß', '.']], [['Zwei', 'Frauen', 'stehen', 'vor', 'einer', 'Schul', 'klasse', 'und', 'sprechen', 'über', 'ein', 'Buch', '.']], [['Ein', 'kleines', 'Mädchen', 'sp', 'endet', 'an', 'einer', 'Laden', 'front', 'mit', 'weißen', 'Plastik', 'behälter', 'n', 'für', 'die', 'H', 'eil', 's', 'arme', 'e']], [['Eine', 'Frau', 'in', 'einer', 'blauen', 'Bluse', 'und', 'Jeans', 'wirft', 'etwas', 'in', 'einen', 'Müllcontainer', '.']], [['Eine', 'Menschenmenge', 'steht', 'auf', 'der', 'Straße', 'vor', 'einer', 'Reihe', 'weißer', 'Zelte', '.']], [['Ein', 'Cowboy', 'versucht', 'bei', 'einem', 'Rodeo', ',', 'ein', 'Pferd', 'zu', 'b', 'än', 'digen', ',', 'während', 'das', 'Pferd', 'nach', 'hinten', 'aus', 'schlägt']], [['Männer', 'in', 'orangen', 'Anzügen', 'beobachten', ',', 'wie', 'eine', 'Maschine', 'in', 'der', 'Nähe', 'von', 'etwas', 'gräbt', ',', 'das', 'wie', 'U', '-', 'Bahn']], [['Ein', 'schwarzer', 'Hund', 'steht', 'im', 'Gras', 'und', 'hält', 'einen', 'weißen', 'Plastik', 'gegenstand', 'in', 'seinem', 'Maul', '.']], [['Ein', 'Mann', 'in', 'einem', 'weißen', 'T', '-', 'Shirt', 'malt', 'mitten', 'auf', 'einer', 'mit', 'Steinen', 'gepflasterten', 'Straße', '.']], [['Ein', 'Mann', 'mit', 'blau', '-', 'rot', 'geschminktem', 'Gesicht', 'posiert', 'mit', 'einer', 'Frau', 'für', 'ein', 'Foto', '.']], [['Eine', 'Person', 'mit', 'neon', 'pinkfarbenem', 'Haar', 'und', 'gelbem', 'T', '-', 'Shirt', 'blickt', 'über', 'einen', 'Strand', '.']], [['Ein', 'kleines', 'Baby', ',', 'das', 'in', 'pinkfarbenen', 'Fle', 'e', 'ce', 'gekleidet', 'ist', ',', 'liegt', 'lächelnd', 'inmitten', 'von', 'Herbst', 'blättern', '.']], [['Mehrere', 'Kinder', 'heben', 'die', 'Hände', ',', 'während', 'sie', 'auf', 'einem', 'bunten', 'Teppich', 'in', 'einem', 'Klassenzimmer', 'sitzen', '.']], [['Ein', 'schwarzer', 'Hund', 'springt', 'durch', 'das', 'Wasser', 'und', 'trägt', 'dabei', 'einen', 'Stock', 'in', 'seinem', 'Maul', '.']], [['Frau', 'in', 'einem', 'weißen', 'T', '-', 'Shirt', 'und', 'Hosen', 'entspannt', 'sich', 'auf', 'einem', 'Sofa', 'in', 'einem', 'Haus', '.']], [['Ein', 'Kind', 'in', 'einem', 'orangen', 'Shirt', 'springt', 'von', 'Heu', 'ballen', 'herunter', ',', 'während', 'andere', 'Kinder', 'zusehen', '.']], [['Zwei', 'Männer', 'streichen', 'ein', 'Gebäude', 'an', ',', 'während', 'ein', 'dritter', 'Mann', 'am', 'Handy', 'daran', 'vorbeigeht', '.']], [['Eine', 'blonde', 'Frau', 'mit', 'braunem', 'Cowboyhut', 'macht', 'eine', 'ob', 's', 'zö', 'ne', 'Geste', 'in', 'Richtung', 'der', 'Kamera', '.']], [['Eine', 'Frau', 'in', 'einem', 'grünen', 'Shirt', 'liest', 'vor', 'ihrer', 'Klasse', 'etwas', 'von', 'einem', 'Projektor', 'ab', '.']], [['Ein', 'kleiner', 'Junge', 'mit', 'einem', 'Schnuller', 'und', 'einem', 'roten', 'T', '-', 'Shirt', 'spielt', 'mit', 'einem', 'Garten', 'schlauch', '.']], [['Ein', 'kleines', 'barfüßiges', 'Mädchen', 'mit', 'einem', 'Helm', 'geht', 'über', 'einen', 'mit', 'Mo', 'os', 'bedeckten', 'um', 'gefallen', 'en', 'Baum', '.']], [['Da', 'ist', 'eine', 'Frau', ',', 'die', 'mit', 'einem', 'Fahrrad', 'die', 'Straße', 'entlangfährt', 'und', 'dabei', 'nur', 'auf', 'dem', 'Hinterrad', 'fährt', '.']], [['Ein', 'Mann', 'in', 'einem', 'weißen', 'T', '-', 'Shirt', 'und', 'Khakihosen', 'kauert', 'auf', 'einem', 'umgestürzten', 'Baumstamm', '.']], [['Ein', 'Mann', 'in', 'mittelalter', 'licher', 'Kleidung', 'steht', 'auf', 'einem', 'Hügel', 'und', 'hält', 'dabei', 'eine', 'Axt', '.']], [['Ein', 'Mann', 'mit', 'einem', 'braunen', 'Hemd', ',', 'einer', 'grauen', 'Weste', 'und', 'einer', 'schwarzen', 'Mütze', 'spielt', 'E', '-', 'Bass', '.']], [['Eine', 'Gruppe', 'von', 'Menschen', 'in', 'Schotten', 'röcken', ',', 'schwarzen', 'Westen', 'und', 'Hemden', 'mit', 'weißem', 'Kragen', 'trommelt', '.']], [['Ein', 'braunhaariger', 'Mann', 'in', 'einem', 'braunen', 'Blazer', 'spricht', 'vor', 'Publikum', 'bei', 'einer', 'Com', 'ed', 'y', '-', 'Show', '.']], [['Ein', 'Mann', 'mit', 'einer', 'weißen', 'Schürze', 'und', 'Hut', 'verkauft', 'Fleisch', 'an', 'einer', 'belebten', 'Straße', '.']], [['Ein', 'Tier', 'arzt', 'und', 'eine', 'Tier', 'är', 'zt', 'in', 'untersuchen', 'einen', 'sehr', 'großen', 'Tiger', ',', 'der', 'auf', 'dem', 'Boden', 'liegt', '.']], [['Mann', 'in', 'einem', 'Anzug', ',', 'der', 'eine', 'Zigarre', 'raucht', 'und', 'eine', 'Zeitung', 'liest', ',', 'geht', 'auf', 'der', 'Straße', '.']], [['Ein', 'Mann', 'in', 'einem', 'schwarz', '-', 'weiß', 'gestreiften', 'T', '-', 'Shirt', 'fotografiert', 'eine', 'Frau', 'an', 'einem', 'Springbrunnen', '.']], [['Mehrere', 'weiß', 'gekleidete', 'Dar', 'steller', 'mit', 'kastanienbraunen', 'Ka', 'ppen', 'stehen', 'einander', 'in', 'Reihen', 'gegenüber', '.']], [['Ein', 'Mann', 'mit', 'einer', 'grauen', 'Mütze', ',', 'Trä', 'gers', 'hirt', 'und', 'schwarzen', 'Shorts', 'macht', 'einen', 'Handstand', '.']], [['Zwei', 'ganz', 'in', 'Weiß', 'gekleidete', 'Frauen', 'mit', 'hohen', 'Ab', 'sätzen', 'gehen', 'auf', 'der', 'Straße', '.']], [['Zwei', 'Menschen', 'in', 'ein', 'farbigen', 'G', 'anz', 'körper', 'anzügen', 'aus', 'Elast', 'han', 'sitzen', 'auf', 'Stühlen', 'in', 'einem', 'Publikum', '.']], [['Zwei', 'Wasser', 'fahrzeuge', ',', 'von', 'denen', 'eines', 'rot', 'und', 'das', 'andere', 'weiß', 'ist', ',', 'wirbeln', 'eine', 'Menge', 'Spritz', 'wasser', 'auf', '.']], [['Eine', 'junge', 'Frau', 'in', '„', 'Straßen', 'kleidung', '“', 'und', 'Stiefeln', 'führt', 'eine', 'Ballett', 'übung', 'an', 'einem', 'See', 'aus', '.']], [['Ein', 'Mann', 'und', 'eine', 'Frau', 'gehen', 'einen', 'steinernen', 'Treppen', 'aufgang', 'hinauf', 'und', 'blicken', 'auf', 'eine', 'Videokamera', '.']], [['Eine', 'Frau', 'mit', 'lilafarben', 'em', 'Oberteil', 'und', 'weißem', 'Rock', 'sieht', 'sich', 'einen', 'Marsch', 'um', 'zug', 'an', '.']], [['Ein', 'barfüßiger', 'Junge', 'mit', 'einem', 'blau', '-', 'weiß', 'gestreiften', 'Handtuch', 'steht', 'am', 'Strand', '.']], [['Ein', 'uniformierter', 'Mann', 'von', 'der', 'Armee', 'trainiert', 'einen', 'Deut', 'schen', 'Schäferhund', 'mit', 'einem', 'Arm', 'schutz', '.']], [['Eine', 'junge', 'Frau', 'in', 'einem', 'pinkfarbenen', 'Shirt', 'versucht', 'bei', 'einem', 'Rodeo', ',', 'ein', 'Kalb', 'einzufangen', '.']], [['Ein', 'älterer', 'Mann', 'in', 'Bluejeans', 'und', 'brauner', 'Jacke', 'lehnt', 'an', 'einem', 'orangen', 'Gebäude', '.']], [['Ein', 'älterer', 'Mann', 'mit', 'Tätowierungen', 'und', 'Biker', '-', 'Ins', 'ign', 'ien', 'schlendert', 'auf', 'einer', 'Straße', 'in', 'der', 'Stadt', 'herum', '.']], [['Ein', 'Junge', 'mit', 'Brille', 'und', 'einem', 'leuchtend', 'gelben', 'T', '-', 'Shirt', 'steht', 'auf', 'einem', 'Parkplatz', '.']], [['Ein', 'Straßenkünstler', 'in', 'einem', 'orangen', 'Overall', 'fährt', 'auf', 'einem', 'großen', 'Einrad', ',', 'während', 'eine', 'Menschenmenge', 'zusieht']], [['Eine', 'Frau', 'in', 'einem', 'gestreiften', 'Shirt', 'verschr', 'än', 'kt', 'die', 'Arme', ',', 'während', 'sie', 'in', 'einem', 'Lebensmittelgeschäft', 'steht', '.']], [['Ein', 'junger', ',', 'beh', 'elm', 'ter', 'Fahrradfahrer', 'in', 'Blau', 'wird', 'bei', 'der', 'Fahrt', 'über', 'kleine', 'Hügel', 'in', 'die', 'Luft', 'getragen', '.']], [['Eine', 'Gruppe', 'von', 'Menschen', 'an', 'einem', 'kleinen', 'Fluss', 'inmitten', 'einer', 'Stadt', '.']], [['Mehrere', 'Menschen', 'stehen', 'um', 'einen', 'Behälter', ',', 'in', 'dem', 'ein', 'Mann', 'einen', 'braunen', 'Gegenstand', 'bearbeitet', '.']], [['Ein', 'bärtiger', 'Mann', 'in', 'einer', 'dicken', 'Jacke', 'sitzt', 'mit', 'einem', 'Papp', 'becher', 'in', 'einer', 'Ecke', '.']], [['Eine', 'Person', 'in', 'Winterkleidung', 'posiert', 'mit', 'einem', 'Schneemann', 'und', 'ist', 'dabei', 'von', 'einer', 'schneebedeckten', 'Landschaft', 'umgeben', '.']], [['Junge', 'Frauen', 'und', 'Kinder', 'in', 'einem', 'Dorf', ',', 'wobei', 'eine', 'einzelne', 'Frau', 'in', 'die', 'Kamera', 'blickt', '.']], [['Ein', 'Mann', 'in', 'einem', 'Rollstuhl', 'und', 'einem', 'roten', 'Jogging', 'anzug', 'trägt', 'eine', 'Fackel', '.']], [['Zwei', 'Kick', 'box', 'er', 'innen', ',', 'von', 'denen', 'eine', 'einen', 'lilafarbenen', 'Sport', '-', 'BH', 'trägt', ',', 'kämpfen', 'in', 'einer', 'Arena', '.']], [['Eine', 'Gruppe', 'von', 'Mar', 'ines', 'ol', 'daten', 'geht', 'mit', 'amerikanischen', 'Flaggen', 'und', 'anderen', 'Militär', 'f', 'lag', 'gen', 'die', 'Straße', 'entlang', '.']], [['Ein', 'kleiner', 'Junge', 'verwendet', 'einen', 'Bohr', 'er', ',', 'um', 'ein', 'Loch', 'in', 'ein', 'Holz', 'stück', 'zu', 'machen', '.']], [['Zwei', 'Menschen', 'essen', 'Hamburger', 'auf', 'Garten', 'stühlen', ',', 'während', 'ein', 'dritter', 'eine', 'Dose', 'Limon', 'ade', 'trinkt', '.']], [['Drei', 'Mädchen', ',', 'von', 'denen', 'eines', 'gerade', 'trinkt', ',', 'stehen', 'in', 'einer', 'belebten', 'Straße', 'und', 'schneiden', 'Grimassen', '.']], [['Ein', 'blonder', 'Junge', 'in', 'einem', 'blauen', 'T', '-', 'Shirt', 'steht', 'lächelnd', 'vor', 'einem', 'Boot', 'aus', 'grünem', 'N', 'yl', 'on', 'gewe', 'be']], [['Eine', 'Person', 'wirft', 'gerade', 'eine', 'grüne', 'Bowlingkugel', 'eine', 'Bowlingbahn', 'entlang', '.']], [['Eine', 'Gruppe', 'von', 'Kindern', 'sitzt', 'hinten', 'in', 'einem', 'Van', 'und', 'sieht', 'sich', 'ein', 'Buch', 'an', '.']], [['Zwei', 'Bauarbeiter', 'helfen', 'beim', 'Bel', 'aden', 'eines', 'Kipp', 'ers', 'auf', 'einer', 'inner', 'städtischen', 'Baustelle', '.']], [['Eine', 'Frau', 'mit', 'blauem', 'Hut', 'und', 'gelbem', 'Rock', 'springt', 'an', 'einer', 'mit', 'Flie', 'der', 'bewachsenen', 'Stelle', 'in', 'die', 'Luft', '.']], [['Eine', 'Frau', 'in', 'einem', 'schwarzen', 'Kleid', 'schiebt', 'einen', 'Wagen', 'mit', 'T', 'her', 'm', 'os', 'kann', 'en', 'einen', 'gepflasterten', 'Fußgänger', 'weg', 'entlang']], [['Eine', 'junge', 'Frau', 'singt', 'in', 'ein', 'Mikrofon', ',', 'während', 'ein', 'Mann', 'hinter', 'ihr', 'eine', 'Gitarre', 'hält', '.']], [['Einige', 'Männer', 'sitzen', 'in', 'einem', 'Boot', 'in', 'der', 'Nähe', 'eines', 'Strandes', ',', 'der', 'mit', 'gestapel', 'ten', 'Holzst', 'ämmen', 'und', 'Stöcken', 'bedeckt']], [['Eine', 'Frau', 'lächelt', 'neben', 'einem', 'Mann', ',', 'der', 'ebenfalls', 'lächelt', 'und', 'eine', 'Zuckerwatte', 'hält', '.']], [['Ein', 'alter', 'Mann', 'hält', 'einen', 'Hund', 'empor', ',', 'während', 'sein', 'anderer', 'Hund', 'auf', 'seinen', 'Schoß', 'klettert', '.']], [['Ein', 'Junge', 'übernimmt', 'bei', 'einem', 'Rennen', 'einen', 'Stab', 'von', 'einem', 'Mädchen', '.']], [['Drei', 'Menschen', 'spielen', 'Musikinstrumente', 'und', 'eine', 'andere', 'Person', 'sieht', 'so', 'aus', ',', 'als', 'ob', 'sie', 'singen', 'würde', '.']], [['Ein', 'Junge', 'in', 'einem', 'orangen', 'T', '-', 'Shirt', 'lächelt', ',', 'während', 'ihn', 'ein', 'Junge', 'in', 'einem', 'blauen', 'T', '-', 'Shirt', 'ansieht']], [['Ein', 'Mann', 'in', 'einem', 'schwarzen', 'T', '-', 'Shirt', 'und', 'braunen', 'Car', 'go', 'hosen', 'hält', 'eine', 'Schaufel', 'über', 'seinem', 'Kopf', '.']], [['Die', 'Frau', 'bringt', 'eine', 'orange', 'Ro', 'se', 'als', 'An', 'ste', 'ck', 'str', 'äu', 'ß', 'chen', 'am', 'Jackett', 'kragen', 'des', 'Mannes', 'an']], [['Diese', 'alte', 'Asiatin', 'ruht', 'sich', 'aus', 'und', 'f', 'äch', 'elt', 'sich', 'an', 'einem', 'scheinbar', 'heißen', 'Tag', 'in', 'der', 'Stadt', 'Luft', 'zu']], [['Ein', 'Mann', 'mit', 'Brille', 'und', 'ein', 'kleines', 'Mädchen', 'mit', 'einer', 'Schwimmweste', 'schwimmen', 'in', 'einem', 'Pool', '.']], [['Ein', 'Junge', 'in', 'einem', 'T', '-', 'Shirt', 'und', 'Shorts', 'hält', 'einen', 'Schneeball', 'und', 'blickt', 'in', 'Richtung', 'eines', 'schneebedeckten', 'Berges', '.']], [['Ein', 'Mann', 'in', 'einem', 'schwarzen', 'T', '-', 'Shirt', 'kocht', 'in', 'einer', 'unaufgeräumten', 'Küche', 'aus', 'einem', 'Koch', 'buch', '.']], [['Ein', 'Mann', 'mit', 'einem', 'Hut', 'spielt', 'am', 'U', '-', 'Bahn', '-', 'Aus', 'gang', 'für', 'Geld', 'auf', 'einem', 'ungewöhnlichen', 'Instrument', '.']], [['Ein', 'Mann', 'mit', 'Brille', 'am', 'Mikrofon', 'blickt', 'auf', 'irgend', 'ein', 'Schrift', 'stück', 'hinunter', '.']], [['Zwei', 'Männer', 'in', 'einem', 'fremden', 'Land', 'lächeln', ',', 'wobei', 'einer', 'von', 'ihnen', 'steht', 'und', 'einer', 'mit', 'übereinander', 'geschlagen', 'en', 'Beinen', 'sitzt']], [['Mann', 'in', 'weißem', 'T', '-', 'Shirt', 'und', 'gestreiften', 'Shorts', 'spielt', 'Or', 'gel', 'und', 'wird', 'dabei', 'von', 'einem', 'Mann', 'in', 'einem', 'gelben']], [['Ein', 'glatzköpfiger', 'Mann', 'mit', 'Bart', 'in', 'einem', 'hell', 'braun', 'gestreiften', 'Hemd', 'lehnt', 'seinen', 'Kopf', 'an', 'den', 'Arm', 'eines', 'anderen', 'Mannes', '.']], [['Ein', 'kleines', 'Mädchen', 'lächelt', 'und', 'streckt', 'ihren', 'Daumen', 'nach', 'oben', ',', 'während', 'sie', 'vor', 'einer', 'Schildkröte', 'posiert', '.']], [['Ein', 'kleines', 'blondes', 'Mädchen', 'steht', 'auf', 'einem', 'Kissen', 'auf', 'einem', 'Bett', 'und', 'lächelt', 'mit', 'geschlossenen', 'Augen', '.']], [['Ein', 'Mann', 'in', 'einem', 'roten', 'Kapuzenpullover', 'und', 'einer', 'weißen', 'Schürze', 'steht', 'vor', 'einem', 'Wand', 'gem', 'älde', '.']], [['Ein', 'Kind', 'am', 'Ufer', 'eines', 'Sees', 'zeigt', 'auf', 'etwas', 'am', 'Himmel', '.']], [['Eine', 'ältere', 'Asiatin', 'trägt', 'eine', 'Baskenmütze', ',', 'eine', 'Sonnenbrille', ',', 'einen', 'gelben', 'Schal', 'und', 'eine', 'kar', 'ierte', 'Jacke', '.']], [['Ein', 'Mann', 'mit', 'einem', 'Rucksack', 'sitzt', 'auf', 'einer', 'unbefestigten', 'Straße', 'und', 'zeigt', 'in', 'Richtung', 'Horizont', '.']], [['Zwei', 'Frauen', 'sitzen', 'auf', 'silbernen', 'Stühlen', 'in', 'einem', 'Bahnhof', 'und', 'warten', 'auf', 'einen', 'Zug', 'oder', 'eine', 'U', '-', 'Bahn', '.']], [['Ein', 'kleiner', 'Junge', 'trägt', 'eine', 'grün', '-', 'weiß', '-', 'rote', 'Flagge', 'und', 'geht', 'neben', 'einer', 'Frau', '.']], [['Viele', 'Menschen', 'haben', 'sich', 'versammelt', ',', 'um', 'zwei', 'Männern', 'zu', 'zusehen', ',', 'die', 'ein', 'Instrument', 'spielen', 'und', 'ein', 'Schild', 'halten', '.']], [['Polizist', 'r', 'ingt', 'mit', 'einem', 'Mann', ',', 'der', 'eine', 'Hand', 'in', 'die', 'Luft', 'streckt', ',', 'während', 'andere', 'Polizisten', 'zusehen', '.']], [['Ein', 'braun', 'ol', 'iv', 'gekleideter', 'Mann', 'hält', 'sich', 'mit', 'seinen', 'Händen', 'über', 'dem', 'Boden', '.']], [['Eine', 'Gruppe', 'von', 'Strand', 'bes', 'uch', 'ern', 'hält', 'sich', 'an', 'den', 'Händen', 'und', 'bildet', 'am', 'Strand', 'entlang', 'eine', 'Reihe', 'mit', 'Blick']], [['Viele', 'Menschen', 'in', 'Sommer', 'kleidung', 'gehen', 'an', 'einem', 'sonnigen', 'Tag', 'auf', 'einer', 'unbefestigten', 'Straße', '.']], [['Ein', 'Mann', 'in', 'Anzug', 'und', 'Krawatte', 'spricht', 'in', 'einem', 'schicken', 'Gebäude', 'auf', 'dem', 'Podium', '.']], [['Vier', 'Männer', 'in', 'T', '-', 'Shirts', 'und', 'Shorts', 'blicken', 'aus', 'einem', 'Fenster', 'auf', 'die', 'Straße', 'hinunter', '.']], [['Ein', 'unge', 'pfle', 'g', 'ter', ',', 'fin', 'ster', 'dr', 'ein', 'blicken', 'der', 'alter', 'Mann', 'mit', 'weißem', 'Haar', 'sitzt', 'vor', 'einem', 'Maschendrahtzaun']], [['Zwei', 'Männer', ',', 'von', 'denen', 'der', 'eine', 'Obst', 'verkauft', 'und', 'der', 'andere', 'das', 'Obst', 'prüft', 'und', 'sich', 'mit', 'dem', 'Verkäufer', 'unterhält']], [['Ein', 'Paar', 'sitzt', 'auf', 'einer', 'Bank', 'und', 'unterhält', 'sich', ',', 'während', 'im', 'Hintergrund', 'eine', 'Frau', 'einen', 'Hund', 'spazieren', 'führt', '.']], [['Ein', 'Mann', 'mit', 'beginnen', 'der', 'Glatze', 'und', 'roter', 'Sonnenbrille', 'in', 'einem', 'grünen', 'Hemd', 'steht', 'vor', 'einem', 'Gebäude', '.']], [['Ein', 'schwarzer', 'Mann', 'mit', 'weißem', 'T', '-', 'Shirt', 'und', 'schwarzen', 'Kappe', 'sitzt', 'auf', 'dem', 'Bordstein', 'und', 'schreibt', 'Textnach', 'richten', '.']], [['Eine', 'junge', 'Frau', 'mit', 'braunem', 'Haar', 'und', 'Trä', 'gers', 'hirt', 'nimmt', 'mit', 'einer', 'Kamera', 'ein', 'Foto', 'auf', '.']], [['Ein', 'Soldat', 'der', 'Nation', 'al', 'gar', 'de', 'führt', 'eine', 'Gruppe', 'anderer', 'Nation', 'al', 'g', 'ard', 'isten', 'an', ',', 'die', 'die', 'Nation']]]\n",
            "[['Zwei', 'Männer', '.'], ['Eine', 'Gruppe', 'von', 'Freunden', '.'], ['Ein', 'Mann', 'hält', 'eine', 'Gitarre', '.'], ['Ein', 'Junge', 'in', 'einem', 'schmutzigen', 'Schwimmbecken', '.'], ['Menschen', 'stehen', '.'], ['Ein', 'Junge', '.'], ['Zwei', 'Männer', '.'], ['Ein', 'männlicher', 'Reiter', '.'], ['oder', 'Fotos', '.'], ['Ein', 'Mann', 'spielt', 'Trommel', '.'], ['Mehrere', '.'], ['Drei', 'kleine', 'Kinder', '.'], ['Eine', 'Frau', ',', 'die', 'auf', 'einem', 'Fluss', 'steht', '.'], ['Eine', '.'], ['Ein', 'kleiner', 'Junge', 'mit', 'der', 'Junge', 'im', 'Teenageralter', '.'], ['Ein', 'einzelner', 'Mann', 'in', 'einer', 'belebten', 'Bar', '.'], ['Ein', 'asiatisches', 'Mädchen', '.'], ['Eine', 'Gruppe', '.'], ['Ein', 'Mann', 'mit', 'einem', 'blauen', 'Rucksack', '.'], ['Junge', 'in', 'roter', 'Kleidung', '.'], ['Zwei', '.'], ['Zwei', 'Männer', '.'], ['Eine', 'Frau', 'in', 'einem', 'farbenfrohen', 'Outfit', '.'], ['Zwei', 'kleine', 'Jungen', '.'], ['Zwei', 'Frauen', '.'], ['Ein', 'kleines', ',', 'das', 'aussieht', '.'], ['Eine', 'Frau', 'in', 'einem', 'Müllcontainer', '.'], ['Eine', 'Menschenmenge', '.'], ['Ein', 'Cowboy', 'macht', '.'], ['Ein', 'Mann', 'in', 'orangefarbenen', 'Anzügen', '.'], ['Ein', 'schwarzer', 'Hund', '.'], ['Ein', 'Mann', 'in', 'einem', 'weißen', 'T', '-', 'Shirt', 'malt', 'eine', 'gepflasterten', 'Straße', '.'], ['Ein', 'Bild', '.'], ['Ein', 'Strand', '.'], ['Ein', 'kleines', '.'], ['Mehrere', 'Kinder', '.'], ['Ein', 'schwarzer', 'Hund', '.'], ['Eine', 'Frau', 'in', 'einem', 'Haus', '.'], ['Ein', 'Kind', ',', 'während', 'andere', 'Kinder', 'zusehen', '.'], ['Zwei', 'Männer', '.'], ['Eine', 'in', 'der', 'Kamera', '.'], ['Eine', 'Frau', 'in', 'einem', 'grünen', 'Oberteil', '.'], ['Ein', 'kleiner', 'Junge', 'mit', 'einem', 'Garten', '.'], ['Ein', 'junges', 'Mädchen', 'mit', 'einem', 'Helm', '.'], ['Eine', 'Frau', '.'], ['Ein', 'Mann', 'in', 'einem', 'weißen', 'Hemd', '.'], ['Ein', 'alter', 'Mann', 'in', '.'], ['Ein', 'Mann', 'mit', 'einem', 'braunen', 'Hemd', 'spielt', 'auf', 'einem', 'E', '-', 'Hut', '.'], ['Eine', 'Gruppe', 'von', 'Menschen', 'spielt', 'Schlagzeug', '.'], ['Ein', 'Publikum', '.'], ['Ein', 'Mann', 'mit', 'weißer', 'Schürze', '.'], ['Ein', 'Mann', 'und', 'auf', 'dem', 'Boden', 'liegt', '.'], ['Eine', 'Straße', '.'], ['Ein', 'Mann', 'in', 'einem', 'schwarzen', 'und', 'weiß', 'gestreiften', 'Oberteil', 'fotografiert', '.'], ['Mehrere', '.'], ['Ein', 'Mann', 'mit', 'einem', 'grauen', 'Hut', 'macht', '.'], ['Zwei', 'Frauen', '.'], ['Zwei', 'Personen', 'in', 'Stühlen', '.'], ['Zwei', 'Wasser', '.'], ['Eine', 'junge', 'Frau', 'in', 'einer', 'Bur', '.'], ['Ein', 'Mann', 'und', 'eine', 'Kamera', '.'], ['Eine', 'Frau', 'in', 'einem', 'lila', 'Oberteil', '.'], ['Ein', 'Junge', '.'], ['Ein', 'Mann', 'in', 'Uniform', '.'], ['Eine', 'junge', 'Frau', 'in', 'einem', 'rosafarbenen', 'Oberteil', 'versucht', 'ein', 'Seil', '.'], ['Ein', 'älterer', 'Mann', '.'], ['Ein', 'älterer', 'Mann', 'mit', 'Tätowierungen', '.'], ['Ein', 'Junge', '.'], ['Ein', 'männlicher', 'Straßenkünstler', 'beobachtet', '.'], ['Eine', 'Frau', 'in', 'einem', 'Lebensmittelgeschäft', '.'], ['Ein', 'junger', ',', 'während', 'er', 'über', 'kleine', 'Hügel', 'befindet', 'sich', 'die', 'Luft', 'nach', 'oben', '.'], ['Eine', 'Gruppe', 'von', 'Menschen', '.'], ['Mehrere', '.'], ['Ein', 'Mann', 'mit', 'einem', 'Papier', '.'], ['Eine', 'Person', 'in', 'Winterkleidung', '.'], ['Eine', 'junge', 'Frau', 'und', 'in', 'die', 'Kamera', '.'], ['Ein', 'Mann', 'in', 'einem', 'Rollstuhl', '.'], ['Zwei', 'Boxer', '.'], ['Eine', 'Gruppe', 'von', '.'], ['Ein', 'kleiner', 'Junge', 'macht', '.'], ['Zwei', 'Menschen', 'essen', '.'], ['Drei', '.'], ['Ein', 'blonder', 'Junge', 'auf', 'Stoff', '.'], ['Eine', 'Bowlingkugel', '.'], ['Eine', 'Gruppe', 'von', 'Kindern', 'sitzt', '.'], ['Zwei', 'Bauarbeiter', '.'], ['Eine', 'Frau', 'mit', 'einem', 'mit', 'einem', 'blauen', 'Hut', '.'], ['Eine', '.'], ['Eine', 'junge', 'Frau', 'singt', '.'], ['Ein', 'paar', 'Stöcke', '.'], ['Eine', 'Frau', 'lächelt', '.'], ['Ein', 'alter', 'Mann', 'auf', 'seinem', 'Schoß', '.'], ['Ein', 'Junge', '.'], ['Drei', 'Personen', 'singen', '.'], ['Ein', 'Junge', 'schaut', 'zu', '.'], ['Ein', 'Mann', 'in', 'einem', 'schwarzen', 'Hemd', 'hält', '.'], ['Die', 'Frau', 'legt', '.'], ['Eine', 'alte', 'Frau', '.'], ['Ein', '.'], ['Ein', 'Junge', 'hält', 'einen', 'verschneiten', 'Berg', '.'], ['Ein', 'Mann', 'in', 'einer', 'unaufgeräumten', 'Küche', '.'], ['Ein', 'Mann', 'mit', 'Hut', '.'], ['Ein', 'Mann', 'mit', 'Brille', '.'], ['Zwei', 'Männer', '.'], ['Ein', 'Mann', 'in', 'einem', 'gelben', 'Hemd', 'spielt', '.'], ['Ein', 'Mann', 'mit', 'Bart', 'auf', 'dem', 'Arm', '.'], ['Ein', 'junges', 'Mädchen', 'lächelt', '.'], ['Ein', 'junges', 'blondes', '.'], ['Ein', 'Mann', 'in', 'einem', 'roten', 'Kapuzenpulli', '.'], ['Ein', 'Kind', ',', 'auf', 'dem', 'Himmel', '.'], ['Eine', 'ältere', 'Frau', 'trägt', '.'], ['Ein', 'Mann', 'mit', 'Rucksack', '.'], ['Zwei', '.'], ['Ein', 'kleiner', 'Junge', 'und', 'geht', 'neben', 'einer', 'Frau', '.'], ['Viele', 'Männer', '.'], ['Ein', 'großer', 'Be', 'er', 'd', '.'], ['Ein', 'Mann', 'mit', 'den', 'Händen', '.'], ['am', 'Strand', '.'], ['Eine', 'Menge', '.'], ['Ein', 'Mann', 'in', 'einem', 'Anzug', '.'], ['Vier', '.'], ['Ein', 'Maschendrahtzaun', '.'], ['Zwei', 'Männer', '.'], ['Ein', 'Hund', '.'], ['Ein', 'Gebäude', '.'], ['Eine', 'Person', 'auf', 'dem', 'Bordstein', 'sitzt', 'und', 'schreibt', 'auf', 'dem', 'Bordstein', '.'], ['Eine', 'junge', 'Frau', 'mit', '.'], ['Ein', 'Be', 'ag', '.']]\n",
            "0.03258468946175708\n",
            "[[['Zwei', 'Kinder', 'springen', 'auf', 'einem', 'abge', 'schirm', 'ten', 'blau', '-', 'schwarzen', 'Trampolin', ',', 'das', 'von', 'Bäumen', 'umgeben', 'ist', '.']], [['Mann', 'auf', 'einem', 'Skateboard', 'n', 'utzt', 'an', 'einem', 'sehr', 'schönen', 'Tag', 'einen', 'leeren', 'Pool', 'als', 'Rampe', '.']], [['Ein', 'Mann', 'mit', 'einem', 'Kapuzen', 'shirt', 'sitzt', 'an', 'einem', 'Springbrunnen', 'und', 'beobachtet', 'die', 'Menschen', 'der', 'Stadt', '.']], [['Eine', 'Gruppe', 'von', 'Schwarz', 'en', 'in', 'orangen', 'T', '-', 'Shirts', 'tritt', 'vor', 'einem', 'eingezäunten', 'Park', 'auf', '.']], [['Mehrere', 'junge', 'Erwachsene', 'starren', 'konzentriert', 'auf', 'ihre', 'Computer', 'mon', 'itor', 'e', ',', 'während', 'sie', 'gegeneinander', 'spielen', '.']], [['Ein', 'kleines', 'Mädchen', 'in', 'einem', 'gepunkteten', 'Kleid', 'blickt', 'nach', 'hinten', 'zu', 'einer', 'Frau', 'in', 'einem', 'schwarzen', 'Kleid', '.']], [['Ein', 'kleiner', 'Junge', 'und', 'ein', 'Mädchen', 'lachen', 'miteinander', ',', 'während', 'das', 'Mädchen', 'ein', 'Hand', 'zeichen', 'macht', '.']], [['Ein', 'Mann', 'sieht', 'zu', ',', 'wie', 'eine', 'Frau', 'an', 'einem', 'Schieß', 'stand', 'lächelnd', 'eine', 'Pistole', 'ab', 'feuert', '.']], [['Eine', 'Gruppe', 'von', 'Menschen', 'in', 'lilafarbenen', 'T', '-', 'Shirts', 'und', 'hellbraunen', 'Hosen', 'geht', 'gemeinsam', 'in', 'dieselbe', 'Richtung', '.']], [['Der', 'Typ', 'mit', 'den', 'Jeansshorts', 'macht', 'im', 'Skatepark', 'ein', 'paar', 'Kunststücke', 'auf', 'seinem', 'Fahrrad', '.']], [['Eine', 'Person', 'in', 'einem', 'lilafarbenen', 'Oberteil', 'malt', 'ein', 'Bild', 'von', 'einer', 'Frau', 'auf', 'eine', 'weiße', 'Wand', '.']], [['Ein', 'Mann', 'in', 'einem', 'roten', 'T', '-', 'Shirt', 'steht', 'mit', 'zwei', 'Mädchen', 'vor', 'einem', 'alten', 'Bauwerk', '.']], [['Zwei', 'Männer', 'unterhalten', 'sich', 'hinter', 'einer', 'Or', 'gel', ',', 'während', 'rechts', 'eine', 'einzelne', 'Frau', 'steht', '.']], [['Ein', 'Mann', ',', 'der', 'zum', 'Trainer', 'stab', 'von', 'O', 'U', 'geh', 'ört', ',', 'trägt', 'während', 'eines', 'Footballspiel', 's', 'eine', 'Sonnenbrille', 'auf', 'dem', 'Kopf', '.']], [['Das', 'Mädchen', 'mit', 'dem', 'langen', 'Pferdeschwanz', 'ist', 'bereit', ',', 'den', 'Ball', 'einer', 'anderen', 'Spielerin', 'auf', 'dem', 'Spielfeld', 'zuzu', 'werfen', '.']], [['Ein', 'Mann', 'in', 'einem', 'rot', '-', 'weiß', 'gestreiften', 'Hemd', 'sitzt', 'auf', 'einem', 'Hocker', 'an', 'einem', 'Hotdog', '-', 'Stand', '.']], [['Ein', 'warm', 'eingepack', 'ter', 'Mann', 'arbeitet', 'bei', 'k', 'alter', 'W', 'itter', 'ung', 'oben', 'in', 'einem', 'Korb', 'an', 'einer', 'Strom', 'leitung', '.']], [['Eine', 'Frau', 'wirft', 'einem', 'Hund', 'eine', 'Frisbeescheibe', 'zu', ',', 'während', 'ihr', 'ein', 'Baseballspieler', 'in', 'Spielkleidung', 'hinterher', 'läuft', '.']], [['Das', 'S', 'ort', 'iment', 'an', 'Bananen', ',', 'Orangen', ',', 'Melonen', 'us', 'w', '.', 'eines', 'asiatischen', 'Obst', '-', 'und', 'Gemü', 'seh', 'än', 'd', 'lers', 'auf', 'seinem', 'kleinen', 'Boot', '.']], [['Eine', 'Gruppe', 'von', 'Asiaten', 'betrachtet', 'und', 'fotografiert', 'ein', 'neu', 'es', 'Fahrzeug', 'bei', 'einer', 'Aut', 'om', 'esse', '.']], [['Eine', 'Braut', 'rückt', 'die', 'Blume', 'am', 'Jackett', 'ihres', 'Bräutigam', 's', 'zurecht', 'und', 'hält', 'dabei', 'ihren', 'eigenen', 'Blumenstrauß', '.']], [['Eine', 'warm', 'gekleidete', 'Frau', 'in', 'Schwarz', 'kniet', 'mit', 'einem', 'kleinen', 'hellbraunen', 'Hund', 'bei', 'einer', 'Zuschauermenge', '.']], [['Ein', 'kleines', 'Mädchen', 'in', 'einem', 'karierten', 'Kleid', 'spielt', 'in', 'der', 'Nähe', 'eines', 'Maschendrahtzaun', 's', 'mit', 'ihrem', 'großen', 'blauen', 'Ball', '.']], [['Ein', 'Mann', 'nimmt', 'ein', 'Foto', 'von', 'einem', 'anderen', 'Mann', 'und', 'seinen', 'beiden', 'Hunden', 'auf', 'ein', 'paar', 'grasbewachsenen', 'Hügel', 'n', 'auf']], [['Zwei', 'Männer', 'sind', 'an', 'einem', 'hellen', ',', 'sonnigen', 'Tag', 'unterwegs', ',', 'um', 'ein', 'paar', 'Fische', 'im', 'See', 'zu', 'fangen', '.']], [['Zwei', 'asiatische', 'Kinder', ',', 'ein', 'Junge', 'und', 'ein', 'Mädchen', ',', 'stehen', 'neben', 'einem', 'Baum', '.']], [['Zwei', 'junge', 'Mädchen', 'spielen', 'Basketball', ',', 'wobei', 'die', 'eine', 'in', 'Weiß', 'einen', 'Kor', 'ble', 'ger', 'versucht', 'und', 'die', 'andere', 'in', 'Rot', 'verteid', 'igt', '.']], [['Dieser', 'Mann', 'versucht', 'scheinbar', ',', 'in', 'einer', 'geschäftigen', 'Stadt', 'eine', 'Art', 'pol', 'it', 'isches', 'State', 'ment', 'abzu', 'geben', '.']], [['Ein', 'Afroamerikaner', 'mit', 'einem', 'braunen', 'Hut', ',', 'Anzug', 'und', 'Sonnenbrille', 'steht', 'an', 'einer', 'Ziegelwand', '.']], [['Ein', 'Mann', 'sitzt', 'an', 'einem', 'leuchtend', 'bunten', ',', 'grün', '-', 'blauen', 'Stand', 'mit', 'Werbung', 'hinter', 'ihm', 'auf', 'der', 'Straße', '.']], [['Das', 'Bild', 'zeigt', 'das', 'Spiegelbild', 'eines', 'Mannes', 'und', 'einer', 'Frau', 'an', 'irgendeiner', 'Art', 'von', 'Ter', 'min', 'al', '.']], [['Eine', 'afroamerikanische', 'Frau', 'sitzt', 'an', 'einem', 'braunen', 'Tisch', 'und', 'trägt', 'ein', 'lilafarben', 'es', 'Kleid', ',', 'pinkfarbene', 'Schuhe', 'und', 'eine', 'schwarze', 'Sonnenbrille', '.']], [['Ein', 'Junge', 'in', 'einem', 'schwarzen', 'T', '-', 'Shirt', 'trägt', 'einen', 'blauen', 'Eimer', 'und', 'geht', 'neben', 'weiß', 'gekleideten', 'Männern', '.']], [['Ein', 'Mann', 'und', 'eine', 'Frau', 'mit', 'Kinderwagen', 'gehen', 'an', 'einigen', 'Menschen', 'vorbei', ',', 'die', 'Waren', 'in', 'Zelten', 'verkaufen', '.']], [['Ein', 'Mann', 'in', 'Shorts', 'redet', 'vor', 'einer', 'Spüle', 'mit', 'einem', 'anderen', 'Mann', 'in', 'Bluejeans', '.']], [['Ein', 'Skifahrer', 'fliegt', 'durch', 'die', 'Luft', ',', 'während', 'ihm', 'andere', 'Skifahrer', ',', 'die', 'mit', 'dem', 'Schle', 'pp', 'l', 'ift', 'fahren', ',', 'dabei', 'zusehen', '.']], [['Zwei', 'Frauen', ',', 'eine', 'aus', 'Deut', 'schl', 'and', 'und', 'eine', 'aus', 'China', ',', 'treten', 'bei', 'einem', 'Ringkampf', 'auf', 'einer', 'Matte', 'gegeneinander', 'an', '.']], [['Ein', 'kleines', 'Mädchen', 'spielt', 'mit', 'einem', 'Miniat', 'ur', '-', 'Strom', 'kreis', ',', 'der', 'aus', 'drei', 'Gl', 'üh', 'l', 'ampen', 'und', 'einer', 'Bat', 'terie', 'besteht', '.']], [['Während', 'eines', 'Fußballspiel', 's', 'versuchen', 'zwei', 'Männer', ',', 'den', 'Ball', 'vor', 'ihrem', 'jeweil', 'igen', 'Gegner', 'zu', 'erreichen', '.']], [['Zwei', 'schwarz', 'gekleidete', 'Männer', 'mit', 'einer', 'grünen', 'und', 'einer', 'roten', 'Fliege', 'treten', 'vor', 'einer', 'Menschenmenge', 'auf', '.']], [['Eine', 'Person', 'in', 'Bluejeans', 'und', 'rotem', 'Pullover', 'biegt', 'um', 'die', 'Ecke', 'einer', 'Ziegelmauer', '.']], [['Ein', 'kleines', 'Mädchen', 'liegt', 'auf', 'dem', 'Boden', ',', 'während', 'ihre', 'jüngere', 'Schwester', 'Krankenschwester', 'spielt', '.']], [['Männer', 'in', 'gelben', 'Anzügen', 'und', 'ein', 'Klavier', 'befinden', 'sich', 'auf', 'der', 'Bühne', 'und', 'ein', 'Mann', 'spielt', 'einen', 'Kontr', 'abass', '.']], [['Ein', 'Mann', 'in', 'Feuerwehr', 'kleidung', 'überquert', 'die', 'Straße', 'bei', 'einem', 'weißen', 'Bus', 'und', 'einem', 'roten', 'Sattel', 'schle', 'pper', '.']], [['Ein', 'Mann', 'mit', 'einem', 'grünen', 'Shirt', 'küsst', 'ein', 'weinendes', 'Kleinkind', 'und', 'sieht', 'dabei', 'den', 'Läufern', 'eines', 'Straßenrennen', 's', 'zu', '.']], [['Ein', 'Mädchen', 'in', 'einem', 'rot', '-', 'weißen', 'T', '-', 'Shirt', 'und', 'blauen', 'Shorts', 'macht', 'sich', 'bereit', ',', 'einen', 'Ball', 'zu', 'werfen', '.']], [['Zwei', 'Männer', 'warten', 'auf', 'dem', 'Rücksitz', 'eines', 'Autos', ',', 'während', 'der', 'Fahrer', 'auf', 'dem', 'Fahrers', 'itz', 'Platz', 'nimmt', '.']], [['Vier', 'Kinder', 'mit', 'Rucksäcken', 'dr', 'ehen', 'sich', 'in', 'Richtung', 'der', 'Kamera', 'und', 'lächeln', ',', 'während', 'sie', 'eine', 'Landstraße', 'entlanggehen', '.']], [['Zwei', 'kleine', 'Mädchen', 'in', 'rosafarbenen', 'Schlaf', 'anzügen', 'sitzen', 'auf', 'dem', 'Boden', 'vor', 'großen', 'Fenstern', 'und', 'spielen', 'Vater', '-', 'Mutter', '-', 'Kind', '.']], [['Drei', 'ältere', 'Frauen', 'in', 'einem', 'wei', 'hn', 'acht', 'lich', 'geschmückten', 'Wohnzimmer', ',', 'im', 'Zentrum', 'der', 'Aufmerksamkeit', 'steht', 'ein', 'V', 'A', 'I', 'O', '-', 'Notebook', '.']], [['Eine', 'Frau', 'in', 'weißen', 'Shorts', ',', 'gelbem', 'Oberteil', 'und', 'weißen', 'Sandalen', 'scheint', 'einen', 'Stock', 'zu', 'werfen', '.']], [['Da', 'ist', 'ein', 'Café', 'an', 'einer', 'Straßenecke', 'mit', 'einer', 'o', 'v', 'alen', 'Maler', 'ei', 'am', 'E', 'ck', 'des', 'Gebäudes', '.']], [['Zwei', 'Eishockeyspieler', 'sind', 'bereit', 'für', 'das', 'Spiel', ',', 'während', 'der', 'Schir', 'i', 'neben', 'ihnen', 'im', 'Begriff', 'ist', ',', 'den', 'Puck', 'zu', 'werfen', '.']], [['Ein', 'schwarzer', 'Mann', 'in', 'einer', 'Koch', 'jacke', 'telefoniert', ',', 'während', 'zwei', 'andere', 'Männer', 'mit', 'Schürzen', 'lachen', '.']], [['Straßenszene', 'mit', 'einer', 'blonden', 'Frau', 'in', 'gold', 'farbenem', 'Mantel', 'und', 'Mini', 'rock', 'vor', 'einem', 'Polizei', 'motorrad', ',', 'das', 'von', 'hinten', 'zu', 'sehen', 'ist', '.']], [['Da', 'ist', 'eine', 'grün', 'und', 'rot', 'gekleidete', 'junge', 'Frau', ',', 'deren', 'Wange', 'mit', 'einer', 'mexikanischen', 'Flagge', 'geschminkt', 'ist', '.']], [['Fünf', 'Männer', ',', 'die', 'alle', 'weiße', 'Anzüge', 'tragen', ',', 'stehen', 'neben', 'L', 'äm', 'mern', 'in', 'einem', 'umzäunten', 'Bereich']], [['Eine', 'junge', 'dunkelhaarige', 'Frau', 'mit', 'roter', 'Sonnen', 'bl', 'ende', 'hält', 'inmitten', 'einer', 'Menschenmenge', 'einen', 'geöffneten', 'weißen', 'Regenschirm']], [['Ein', 'lächelnder', 'junger', 'Mann', 'geht', 'in', 'der', 'Nähe', 'des', 'Strandes', 'vorbei', 'und', 'trägt', 'dabei', 'eine', 'Baseballkappe', ',', 'ein', 'blaues', 'T', '-', 'Shirt', 'und', 'Jeans', '.']], [['Der', 'Mann', 'mit', 'der', 'Kappe', 'gibt', 'dem', 'Jungen', 'mit', 'dem', 'lilafarbenen', 'Hut', 'einen', 'frisch', 'gefangen', 'en', 'Fisch', '.']], [['Kleines', 'Kind', 'in', 'einem', 'grünem', 'Shirt', 'putzt', 'sich', 'unter', 'M', 'am', 'as', 'Auf', 'sicht', 'mit', 'einer', 'gelben', 'Zahnbürste', 'die', 'Zähne', '.']], [['D', 'em', 'Mädchen', 'wird', 'eine', 'Frisbeescheibe', 'zu', 'geworfen', ',', 'während', 'das', 'andere', 'Mädchen', 'dar', 'um', 'zu', 'b', 'itten', 'scheint', '.']], [['Zwei', 'Männer', ',', 'von', 'denen', 'der', 'eine', 'schwarz', 'und', 'der', 'andere', 'weiß', 'ist', ',', 'stehen', 'im', 'Freien', ',', 'spielen', 'Gitarre', 'und', 'singen', 'in', 'ein', 'Mikrofon', '.']], [['Drei', 'Frauen', 'mit', 'dunklen', 'Umhänget', 'üchern', 'und', 'Hüten', 'unterhalten', 'sich', 'auf', 'einer', 'Backsteinstraße', ',', 'während', 'ein', 'Hund', 'neben', 'ihnen', 'sitzt', '.']], [['Eine', 'Frau', 'und', 'ihre', 'zwei', 'Kinder', 'sind', 'am', 'Strand', 'und', 'die', 'Frau', 'springt', 'hoch', 'in', 'die', 'Luft', '.']], [['Eine', 'Frau', 'in', 'einem', 'weißen', 'T', '-', 'Shirt', 'und', 'schwarzen', 'Hosen', 'tanzt', 'Hula', '-', 'Hoop', ',', 'während', 'ihr', 'eine', 'große', 'Gruppe', 'von', 'Menschen', 'zusieht', '.']], [['Ein', 'großer', 'Hund', 'springt', 'in', 'einem', 'Springbrunnen', 'herum', ',', 'während', 'ein', 'Mann', 'mit', 'einem', 'schwarzen', 'T', '-', 'Shirt', 'und', 'einer', 'Weste', 'daneben', 'steht', '.']], [['Ein', 'Verkäufer', 'sitzt', 'inmitten', 'seines', 'Brillen', 'sort', 'iment', 's', 'auf', 'einem', 'Straßenmarkt', 'in', 'einem', 'asiatischen', 'Land', '.']], [['Ein', 'Mann', 'liegt', 'auf', 'einer', 'Schnee', 'weh', 'e', ',', 'die', 'sich', 'hoch', 'um', 'die', 'Vorder', 'tür', 'seines', 'Hauses', 'aufge', 'tür', 'mt', 'hat', '.']], [['Eine', 'Frau', 'mit', 'schwarzem', 'Haar', ',', 'schwarzem', 'Oberteil', 'und', 'einem', 'roten', 'Rock', 'd', 'ro', 'ht', 'jemandem', 'mit', 'der', 'Faust', '.']], [['Ein', 'Mann', ',', 'der', 'aussieht', ',', 'als', 'ob', 'er', 'geschlagen', 'w', 'orden', 'wäre', ',', 'liegt', 'vor', 'irgend', 'wel', 'ch', 'em', 'Ger', 'ü', 'mp', 'el', 'auf', 'dem', 'Boden', '.']], [['Das', 'ist', 'das', 'Bild', 'einer', 'Frau', 'mit', 'ihrem', 'Mann', 'und', 'ihrem', 'Kind', ',', 'die', 'einen', 'Spaziergang', 'beim', 'Parkplatz', 'machen', '.']], [['Zwei', 'Männer', 'blicken', 'auf', 'den', 'Bildschirm', 'eines', 'Laptops', ',', 'während', 'einer', 'schreibt', 'und', 'der', 'andere', 'auf', 'den', 'Bildschirm', 'zeigt', '.']], [['Ein', 'Mädchen', 'in', 'einem', 'schwarzen', 'Trä', 'gers', 'hirt', 'mit', 'Car', 'g', 'os', 'horts', 'scheint', 'zu', 'tanzen', 'und', 'ist', 'dabei', 'von', 'mehreren', 'anderen', 'Menschen', 'umgeben', '.']], [['Ein', 'kleines', 'blondes', 'Mädchen', 'in', 'einem', 'gepunkteten', 'T', '-', 'Shirt', 'badet', 'ein', 'Stofftier', 'in', 'einer', 'Spüle', '.']], [['Der', 'Fe', 'd', 'Ex', '-', 'Fahrer', 'hört', 'dem', 'Arbeiter', 'mit', 'dem', 'grünen', 'Schutzhelm', 'zu', ',', 'während', 'die', 'zu', 'vers', 'enden', 'de', 'Ausrüstung', 'ein', 'gel', 'aden', 'wird', '.']], [['Ein', 'Frau', 'in', 'einer', 'rosafarbenen', 'Bluse', 'zeigt', 'einem', 'Mann', 'in', 'einem', 'gestreiften', 'Pullover', ',', 'wie', 'eine', 'Hand', 'arbeit', 'aus', 'Garn', 'her', 'gestellt', 'wird', '.']], [['Ein', 'Mann', 'sitzt', 'mit', 'einem', 'Bier', 'in', 'der', 'Hand', 'auf', 'einem', 'Stuhl', 'und', 'brät', 'an', 'einem', 'Holz', 'stab', 'etwas', 'zu', 'essen', '.']], [['In', 'einer', 'Industrie', 'umgebung', 'werden', 'große', ',', 'wei', 'che', 'Scheiben', 'von', 'einem', 'Mann', 'auf', 'einer', 'Sp', 'ind', 'el', 'gest', 'ap', 'elt', ',', 'während', 'ein', 'anderer', 'Mann', 'zusieht', '.']], [['Ein', 'Raum', 'voll', 'mit', 'sitzenden', 'und', 'stehenden', 'Erwachsenen', 'und', 'Kindern', ',', 'in', 'dem', 'acht', 'pinkfarbene', 'und', 'schwarze', 'Luftballons', 'von', 'der', 'Decke', 'hängen', '.']], [['Menschen', 'stehen', 'zusammen', 'vor', 'einer', 'Tier', 'statue', 'und', 'sind', 'alle', 'für', 'k', 'ühle', 's', 'Wetter', 'gekleidet', '.']], [['Mit', 'einer', 'Badewanne', 'auf', 'dem', 'Dach', 'und', 'befestigten', 'Fahnen', 'ist', 'das', 'Auto', 'bereit', 'für', 'den', 'Start', 'der', 'Rallye', '.']], [['Ein', 'Mann', 'in', 'einem', 'gelben', 'Oberteil', ',', 'der', 'vor', 'einer', 'kleinen', 'Bar', 'acke', 'steht', ',', 'ist', 'von', 'oben', 'durch', 'ein', 'Draht', 'gef', 'le', 'cht', 'zu', 'sehen', '.']], [['Eine', 'ältere', 'Frau', 'mit', 'einer', 'blauen', 'Mütze', 'sitzt', 'auf', 'dem', 'Gehweg', 'und', 'hackt', 'etwas', 'Gel', 'bes', 'auf', 'einem', 'Brett', 'neben', 'sich', '.']], [['Zwei', 'Frauen', 'in', 'blauen', 'Anzügen', 'sitzen', 'draußen', 'auf', 'dem', 'Beton', ',', 'während', 'sich', 'hinter', 'ihnen', 'Beton', 'und', 'län', 'g', 'liche', 'Glas', 'fenster', 'befinden', '.']], [['Ein', 'Mann', 'in', 'einem', 'blauen', 'Hemd', 'hält', 'ein', 'Schild', ',', 'auf', 'dem', 'steht', ':', '„', 'Com', 'e', 'on', 'n', 'ow', '.', '.', '.', 'w', 'hat', \"'\", 's', 'ga', 'yer', 't', 'han']], [['Ein', 'Junge', 'und', 'ein', 'Mädchen', 'in', 'schwarzen', 'Overalls', 'stehen', 'einem', 'Mädchen', 'in', 'einer', 'pinkfarbenen', 'Jacke', 'gegenüber', ',', 'während', 'sich', 'im', 'Hintergrund', 'Erwachsene', 'befinden', '.']], [['Ein', 'älterer', 'Mann', 'sitzt', 'im', 'Freien', 'vor', 'einem', 'großen', 'Banner', 'mit', 'der', 'Aufschrift', '„', 'M', 'em', 'or', 'ia', 'J', 'ust', 'ic', 'ia', 'S', 'in', 'Ol', 'v', 'i', 'do', '“', 'auf', 'einer']], [['Da', 'ist', 'ein', 'Mann', ',', 'der', 'in', 'irgendeine', 'Decke', 'gewickelt', 'ist', 'und', 'einen', 'schneebedeckten', 'Hügel', 'herunter', 'rutscht', '.']], [['Ein', 'Baseballspieler', 'mit', 'einem', 'roten', 'Helm', 'und', 'weißen', 'Hosen', 'wird', 'vom', 'Fänger', 'mit', 'dem', 'Baseball', 'berührt', ',', 'während', 'er', 'zur', 'Ho', 'm', 'eb', 'ase', 'läuft', '.']], [['Ein', 'Mann', 'mit', 'einer', 'Beh', 'inder', 'ung', ',', 'der', 'keine', 'Beine', 'hat', ',', 'geht', 'neben', 'einem', 'anderen', 'Mann', ',', 'der', 'zu', 'einem', 'Marathon', 'ange', 'mel', 'det', 'ist', '.']], [['Ein', 'Mann', 'im', 'mittleren', 'Alter', 'legt', 'am', 'Knie', 'eines', 'jüngeren', 'Footballspiel', 'ers', ',', 'der', 'auf', 'einem', 'Train', 'ert', 'isch', 'sitzt', ',', 'einen', 'T', 'ap', 'e', 'ver', 'band', 'an', '.']], [['Ein', 'Mann', 'mit', 'Reit', 'stiefeln', 'und', 'einem', 'Helm', 'reitet', 'auf', 'einem', 'weißen', 'Pferd', 'und', 'das', 'Pferd', 'springt', 'über', 'ein', 'Hindernis', '.']], [['Auf', 'einer', 'Bowlingbahn', 'hält', 'ein', 'Mann', 'in', 'einem', 'schwarzen', 'T', '-', 'Shirt', 'eine', 'Bowlingkugel', 'und', 'blickt', 'die', 'Bahn', 'hinunter', '.']], [['Drei', 'Frauen', 'sitzen', 'mit', 'einem', 'Baby', 'auf', 'einer', 'Decke', 'auf', 'dem', 'Boden', ',', 'unterhalten', 'sich', 'und', 'haben', 'Spaß', 'zusammen', '.']], [['Ein', 'Mann', 'in', 'einem', 'grauen', 'T', '-', 'Shirt', 'bet', 'ät', 'igt', 'den', 'Blas', 'eb', 'al', 'g', ',', 'um', 'ein', 'Feuer', 'im', 'Ziegel', 'ofen', 'einer', 'Holz', 'hütte', 'in', 'Gang', 'zu', 'bringen', '.']], [['Eine', 'Frau', 'in', 'einem', 'rotem', 'Mantel', ',', 'die', 'eine', 'vermutlich', 'aus', 'Asien', 'st', 'ammen', 'de', 'Handtasche', 'in', 'einem', 'blauen', 'Far', 'bt', 'on', 'hält', ',', 'springt', 'für', 'einen', 'Schn', 'appschuss', 'in', 'die']], [['Ein', 'Mädchen', 'sitzt', 'in', 'bequem', 'er', 'Haltung', 'an', 'einem', 'öffentlichen', 'Ort', 'und', 'liest', 'ein', 'Buch', ',', 'das', 'sie', 'mit', 'ihrer', 'Hand', 'geöffnet', 'hält', ',', 'an', 'der', 'sich', 'ein', 'Ring', 'mit', 'einem']], [['Zwei', 'Menschen', 'halten', 'einen', 'großen', 'umge', 'kehr', 'ten', 'Gl', 'ob', 'us', 'mit', 'einem', 'Durch', 'mess', 'er', 'von', 'ca', '.', '12', '0', 'c', 'm', 'und', 'es', 'wir', 'kt', 'so', ',', 'als', 'würde']], [['Ein', 'paar', 'Bauarbeiter', ',', 'in', 'Schubkar', 'ren', 'wird', 'Beton', 'gem', 'ischt', ',', 'sie', 'bauen', 'oder', 'reparieren', 'eine', 'Wand', 'und', 'die', 'Wand', 'ist', 'noch', 'nass', '.']], [['Ein', 'kleines', 'Mädchen', 'asiatischer', 'Abstammung', 'sitzt', 'in', 'einem', 'schwarzen', 'Eimer', 'und', 'isst', 'mit', 'einem', 'breiten', 'Lächeln', 'im', 'Gesicht', 'ein', 'Mar', 'sh', 'm', 'all', 'ow', '.']], [['Ein', 'Mann', 'mit', 'Rast', 'al', 'ocken', 'spielt', 'mit', 'dem', 'Haar', 'einer', 'Frau', ',', 'die', 'in', 'einer', 'kopf', 'stein', 'gepflasterten', 'Straße', 'auf', 'einem', 'Stuhl', 'sitzt', '.']], [['Ein', 'Typ', 'mit', 'einem', 'leuchtend', 'grünen', 'Kapuzenpullover', 'überquert', 'einen', 'Fußgängerüberweg', ',', 'während', 'er', 'zu', 'einem', 'Unfall', 'zwischen', 'ein', 'paar', 'Autos', 'und', 'einem', 'Fahrrad', 'blickt', '.']], [['Schwimmer', 'stehen', 'auf', 'den', 'verschiedenen', 'Stufen', 'eines', 'großen', 'Spr', 'un', 'gt', 'urm', 's', 'in', 'einem', 'Raum', ',', 'dessen', 'Wände', 'mit', 'Figuren', 'aus', 'der', 'M', 'y', 't', 'hol', 'ogie', 'bemalt', 'sind', '.']], [['Eine', 'Frau', 'und', 'ein', 'Kind', 'sitzen', 'zusammen', 'in', 'einem', 'Tür', 'rahmen', 'an', 'einem', 'grauen', 'Gehweg', ',', 'während', 'ein', 'Mann', 'und', 'zwei', 'Frauen', 'vorbeigehen', '.']], [['Eine', 'dunkelhaarige', 'Frau', 'mit', 'einer', 'blauen', 'Bluse', 'und', 'Sonnenbrille', 'hält', 'ein', 'Spruch', 'band', ',', 'während', 'ein', 'junges', 'Mädchen', 'mit', 'geflochten', 'em', 'Haar', 'auf', 'das', 'Spruch', 'band', 'schreibt', '.']], [['Ein', 'sehr', 'kleines', 'Kind', 'mit', 'Farbe', 'auf', 'Körper', 'und', 'Gesicht', 'sitzt', 'in', 'der', 'Spüle', 'und', 'spielt', 'mit', 'der', 'Küchen', 'arm', 'atur']], [['Eine', 'Frau', 'mit', 'Sonnenbrille', 'und', 'einem', 'blauen', 'T', '-', 'Shirt', ',', 'die', 'Muscheln', 'verkauft', ',', 'sieht', 'einen', 'älteren', 'Mann', 'mit', 'einem', 'schwarzen', 'T', '-', 'Shirt', 'und', 'einer', 'Mütze', 'an', '.']], [['Eine', 'Person', 'in', 'einem', 'roten', 'Lang', 'arm', 'shirt', 'liegt', 'auf', 'sehr', 'ungewöhn', 'liche', 'Art', 'auf', 'einer', 'Mauer', 'vor', 'einem', 'Laternen', 'pfahl', '.']], [['Das', 'Bild', 'zeigt', 'Ton', 'waren', 'und', 'Autos', 'auf', 'einem', 'Parkplatz', 'und', 'einen', 'blau', 'gekleideten', 'Mann', ',', 'der', 'an', 'der', 'Vorderseite', 'seines', 'Autos', 'lehnt', '.']], [['Eine', 'Frau', 'in', 'Gelb', 'mit', 'einem', 'Kinderwagen', 'und', 'ein', 'Mann', 'mit', 'blauem', 'Hemd', 'und', 'Rucksack', 'gehen', 'durch', 'ein', 'beleb', 'tes', 'Stadt', 'qu', 'art', 'ier', '.']], [['Ein', 'Mann', 'in', 'einem', 'schnitt', 'igen', 'weißen', 'Hemd', 'blickt', 'der', 'Frau', 'in', 'die', 'Augen', ',', 'während', 'er', 'sie', 'am', 'Rücken', 'ihres', 'schwarz', '-', 'pinken', 'Kl', 'eide', 's', 'hält', '.']], [['Eine', 'junge', 'Frau', 'und', 'eine', 'ältere', 'Frau', 'in', 'traditionellen', 'Saris', 'sp', 'innen', 'Text', 'il', 'ien', ',', 'während', 'drei', 'weitere', 'Personen', 'in', 'moder', 'ner', 'Kleidung', 'nur', 'von', 'der', 'Ta', 'ille', 'abwärts', 'auf']], [['Ein', 'dunkelhäutiger', 'Mann', 'in', 'weißen', 'Shorts', 'und', 'einem', 'ärmellosen', 'schwarzen', 'Shirt', 'macht', 'mit', 'seinem', 'Skateboard', 'einen', 'Flip', 'auf', 'einer', 'Beton', 'fläche', ',', 'die', 'von', 'großen', 'Gebäuden', 'und', 'Palmen', 'umgeben', 'ist', '.']], [['Zwei', 'Hus', 'ar', 'en', 'sitzen', 'in', 'ex', 'tra', 'vag', 'an', 'ter', 'G', 'al', 'a', 'kleidung', 'auf', 'Pferden', ',', 'wobei', 'jeder', 'einen', 'Sä', 'bel', 'in', 'der', 'rechten', 'Hand', 'und', 'die', 'Z', 'ügel']], [['Zwei', 'Menschen', ',', 'von', 'denen', 'der', 'eine', 'wie', 'eine', 'Nonne', 'gekleidet', 'ist', 'und', 'der', 'andere', 'ein', 'Ro', 'ger', '-', 'S', 'mit', 'h', '-', 'T', '-', 'Shirt', 'trägt', ',', 'rennen', 'bei', 'einem']], [['Eine', 'Frau', 'liest', 'eine', 'Karte', 'und', 'sitzt', 'dabei', 'auf', 'der', 'Kante', 'eines', 'Sof', 'as', ',', 'während', 'eine', 'andere', 'Frau', 'mit', 'einem', 'Trink', 'glas', 'in', 'der', 'Hand', 'neben', 'ihr', 'steht', '.']], [['Ein', 'Metall', 'arbeiter', 'in', 'einer', 'Gegend', 'der', 'mittleren', 'Unter', 'sch', 'icht', 'oder', 'Unter', 'sch', 'icht', 'bedient', 'mit', 'der', 'rechten', 'Hand', 'ein', 'Schweiß', 'werkzeug', ',', 'während', 'er', 'in', 'der', 'linken', 'Hand', 'die']]]\n",
            "[['Zwei', 'Kinder', 'springen', '.'], ['Ein', 'Mann', 'auf', 'einem', 'Skateboard', 'an', 'einem', 'sehr', 'hohen', 'Sprung', 'an', 'einem', 'sehr', 'hohen', 'Sprung', 'an', 'einem', 'sehr', 'langen', 'Tag', '.'], ['Ein', 'Mann', 'mit', 'einem', 'Sweatshirt', ',', 'der', 'Stadt', '.'], ['Eine', 'Gruppe', 'von', 'schwarzen', '.'], ['Eine', 'Gruppe', 'junger', '.'], ['Ein', 'kleines', 'Mädchen', 'in', 'einem', 'schwarzen', 'Kleid', 'schaut', 'zu', '.'], ['Ein', 'kleiner', 'Junge', 'und', 'ein', 'Mädchen', 'hält', '.'], ['Ein', 'Mann', 'schaut', 'zu', '.'], ['Eine', 'Gruppe', 'von', 'Menschen', 'in', 'rosa', '-', '.'], ['Der', 'Mann', 'in', 'seinem', 'Fahrrad', 'macht', '.'], ['Eine', 'Frau', 'in', 'einer', 'weißen', 'Wand', '.'], ['Ein', 'Mann', 'in', 'einem', 'roten', 'Hemd', '.'], ['Zwei', 'Männer', 'unterhalten', '.'], ['Ein', 'Mann', 'mit', 'dem', 'Trainer', 'am', 'Kopf', '.'], ['Das', 'Feld', '.'], ['Ein', 'Mann', 'in', 'einem', 'rot', '-', 'weiß', '-', 'weißen', 'und', 'weißen', 'Hemd', 'sitzt', 'auf', 'einem', 'Hocker', 'auf', 'einem', 'Hocker', 'auf', 'einem', 'Hocker', 'auf', 'einem', 'Hocker', 'auf', 'einem', 'Hocker', 'Hocker', 'sitzt', 'auf', 'einem', 'Hocker', 'auf', 'einem', 'Hocker', 'auf', 'einem', 'Hocker', 'vor', 'einem', 'Hocker', 'neben', 'einem', 'Hocker', 'vor', 'einem', 'Hocker', 'vor', 'einem', 'Hocker', 'und', 'mit', 'rot', '-', 'weißen', ',', 'der', 'einen', 'Hotdog', '-', 'weißen', ',', 'der', 'einen', 'Hotdog', '-', 'weißen', 'und', 'mit', 'rot', '-', 'weißen', ',', 'der', 'einen', 'Hotdog', 'auf', 'einem', 'Hocker', 'lehnt', '.'], ['Ein', 'Mann', 'in', 'einem', 'Eimer', '.'], ['Eine', 'Frau', 'in', 'Uniform', 'rennt', '.'], ['Ein', 'asiatischer', ',', 'asiatischer', 'Obst', 'und', 'ein', '.'], ['Eine', 'Gruppe', 'von', 'Asiaten', 'macht', '.'], ['Eine', 'Braut', 'hält', '.'], ['Eine', 'Gruppe', 'von', 'Zuschauern', 'in', 'Schwarz', '.'], ['Ein', 'kleines', 'Mädchen', 'in', 'einem', 'kleinen', 'blauen', 'Ball', '.'], ['Ein', 'Mann', 'macht', 'ein', 'Foto', '.'], ['Zwei', 'Männer', '.'], ['Zwei', '.'], ['Zwei', 'kleine', 'Mädchen', 'spielen', 'Basketball', '.'], ['Dieser', 'Stadt', 'zu', 'machen', '.'], ['Ein', 'Afroamerikaner', '.'], ['Ein', 'Mann', 'sitzt', 'in', 'der', 'Straße', 'an', '.'], ['Das', 'Bild', '.'], ['Eine', 'afroamerikanische', 'Frau', 'sitzt', 'an', 'einem', 'braunen', 'Tisch', '.'], ['Ein', 'Junge', 'in', 'einem', 'weißen', 'Hemd', 'geht', '.'], ['Ein', 'Mann', 'und', 'eine', 'Frau', ',', 'die', 'Frau', 'in', 'einem', 'Kinderwagen', 'gehen', 'vorbei', 'gehen', 'vorbei', '.'], ['Ein', 'Mann', 'in', 'kurzen', 'Jeans', 'spricht', '.'], ['Ein', 'Skifahrer', '.'], ['Zwei', 'Frauen', ',', 'treten', 'in', 'einem', 'Kampf', 'auf', 'einer', 'Matte', 'gegeneinander', 'an', '.'], ['Ein', 'kleines', 'Mädchen', 'spielt', 'mit', 'einem', 'kleines', ',', '.'], ['Ein', 'Fußballspiel', '.'], ['Zwei', 'Männer', 'in', 'schwarzer', 'Kleidung', '.'], ['Eine', 'Ecke', '.'], ['Ein', 'kleines', 'Mädchen', 'liegt', 'auf', 'dem', 'Boden', '.'], ['Männer', 'in', 'gelben', 'Anzügen', '.'], ['Ein', 'Mann', 'in', 'Feuerwehr', 'kleidung', '.'], ['Ein', 'Mann', 'in', 'einem', 'grünen', 'Hemd', 'küsst', 'sich', 'während', 'ein', 'Rennen', 'auf', 'einem', 'Straßenrennen', 'teil', 'während', 'er', 'ein', 'Rennen', 'auf', 'einem', 'Straßenrennen', 'teil', 'und', 'ein', 'Rennen', 'auf', 'einem', 'Straßenrennen', 'teil', 'und', 'ein', 'Kleinkind', 'in', 'einem', 'Straßenrennen', 'teil', 'während', 'er', 'sich', 'während', 'ein', 'Kleinkind', 'in', 'einem', 'Straßenrennen', 'zusieht', '.'], ['Ein', 'Mädchen', 'in', 'einem', 'rot', '-', 'weißen', 'Oberteil', 'bereitet', 'sich', 'darauf', 'vor', ',', 'einen', 'Ball', 'zu', 'werfen', ',', 'einen', 'Ball', 'zu', 'werfen', ',', 'in', 'einem', 'rot', '-', 'weißen', 'Hemd', 'vor', ',', 'in', 'einem', 'rot', '-', 'weißen', 'und', 'blauen', 'Oberteil', 'bereitet', 'sich', 'darauf', 'vor', ','], ['Zwei', 'Männer', 'warten', 'auf', 'dem', 'Rücksitz', '.'], ['Vier', 'Kinder', '.'], ['Zwei', 'kleine', 'Mädchen', 'in', 'einem', 'rosafarbenen', 'Schlafanzug', '.'], ['Drei', 'ältere', 'Frauen', 'in', 'einem', 'Wohnzimmer', '.'], ['Eine', 'Frau', 'in', 'weißen', 'kurzen', '.'], ['Auf', 'einer', 'Ecke', '.'], ['Zwei', 'Hockeyspieler', 'bereit', '.'], ['Ein', 'dunkelhäutiger', 'Mann', 'an', 'Telefon', '.'], ['Eine', 'Straßenszene', '.'], ['Eine', 'junge', 'Frau', 'in', 'grün', '.'], ['Fünf', '.'], ['Eine', 'Gruppe', 'von', 'Menschen', '.'], ['Ein', 'lächelnder', 'junger', 'Mann', 'und', 'Jeans', 'geht', 'an', 'den', 'Strand', 'entlang', '.'], ['Der', 'Mann', 'mit', 'dem', 'Hut', 'ab', '.'], ['Ein', 'Kleinkind', ',', 'während', 'ein', 'Kleinkind', 'von', 'Mutter', 'mit', 'einer', 'kleinen', 'Mutter', 'mit', 'einer', 'kleinen', 'Mutter', 'mit', 'einem', 'grünen', 'Bluse', 'von', 'Mutter', 'in', 'einem', 'grünen', 'Hemd', 'von', 'Mutter', 'mit', 'einem', 'grünen', 'Oberteil', 'ihre', 'Zähne', 'mit', 'einer', 'grünen', 'Oberteil', 'ihre', 'Zähne', 'mit', 'einem', 'grünen', 'Oberteil', 'ihre', 'Arme', 'gehoben', 'werden', 'in', 'einem', 'grünen', 'Hemd', 'mit', 'einem', 'grünen', 'Oberteil', 'aus', ',', 'während', 'ein', 'Kleinkind', 'in', 'einem', 'grünen', 'Oberteil', 'von', 'einer', 'grünen', 'Oberteil', 'aus', ',', 'während', 'sie', 'von', 'einer', 'grünen', 'Oberteil', 'ihre', 'Zähne', 'mit', 'einem', 'grünen', 'Oberteil', 'ihre', 'Zähne', 'mit', 'einem', 'grünen', 'Oberteil', 'ihre', 'Arme', 'in', 'einem', 'grünen', 'Bluse', 'mit', 'einem', 'grünen', 'Oberteil', 'ihre'], ['Ein', 'Mädchen', 'wird', 'zu', 'werfen', '.'], ['Zwei', 'Männer', ',', 'stehen', 'im', 'Freien', 'und', 'singen', '.'], ['Drei', 'Frauen', 'in', 'dunklen', 'Hüten', '.'], ['Eine', 'Frau', 'und', 'die', 'Luft', 'springt', 'hoch', '.'], ['Eine', 'Frau', 'in', 'einem', 'weißen', '.'], ['Ein', 'großer', 'Hund', 'springt', 'in', 'der', 'Nähe', '.'], ['Ein', 'Verkäufer', 'auf', 'einem', 'Markt', '.'], ['Ein', 'Mann', 'legt', 'sich', 'die', 'Tür', '.'], ['Eine', 'Frau', 'mit', 'schwarzen', 'Haaren', 'und', 'einem', 'schwarzen', 'Haaren', 'schüttelt', 'sich', 'die', 'Haare', ',', 'die', 'Haare', '.'], ['Ein', 'Mann', 'auf', 'dem', 'Boden', ',', 'der', 'Boden', 'liegt', '.'], ['Ein', 'Bild', '.'], ['Zwei', 'Männer', '.'], ['Ein', 'Mädchen', 'in', 'einem', 'schwarzen', 'Tanktop', ',', '.'], ['Ein', 'kleines', 'blondes', 'Mädchen', 'ein', 'Stofftier', '.'], ['Der', 'An', 'ent', 'wirft', ',', 'während', 'der', 'J', 'A', 'H', 'ort', 'ab', '-', 'Fahrer', 'die', 'J', 'A', '-', 'Fahrer', 'mit', 'dem', 'Fahrer', 'im', 'grünen', 'Schutzhelm', 'um', 'den', 'Fahrer', 'mit', 'dem', 'Fahrer', 'mit', 'dem', 'Fahrer', 'im', 'grünen', 'Schutzhelm', 'um', 'den', 'Fahrer', 'ab', 'Ski', 'fahren', 'Ski', 'fahren', 'Ski', 'fahren', 'mit', 'dem', 'Fahrer', 'mit', 'dem', 'Fahrer', 'mit', 'dem', 'Skateboard', '-', 'Fahrer', 'um', 'dreht', 'sich', 'um', 'dreht', 'auf', 'dem', 'Weg', 'zur', 'dreht', 'den', 'Fahrer', 'eines', 'Segel', 'schiff', 'herum', ',', 'der', 'Fahrer', 'um', 'den', 'Fahrer', 'um', 'dreht', 'sich', 'um', 'dreht', 'auf', 'dem', 'Fahrer', 'mit', 'dem', 'Weg', 'bis', 'der', 'Fahrer', 'mit', 'dem', 'Fahrer', 'mit', 'dem', 'Fahrer'], ['Eine', 'Frau', 'in', 'einem', 'rosafarbenen', 'Pullover', ',', 'wie', 'eine', 'Frau', 'mit', 'einem', 'rosafarbenen', 'Pullover', ',', 'die', 'eine', 'rosa', 'Oberteil', 'mit', 'einem', 'rosafarbenen', 'Pullover', 'trägt', ',', 'Pullover', 'trägt', ',', 'zeigt', ',', 'die', 'ein', 'rosa', 'Oberteil', 'und', 'ein', 'gestreiftes', 'Hemd', 'mit', 'einem', 'rosafarbenen', 'Pullover', 'mit', 'einem', 'rosafarbenen', 'Pullover', 'mit', 'einem', 'rosafarbenen', 'Pullover', 'mit', 'einem', 'rosafarbenen', 'Pullover', 'mit', 'einem', 'rosafarbenen', 'Pullover', ',', 'während', 'eine', 'Frau', 'in', 'einem', 'rosafarbenen', 'Pullover', 'mit', 'einem', 'rosafarbenen', 'Pullover', 'mit', 'einem', 'rosafarbenen', 'Pullover', 'mit', 'einem', 'rosafarbenen', 'Pullover', 'mit', 'einem', 'rosafarbenen', 'Pullover', 'mit', 'einem', 'rosafarbenen', 'Pullover', 'mit', 'einem', 'rosafarbenen', 'Pullover', ',', 'die', 'ein', 'in', 'einem', 'rosafarbenen', 'Pullover', 'mit', 'einem', 'rosafarbenen'], ['Ein', 'Mann', 'sitzt', 'auf', 'einem', 'Stuhl', '.'], ['Ein', 'Mann', ',', 'der', 'einen', 'großen', ',', 'von', 'einem', 'Sch', 'weißen', 'Team', 'von', 'einem', 'Sch', 'weißen', 'Rohr', 'wird', 'von', 'einem', 'Sch', 'weißen', 'Scheibe', 'von', 'einem', 'großen', 'T', 'ort', 'von', 'einem', 'Sch', 'weißen', 'Scheibe', 'von', 'einem', 'großen', ',', 'von', 'einer', 'großen', 'weißen', 'Frisbee', '-', 'Scheibe', 'von', 'einer', 'großen', 'Scheibe', 'geworfen', 'hat', ',', 'der', 'von', 'einer', 'großen', ',', 'während', 'ein', 'anderer', 'in', 'einer', 'großen', ',', 'der', 'von', 'einem', 'von', 'einem', 'aus', 'großen', ',', 'der', 'ein', 'anderer', 'von', 'einem', 'von', 'einem', 'großen', ',', 'der', 'einen', 'von', 'einer', 'großen', ',', 'der', 'aus', 'langen', 'Scheibe', 'gezogen', 'wird', 'von', 'einem', 'w', 'ort', 'st', 'imm', 'ten', 'weißen'], ['Ein', 'Raum', '.'], ['Personen', 'stehen', 'zusammen', '.'], ['Ein', 'V', 'ent', 'repariert', '.'], ['Ein', 'Mann', 'in', 'einem', 'gelben', 'Oberteil', 'steht', 'vor', 'einem', 'kleinen', 'Hütte', ',', 'der', 'vor', 'einem', 'kleinen', 'Hütte', 'steht', ',', 'während', 'ein', '.'], ['Eine', 'ältere', 'Frau', 'mit', 'einem', 'Skateboard', '.'], ['Zwei', 'Frauen', 'in', 'blauen', 'Anzügen', '.'], ['Ein', 'Mann', 'in', 'einem', 'blauen', 'Hemd', 'hält', ',', 'das', '„', 'I', 'lo', 'cke', 'der', 'Hand', ',', 'der', 'Hand', 'in', 'einem', 'blauen', 'Hemd', 'hält', ',', 'in', 'einem', 'blauen', 'Hemd', 'hält', ',', 'hält', ',', 'hält', ',', 'hält', ',', 'auf', 'dem', 'ein', 'Schild', 'mit', 'einem', 'blauen', 'Hemd', ',', 'in', 'einem', 'blauen', 'Hemd', ',', 'auf', 'dem', 'ein', 'Schild', 'mit', 'dem', 'ein', 'Schild', 'mit', 'dem', 'ein', 'Schild', 'mit', 'dem', 'ein', 'Schild', 'hoch', ',', 'der', 'ein', 'Schild', 'mit', 'dem', 'ein', 'Schild', 'hoch', 'in', 'einem', 'blauen', 'Hemd', 'mit', 'dem', 'ein', 'Schild', 'mit', 'dem', 'ein', 'Schild', 'mit', 'einem', 'blauen', 'Hemd', ',', 'der', 'ein', 'Schild', 'mit', 'einem', 'blauen', 'Hemd'], ['Ein', 'Junge', 'und', 'im', 'Hintergrund', 'steht', 'ein', 'Mädchen', 'in', 'einer', 'rosafarbenen', 'Overall', ',', 'der', 'Junge', ',', 'der', 'ein', 'Mädchen', 'in', 'einer', 'rosafarbenen', 'Overall', 'steht', 'und', 'ein', 'Mädchen', 'in', 'einer', 'rosafarbenen', 'Overall', ',', 'der', 'ein', 'Mädchen', 'in', 'einer', 'rosafarbenen', 'Overall', 'und', 'ein', 'Mädchen', 'in', 'einem', 'schwarzen', 'Overall', 'und', 'sehen', 'steht', 'und', 'ein', 'Mädchen', 'in', 'einer', 'rosafarbenen', 'Overall', ',', 'der', 'ein', 'Mädchen', 'in', 'einer', 'rosafarbenen', 'und', 'im', 'Hintergrund', ',', 'der', 'ein', 'und', 'ein', 'Mädchen', 'in', 'einem', 'in', 'einer', 'rosafarbenen', 'und', 'im', 'Hintergrund', 'stehen', 'und', 'im', 'Hintergrund', 'stehen', 'und', 'sehen', 'steht', 'und', 'sehen', 'in', 'einer', 'rosafarbenen', 'Overall', 'stehen', 'und', 'sehen', ',', 'der', 'ein'], ['Ein', 'älterer', 'Mann', 'sitzt', 'auf', 'einer', 'Bank', 'vor', 'einem', 'großen', 'Schild', 'mit', 'der', 'Aufschrift', '„', 'Ein', 'älterer', 'Mann', ',', 'der', 'Aufschrift', '„', 'Ein', 'älterer', 'Mann', 'in', 'einer', 'Bank', ',', 'der', 'Aufschrift', '„', 'I', 'mit', 'einem', 'großen', 'Banner', 'mit', 'einem', 'großen', 'Banner', 'mit', 'einem', 'großen', 'Banner', 'mit', 'einem', 'großen', 'Banner', 'mit', '„', 'I', 'I', 'O', '“.'], ['Ein', 'Mann', ',', 'der', 'einen', 'Hügel', 'hinunter', 'ist', '.'], ['Ein', 'Baseballspieler', 'mit', 'einem', 'roten', 'Trikot', ',', 'der', 'Fänger', 'und', 'weißen', 'Trikot', 'mit', 'einem', 'roten', 'Helm', 'schießt', ',', 'der', 'Base', '-', 'Baseballspieler', 'mit', 'einem', 'roten', 'Helm', 'trägt', 'einen', 'roten', 'Helm', 'und', 'weißen', 'Trikot', 'mit', 'einem', 'roten', 'Helm', 'und', 'weißen', 'Helm', 'vor', 'dem', 'Kopf', 'und', 'weißen', 'Trikot', 'mit', 'einem', 'roten', 'Helm', 'vor', 'dem', 'Kopf', ',', 'der', 'Fänger', ',', 'der', 'Fänger', ',', 'der', 'Fänger', ',', 'der', 'Fänger', ',', 'der', 'Fänger', ',', 'der', 'Fänger', 'mit', 'einem', 'roten', 'Helm', 'mit', 'einem', 'roten', 'Helm', 'mit', 'einem', 'roten', 'Helm', 'mit', 'einem', 'roten', 'Helm', 'mit', 'einem', 'roten', 'Helm', 'mit', 'einem', 'roten', 'Helm', 'mit', 'einem', 'roten', 'Helm', 'mit'], ['Ein', 'Mann', 'mit', 'einem', 'Ab', 'schlag', 'in', 'einem', 'Marathon', '.'], ['Ein', 'Zug', '.'], ['Ein', 'Mann', 'mit', 'einem', 'weißen', 'Pferd', '.'], ['Ein', 'Mann', ',', 'der', 'Bahn', 'in', 'einem', 'schwarzen', 'Oberteil', ',', 'auf', 'eine', 'Bowlingbahn', 'einen', 'Bahn', ',', 'auf', 'einer', 'Bowlingbahn', 'hält', ',', 'in', 'einer', 'Bowlingbahn', 'einen', 'Bahn', 'hinunter', ',', 'ein', 'Bahn', 'hinunter', ',', 'in', 'der', 'Bahn', '-', 'Bahn', '-', 'Bahn', '-', 'Bahn', '-', 'Bahn', 'hinunter', ',', 'auf', 'einer', 'Bowlingbahn', 'einen', 'Bowlingbahn', 'einen', 'Bahn', ',', 'der', 'eine', 'Bowlingbahn', ',', 'ein', 'Mann', 'in', 'einer', 'Bowlingbahn', ',', 'der', 'die', 'Bahn', 'weg', ',', 'ein', 'Mann', ',', 'der', 'einen', 'Ball', 'hält', ',', 'der', 'Bahn', 'hoch', ',', 'der', 'eine', 'Bowlingkugel', 'und', 'die', 'Bahn', 'weg', ',', 'der', 'Bahn', 'in', 'einem', 'mit', 'einem', 'in', 'einem', 'schwarzen', 'Oberteil', 'hält', ','], ['Drei', 'Frauen', '.'], ['Ein', 'Mann', 'in', 'einem', 'grauen', 'T', '-', 'Shirt', 'arbeitet', 'an', 'einem', 'Holz', '-', 'Shirt', 'mit', 'einem', 'Holz', '-', 'Shirt', ',', 'der', 'einen', 'Holz', '-', 'Shirt', 'in', 'einem', 'grauen', 'T', '-', 'Shirt', 'mit', 'grauem', 'T', '-', 'Shirt', 'in', 'einem', 'grauen', 'T', '-', 'Shirt', 'mit', 'grauem', 'T', '-', 'Shirt', 'mit', 'einem', 'grauen', 'T', '-', 'Shirt', 'mit', 'einem', 'grauen', 'T', '-', 'Shirt', 'mit', 'grauem', 'T', '-', 'Shirt', 'in', 'einem', 'grauen', 'T', '-', 'Shirt', 'mit', 'grauem', 'T', '-', 'Shirt', 'mit', 'grauem', 'T', '-', 'Shirt', 'mit', 'grauem', 'T', '-', 'Shirt', 'mit', 'einem', 'grauen', 'T', '-', 'Shirt', 'in', 'einem', 'grauen', 'T', '-', 'Shirt', 'mit', 'einem', 'grauen'], ['Eine', ',', 'Frau', 'in', 'einem', 'roten', 'Mantel', ',', 'die', 'einen', 'Schlag', 'mit', 'einem', 'Sprung', 'mit', 'einem', 'roten', 'Mantel', 'trägt', ',', 'die', 'Höhe', ',', 'die', 'Höhe', ',', 'der', 'einen', 'Schlag', 'in', 'einem', 'roten', 'Mantel', ',', 'die', 'einen', 'Schlag', 'in', 'einem', 'roten', 'Mantel', 'und', 'einen', 'Schlag', 'mit', 'einem', 'roten', 'Mantel', ',', 'der', 'für', 'einen', 'Schlag', 'mit', 'einem', 'roten', 'Mantel', ',', 'der', 'für', 'den', 'Boden', 'in', 'einem', 'von', 'dem', 'Boden', 'in', 'einem', 'roten', 'Mantel', ',', 'der', 'für', 'einen', 'Schlag', 'in', 'einem', 'roten', 'Mantel', ',', 'der', 'einen', 'Schlag', 'mit', 'einem', 'roten', 'Mantel', 'mit', 'einem', 'roten', 'Mantel', 'mit', 'einem', 'roten', 'Mantel', 'mit', 'einem', 'roten', 'Mantel'], ['In', 'einem', 'Ring', 'hält', 'ein', 'Ring', ',', 'ein', 'Ring', '.'], ['Zwei', ',', 'die', 'in', 'der', 'gleich', 'halten', 'einen', 'sehr', 'dicht', 'beieinander', ',', 'wobei', 'über', 'einen', 'sehr', 'schnell', 'über', 'dem', 'Kopf', 'hält', 'und', 'ein', 'Kind', 'in', 'der', 'Luft', 'gesprungen', 'ist', 'von', 'einem', 'großen', 'Sprung', 'mit', 'einem', 'großen', 'Kopf', 'ab', 'ab', 'ab', 'gew', 'unden', 'halten', 'Kopf', 'halten', ',', 'wobei', 'sich', 'von', 'einem', 'großen', 'Sprung', 'ab', 'gew', 'unden', 'in', 'der', 'tief', 'in', 'der', 'gleich', 'aus', 'dem', 'ein', 'großes', ',', 'um', 'ver', 'fallen', ',', 'der', 'ein', 'großes', ',', 'der', 'von', 'einem', 'großen', ',', 'um', 'fallen', 'in', 'der', 'von', 'einem', 'großen', ',', 'die', 'Luft', 'über', 'dem', 'ein', 'großes', 'über', 'dem', 'Kopf', 'halten', '.'], ['Ein', 'paar', 'Bauarbeiter', '.'], ['Ein', 'kleines', 'Kind', '.'], ['Ein', 'Mann', 'mit', 'Dreadlocks', 'sitzt', 'auf', 'einem', 'Stuhl', 'auf', 'einer', 'gepflasterten', 'Straße', '.'], ['Ein', 'Mann', 'in', 'einem', 'hell', 'erleuchteten', 'Raum', '.'], ['Kinder', ',', 'die', 'auf', 'verschiedenen', 'Richtungen', 'mit', 'einem', 'großen', 'See', 'oder', 'einem', 'großen', 'See', 'stehen', ',', 'die', 'auf', 'verschiedenen', 'Richtungen', 'mit', 'vielen', 'Luft', '.'], ['Eine', 'Frau', 'und', 'ein', 'Mann', 'gehen', 'zusammen', 'vorbei', '.'], ['Eine', 'dunkelhaarige', 'Person', 'hält', 'ein', 'Banner', '.'], ['Ein', 'sehr', 'kleines', 'Kind', ',', 'der', 'Küche', 'sitzt', 'und', 'spielt', ',', 'in', 'einem', 'sehr', 'schnell', 'mit', 'einer', 'sehr', 'schnell', 'und', 'spielt', ',', 'der', 'Küche', '.'], ['Eine', 'Frau', 'mit', 'Sonnenbrille', 'und', 'schwarzem', 'Hemd', ',', 'die', 'Kamera', ',', 'die', 'einen', 'älteren', 'Mann', 'mit', 'Sonnenbrille', ',', 'verkauft', ',', 'die', 'eine', 'Kopfbedeckung', 'und', 'Kopfbedeckung', 'und', 'Kopfbedeckung', 'und', 'einem', 'schwarzen', 'Hemd', ',', 'verkaufen', '.'], ['Eine', 'Person', 'in', 'einem', 'sehr', 'hoch', '.'], ['Ein', 'Auto', 'und', 'lehnt', 'sich', 'vor', 'seinem', 'Auto', '.'], ['Eine', 'belebte', 'Straße', 'in', 'einem', 'geschäftigen', 'Stadt', '.'], ['Ein', 'Mann', 'in', 'einem', 'rosa', 'Kleid', 'und', 'hält', 'den', 'Augen', ',', 'die', 'Augen', 'in', 'einem', 'schwarzen', 'Kleid', 'und', 'blickt', 'in', 'einem', 'schwarzen', 'Kleid', 'mit', 'einem', 'altmodischen', 'Kleid', 'in', 'einem', 'rosafarbenen', 'Kleid', 'mit', 'dem', 'Kopf', 'in', 'einem', 'altmodischen', 'weißen', 'Kleid', 'mit', 'dem', 'Kopf', 'in', 'einem', 'altmodischen', 'Hemd', 'mit', 'einem', 'altmodischen', 'weißen', 'Kleid', ',', 'der', 'ein', 'Mann', 'in', 'einem', 'altmodischen', 'weißen', 'Kleid', 'in', 'einem', 'altmodischen', 'weißen', 'Kleid', ',', 'der', 'ein', 'Mann', 'in', 'einem', 'altmodischen', 'weißen', 'Kleid', 'hoch', 'in', 'einem', 'altmodischen', 'weißen', 'Kleid', 'blickt', 'und', 'die', 'Augen', 'von', 'hinten', 'und', 'die', 'Augen', 'in', 'einem', 'burgunderroten', 'Hemd', 'mit', 'einem', 'ungewöhnlichen', 'Kleid', 'blickt', 'in', 'einem'], ['Eine', 'junge', 'Frau', 'in', ',', 'die', 'Kamera', 'und', 'die', 'Luft', 'machen', ',', 'die', 'meisten', 'davon', 'mit', 'traditioneller', ',', 'die', 'für', 'die', 'meisten', 'davon', 'in', 'traditioneller', 'und', 'tragen', ',', 'die', 'meisten', 'davon', 'mit', 'traditionellen', 'und', 'eine', 'junge', 'Frau', ',', 'die', 'traditionelle', 'und', 'tragen', 'und', 'tragen', 'und', 'tragen', ',', 'unterhalten', 'sich', 'in', 'traditioneller', ',', 'unterhalten', ',', 'die', 'einen', 'traditionellen', 'und', 'die', 'eine', 'junge', 'Frau', ',', 'die', 'alle', 'in', 'traditioneller', ',', 'unterhalten', 'und', 'tragen', ',', 'umarmen', 'und', 'tragen', ',', 'die', 'alle', 'in', 'traditioneller', 'tragen', ',', 'unterhalten', 'und', 'tragen', ',', 'tragen', ',', 'die', 'beide', 'mit', 'traditionellen', 'und', 'tragen', ',', 'tragen', ',', 'unterhalten', 'und', 'unterhalten'], ['mit', 'schwarzen', 'T', '-', 'Shirt', 'und', 'einem', 'großen', 'weißen', 'Oberteil', ',', 'die', 'von', 'hohen', 'Palmen', 'umgeben', 'von', 'hohen', 'Stein', '-', 'Shirt', 'und', 'einem', 'großen', ',', 'der', 'von', 'hohen', 'Stein', 'in', 'weißen', 'Oberteil', 'in', 'weißen', ',', 'schwarzen', 'Oberteil', ',', 'weißen', 'Oberteil', 'mit', 'schwarzen', 'T', '-', 'Shirt', 'und', 'einem', 'schwarzen', 'Shirt', 'mit', 'schwarzen', ',', 'mit', 'schwarzen', ',', 'der', 'von', 'hohen', 'Stein', 'in', 'weißen', ',', 'der', 'von', 'hohen', 'Stein', 'von', 'hohen', 'mit', 'schwarzen', ',', 'der', 'von', 'hohen', 'Stein', 'und', 'einem', 'schwarzen', ',', 'von', 'einer', 'mit', 'einer', 'mit', 'einer', 'mit', 'weißen', ',', 'in', 'weißen', ',', 'in', 'einem', 'schwarzen', ',', 'in', 'weißen', ',', 'in', 'weißen'], ['Zwei', 'rechten', 'Hand', '.'], ['Zwei', ',', 'die', 'ein', 'Rennen', ',', '.'], ['Eine', 'Frau', 'sitzt', 'an', 'einem', 'Sofa', 'und', 'hält', 'ein', 'Glas', ',', 'während', 'eine', 'Frau', 'neben', 'einem', 'Sofa', 'steht', ',', 'während', 'eine', 'Frau', 'neben', 'einem', 'Sofa', 'neben', 'einem', 'Sofa', 'neben', 'einem', 'Sofa', 'neben', 'einem', 'Sofa', 'neben', 'einem', 'Sofa', 'neben', 'einem', 'Sofa', 'neben', 'einem', 'Sofa', 'neben', 'einem', 'Sofa', 'neben', 'einem', 'Sofa', 'neben', 'einem', 'Sofa', 'neben', 'einer', 'Couch', 'neben', 'einem', 'Sofa', ',', 'während', 'eine', 'Zeitung', ',', 'während', 'eine', 'Frau', 'neben', 'einem', 'Sofa', 'neben', 'einem', 'Sofa', 'neben', 'ihr', 'ein', 'Getränk', ',', 'die', 'ein', 'Getränk', 'in', 'der', 'eine', 'liest', ',', 'liest', ',', 'liest', '.'], ['Ein', 'männlicher', 'oder', 'der', 'linken', 'Hand', 'hält', 'in', 'der', 'linken', 'Hand', ',', 'während', 'einer', 'Sch', 'männlicher', 'Metall', 'männliche', 'Metall', 'dach', 'oder', 'einer', 'Metallstange', 'in', 'der', 'rechten', 'Hand', 'einen', 'Metall', 'schüssel', ',', 'der', 'rechten', 'Hand', 'ein', 'Metall', 'schweißt', ',', 'ab', 'Metall', 'schüssel', ',', 'wobei', 'einer', 'Metall', 'schweißt', ',', 'während', 'er', 'mit', 'einem', 'seltsamen', 'Metall', 'schüssel', ',', 'während', 'der', 'linken', 'in', 'der', 'linken', 'von', 'oben', 'in', 'der', 'von', 'einem', 'seltsamen', 'Metall', 'dach', 'von', 'einem', 'seltsamen', 'Metall', 'schweißt', ',', 'der', 'rechten', 'Hand', 'ein', 'schweißt', ',', 'der', 'rechten', 'Hand', 'benutzt', ',', 'der', 'rechten', 'Hand', 'in', 'der', 'rechten', 'mit', 'einem', 'schweißt', ',', 'der', 'rechten', 'Hand']]\n",
            "0.11174356597785251\n",
            "[0.2832453618116149, 0.11076582692711526, 0.12635072519455307, 0.059892924435069626, 0.04598748771498824, 0.04011910381374324, 0.03258468946175708, 0.11174356597785251]\n",
            "0.10133621066708674\n"
          ]
        }
      ],
      "source": [
        "#del model\n",
        "\n",
        "evalModel()"
      ]
    },
    {
      "cell_type": "code",
      "execution_count": 46,
      "metadata": {
        "id": "5BkJ1C4ihIEB"
      },
      "outputs": [],
      "source": [
        "def predictFromTokens(model, input, srcVocab, tgtVocab, maxLength):\n",
        "    with torch.no_grad():\n",
        "        predictions = []\n",
        "        for line in input:\n",
        "            line = line.reshape(1, line.shape[0])\n",
        "            src_mask = (line != PADDING_IDX).unsqueeze(-2)\n",
        "            encodings = model.encode(line, src_mask)\n",
        "            output = \"[SOS]\"\n",
        "            output = torch.IntTensor(deTokenizer.encode(output).ids)\n",
        "            output = output.reshape(1, output.shape[0]).to(device)\n",
        "            i = 0\n",
        "            #print(input)\n",
        "            # print(output)\n",
        "            while i < maxLength: # while its not [EOS]\n",
        "                tgt_mask = (output != PADDING_IDX).unsqueeze(-2)\n",
        "                # print(line.shape)\n",
        "                # print(output.shape)\n",
        "                prediction = model.decode(encodings, output, src_mask, tgt_mask)[0, -1]\n",
        "                argmaxOutput = torch.argmax(prediction, -1)\n",
        "                #print(argmaxOutput)\n",
        "                #print(argmaxOutput.shape)\n",
        "                #print(argmaxOutput)\n",
        "                if argmaxOutput == 1:\n",
        "                    break\n",
        "            \n",
        "                #print(output.shape)\n",
        "                \n",
        "                output = torch.cat((output, argmaxOutput.reshape((1,1))), -1)\n",
        "                #print(decodeSentences(output, deTokenizer))\n",
        "                #print(output.shape)\n",
        "                i+=1\n",
        "            predictions.append(decodeSentences(output, deTokenizer)[0])\n",
        "    return predictions\n"
      ]
    },
    {
      "cell_type": "code",
      "execution_count": null,
      "metadata": {
        "id": "bTIojMT2NcJp"
      },
      "outputs": [],
      "source": [
        "def predict(model, input, maxLength):\n",
        "  with torch.no_grad():\n",
        "\n",
        "    input += \"[EOS]\"\n",
        "    input = torch.IntTensor(enTokenizer.encode(input).ids)\n",
        "    print(input)\n",
        "    input = input.reshape(1, input.shape[0]).to(device)\n",
        "    output = \"[SOS]\"\n",
        "    output = torch.IntTensor(deTokenizer.encode(output).ids)\n",
        "    output = output.reshape(1, output.shape[0]).to(device)\n",
        "    i = 0\n",
        "    #print(input)\n",
        "   # print(output)\n",
        "    while i < maxLength: # while its not [EOS]\n",
        "      src_mask = (input != PADDING_IDX).unsqueeze(-2)\n",
        "      tgt_mask = makeStdMask(output)\n",
        "      prediction = model(input, output, src_mask, tgt_mask)[0, -1]\n",
        "      argmaxOutput = torch.argmax(prediction, -1)\n",
        "      #print(argmaxOutput.shape)\n",
        "      #print(argmaxOutput)\n",
        "      if argmaxOutput == 1:\n",
        "        print(decodeSentences(output, deTokenizer))\n",
        "        break\n",
        "      i+=1\n",
        "      #print(output.shape)\n",
        "      \n",
        "      output = torch.cat((output, argmaxOutput.reshape((1,1))), -1)\n",
        "      print(decodeSentences(output, deTokenizer))\n",
        "      #print(output.shape)\n"
      ]
    },
    {
      "cell_type": "code",
      "execution_count": null,
      "metadata": {
        "id": "xXTnO0KGep0y",
        "outputId": "32c58390-1e2d-4bd7-f6a3-89682d42a666",
        "colab": {
          "base_uri": "https://localhost:8080/"
        }
      },
      "outputs": [
        {
          "output_type": "execute_result",
          "data": {
            "text/plain": [
              "WholeNetwork(\n",
              "  (embeddingSrc): EmbeddingLayer(\n",
              "    (embedding): Embedding(10000, 512, padding_idx=2)\n",
              "  )\n",
              "  (embeddingTgt): EmbeddingLayer(\n",
              "    (embedding): Embedding(10000, 512, padding_idx=2)\n",
              "  )\n",
              "  (posEncoding): PositionalEncoding(\n",
              "    (dropout): Dropout(p=0.1, inplace=False)\n",
              "  )\n",
              "  (encoder): Encoder(\n",
              "    (layers): ModuleList(\n",
              "      (0-2): 3 x EncoderLayer(\n",
              "        (selfAttention): MultiHeadedAttention(\n",
              "          (qWeight): Linear(in_features=512, out_features=512, bias=True)\n",
              "          (kWeight): Linear(in_features=512, out_features=512, bias=True)\n",
              "          (vWeight): Linear(in_features=512, out_features=512, bias=True)\n",
              "          (finalWeight): Linear(in_features=512, out_features=512, bias=True)\n",
              "          (dropout): Dropout(p=0.1, inplace=False)\n",
              "        )\n",
              "        (feedForward): FeedForwardNN(\n",
              "          (linear1): Linear(in_features=512, out_features=2048, bias=True)\n",
              "          (linear2): Linear(in_features=2048, out_features=512, bias=True)\n",
              "          (dropout): Dropout(p=0.1, inplace=False)\n",
              "        )\n",
              "        (sublayer1): Sublayer(\n",
              "          (function): MultiHeadedAttention(\n",
              "            (qWeight): Linear(in_features=512, out_features=512, bias=True)\n",
              "            (kWeight): Linear(in_features=512, out_features=512, bias=True)\n",
              "            (vWeight): Linear(in_features=512, out_features=512, bias=True)\n",
              "            (finalWeight): Linear(in_features=512, out_features=512, bias=True)\n",
              "            (dropout): Dropout(p=0.1, inplace=False)\n",
              "          )\n",
              "          (layerNorm): LayerNorm()\n",
              "          (dropout): Dropout(p=0.1, inplace=False)\n",
              "        )\n",
              "        (sublayer2): Sublayer(\n",
              "          (function): FeedForwardNN(\n",
              "            (linear1): Linear(in_features=512, out_features=2048, bias=True)\n",
              "            (linear2): Linear(in_features=2048, out_features=512, bias=True)\n",
              "            (dropout): Dropout(p=0.1, inplace=False)\n",
              "          )\n",
              "          (layerNorm): LayerNorm()\n",
              "          (dropout): Dropout(p=0.1, inplace=False)\n",
              "        )\n",
              "      )\n",
              "    )\n",
              "  )\n",
              "  (decoder): Decoder(\n",
              "    (layers): ModuleList(\n",
              "      (0-2): 3 x DecoderLayer(\n",
              "        (selfAttention): MultiHeadedAttention(\n",
              "          (qWeight): Linear(in_features=512, out_features=512, bias=True)\n",
              "          (kWeight): Linear(in_features=512, out_features=512, bias=True)\n",
              "          (vWeight): Linear(in_features=512, out_features=512, bias=True)\n",
              "          (finalWeight): Linear(in_features=512, out_features=512, bias=True)\n",
              "          (dropout): Dropout(p=0.1, inplace=False)\n",
              "        )\n",
              "        (feedForward): FeedForwardNN(\n",
              "          (linear1): Linear(in_features=512, out_features=2048, bias=True)\n",
              "          (linear2): Linear(in_features=2048, out_features=512, bias=True)\n",
              "          (dropout): Dropout(p=0.1, inplace=False)\n",
              "        )\n",
              "        (encoderAttention): MultiHeadedAttention(\n",
              "          (qWeight): Linear(in_features=512, out_features=512, bias=True)\n",
              "          (kWeight): Linear(in_features=512, out_features=512, bias=True)\n",
              "          (vWeight): Linear(in_features=512, out_features=512, bias=True)\n",
              "          (finalWeight): Linear(in_features=512, out_features=512, bias=True)\n",
              "          (dropout): Dropout(p=0.1, inplace=False)\n",
              "        )\n",
              "        (sublayer1): Sublayer(\n",
              "          (function): MultiHeadedAttention(\n",
              "            (qWeight): Linear(in_features=512, out_features=512, bias=True)\n",
              "            (kWeight): Linear(in_features=512, out_features=512, bias=True)\n",
              "            (vWeight): Linear(in_features=512, out_features=512, bias=True)\n",
              "            (finalWeight): Linear(in_features=512, out_features=512, bias=True)\n",
              "            (dropout): Dropout(p=0.1, inplace=False)\n",
              "          )\n",
              "          (layerNorm): LayerNorm()\n",
              "          (dropout): Dropout(p=0.1, inplace=False)\n",
              "        )\n",
              "        (sublayer2): Sublayer(\n",
              "          (function): MultiHeadedAttention(\n",
              "            (qWeight): Linear(in_features=512, out_features=512, bias=True)\n",
              "            (kWeight): Linear(in_features=512, out_features=512, bias=True)\n",
              "            (vWeight): Linear(in_features=512, out_features=512, bias=True)\n",
              "            (finalWeight): Linear(in_features=512, out_features=512, bias=True)\n",
              "            (dropout): Dropout(p=0.1, inplace=False)\n",
              "          )\n",
              "          (layerNorm): LayerNorm()\n",
              "          (dropout): Dropout(p=0.1, inplace=False)\n",
              "        )\n",
              "        (sublayer3): Sublayer(\n",
              "          (function): FeedForwardNN(\n",
              "            (linear1): Linear(in_features=512, out_features=2048, bias=True)\n",
              "            (linear2): Linear(in_features=2048, out_features=512, bias=True)\n",
              "            (dropout): Dropout(p=0.1, inplace=False)\n",
              "          )\n",
              "          (layerNorm): LayerNorm()\n",
              "          (dropout): Dropout(p=0.1, inplace=False)\n",
              "        )\n",
              "      )\n",
              "    )\n",
              "  )\n",
              "  (generator): Generator(\n",
              "    (proj): Linear(in_features=512, out_features=10000, bias=True)\n",
              "  )\n",
              ")"
            ]
          },
          "metadata": {},
          "execution_count": 49
        }
      ],
      "source": [
        "model = WholeNetwork(512, 10000, 10000, PADDING_IDX)\n",
        "model.load_state_dict(torch.load(folder + \"model_2vocab_5_7\", map_location=device))\n",
        "model = model.to(device)\n",
        "model.eval()"
      ]
    },
    {
      "cell_type": "code",
      "execution_count": null,
      "metadata": {
        "id": "ctVcFr1TTc2Y",
        "outputId": "378f6454-44f4-43bf-907d-07bb36b8a7d4",
        "colab": {
          "base_uri": "https://localhost:8080/"
        }
      },
      "outputs": [
        {
          "output_type": "stream",
          "name": "stdout",
          "text": [
            "tensor([  30,   93, 1561,   57, 2705,   15,    1,    2,    2,    2,    2,    2,\n",
            "           2,    2,    2,    2], dtype=torch.int32)\n",
            "['Ein']\n",
            "['Ein Mann']\n",
            "['Ein Mann singt']\n",
            "['Ein Mann singt ein']\n",
            "['Ein Mann singt ein Lied']\n",
            "['Ein Mann singt ein Lied .']\n",
            "['Ein Mann singt ein Lied .']\n"
          ]
        }
      ],
      "source": [
        "predict(model, \"A man sings a song.\", 30)"
      ]
    }
  ],
  "metadata": {
    "accelerator": "GPU",
    "colab": {
      "provenance": [],
      "gpuType": "T4",
      "authorship_tag": "ABX9TyOKr+SfMCWhKd81J4cOQAxE",
      "include_colab_link": true
    },
    "gpuClass": "standard",
    "kernelspec": {
      "display_name": "Python 3",
      "name": "python3"
    },
    "language_info": {
      "name": "python"
    }
  },
  "nbformat": 4,
  "nbformat_minor": 0
}